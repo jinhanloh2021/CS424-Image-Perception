{
   "cells": [
      {
         "cell_type": "markdown",
         "metadata": {},
         "source": [
            "# SMU Logo bounding box detection\n",
            "Design an algorithm to identify all images of SMU from a set of random images. A bounding box should be drawn around the SMU logo whenever it appears in an image.\n",
            "\n",
            "When an SMU logo occurs in an image, a bounding box should be drawn around it. Logo identification will be evaluated by its F1 score."
         ]
      },
      {
         "cell_type": "markdown",
         "metadata": {},
         "source": [
            "### Setup\n",
            "Install dependencies\n",
            "```bash\n",
            "pip install -r requirements.txt\n",
            "\n",
            "```"
         ]
      },
      {
         "cell_type": "code",
         "execution_count": 1,
         "metadata": {},
         "outputs": [
            {
               "name": "stdout",
               "output_type": "stream",
               "text": [
                  "^C\n",
                  "Note: you may need to restart the kernel to use updated packages.\n"
               ]
            }
         ],
         "source": [
            "%pip install -r requirements.txt"
         ]
      },
      {
         "cell_type": "markdown",
         "metadata": {},
         "source": [
            "Import packages"
         ]
      },
      {
         "cell_type": "code",
         "execution_count": 1,
         "metadata": {},
         "outputs": [],
         "source": [
            "from ultralytics import YOLO\n",
            "from roboflow import Roboflow\n",
            "from PIL import Image\n",
            "from dotenv import load_dotenv\n",
            "from manage_model import update_path, convert_bbox_format, get_f1\n",
            "import os"
         ]
      },
      {
         "cell_type": "code",
         "execution_count": 2,
         "metadata": {},
         "outputs": [
            {
               "name": "stdout",
               "output_type": "stream",
               "text": [
                  "D:/Disk D Documents/CS424/Project SMU Logo/tree-type-detection-17\n"
               ]
            }
         ],
         "source": [
            "# Project settings\n",
            "load_dotenv()\n",
            "api_key = os.getenv('API_KEY')\n",
            "data_version = os.getenv('DATA_VERSION')\n",
            "path_to_project = os.getenv(\"PATH_TO_PROJECT\")\n",
            "\n",
            "# If on SMU Violet, can't load env variables. Write manually.\n",
            "\n",
            "path_to_data = f'{path_to_project}/tree-type-detection-{data_version}'\n",
            "print(path_to_data)"
         ]
      },
      {
         "cell_type": "markdown",
         "metadata": {},
         "source": [
            "Load dataset into workspace"
         ]
      },
      {
         "cell_type": "code",
         "execution_count": 3,
         "metadata": {},
         "outputs": [
            {
               "name": "stdout",
               "output_type": "stream",
               "text": [
                  "loading Roboflow workspace...\n",
                  "loading Roboflow project...\n",
                  "Data version: 17\n"
               ]
            }
         ],
         "source": [
            "rf = Roboflow(api_key=api_key)\n",
            "project = rf.workspace(\"tree-dataset-iftyz\").project(\"tree-type-detection-9rfxy\")\n",
            "dataset = project.version(data_version).download(\"yolov8\")\n",
            "print(f'Data version: {data_version}')"
         ]
      },
      {
         "cell_type": "markdown",
         "metadata": {},
         "source": [
            "Update test, train and val values in data.yaml\n",
            "This fixes a file not found bug"
         ]
      },
      {
         "cell_type": "code",
         "execution_count": 4,
         "metadata": {},
         "outputs": [],
         "source": [
            "update_path(data_version, path_to_project)"
         ]
      },
      {
         "cell_type": "code",
         "execution_count": 5,
         "metadata": {},
         "outputs": [],
         "source": [
            "# Use saved model\n",
            "model = YOLO('./saved_models/v17_epoch64.pt')"
         ]
      },
      {
         "cell_type": "markdown",
         "metadata": {},
         "source": [
            "After training, the model can be found in `/runs`. Save the `best.pt` model in the `/saved_models` folder."
         ]
      },
      {
         "cell_type": "markdown",
         "metadata": {},
         "source": [
            "### [Test](https://docs.ultralytics.com/modes/predict/#why-use-ultralytics-yolo-for-inference)\n",
            "Predict bounding boxes on test set"
         ]
      },
      {
         "cell_type": "code",
         "execution_count": 10,
         "metadata": {},
         "outputs": [
            {
               "name": "stderr",
               "output_type": "stream",
               "text": [
                  "\n",
                  "image 1/14 D:\\Disk D Documents\\CS424\\Project SMU Logo\\tree-type-detection-17\\..\\image_folder\\DSCF1293.JPG: 448x640 (no detections), 18.5ms\n",
                  "image 2/14 D:\\Disk D Documents\\CS424\\Project SMU Logo\\tree-type-detection-17\\..\\image_folder\\DSCF1319.JPG: 448x640 (no detections), 14.5ms\n",
                  "image 3/14 D:\\Disk D Documents\\CS424\\Project SMU Logo\\tree-type-detection-17\\..\\image_folder\\DSCF1677.JPG: 640x448 (no detections), 16.5ms\n",
                  "image 4/14 D:\\Disk D Documents\\CS424\\Project SMU Logo\\tree-type-detection-17\\..\\image_folder\\DSCF1708.JPG: 640x448 (no detections), 117.5ms\n",
                  "image 5/14 D:\\Disk D Documents\\CS424\\Project SMU Logo\\tree-type-detection-17\\..\\image_folder\\DSCF1722.JPG: 448x640 (no detections), 286.5ms\n",
                  "image 6/14 D:\\Disk D Documents\\CS424\\Project SMU Logo\\tree-type-detection-17\\..\\image_folder\\DSCF1761.JPG: 384x640 2 SMU-Logos, 15.5ms\n",
                  "image 7/14 D:\\Disk D Documents\\CS424\\Project SMU Logo\\tree-type-detection-17\\..\\image_folder\\DSCF1897.JPG: 640x544 3 SMU-Logos, 17.5ms\n",
                  "image 8/14 D:\\Disk D Documents\\CS424\\Project SMU Logo\\tree-type-detection-17\\..\\image_folder\\DSCF1912.JPG: 448x640 1 SMU-Logo, 15.5ms\n",
                  "image 9/14 D:\\Disk D Documents\\CS424\\Project SMU Logo\\tree-type-detection-17\\..\\image_folder\\DSCF1919.JPG: 448x640 1 SMU-Logo, 17.5ms\n",
                  "image 10/14 D:\\Disk D Documents\\CS424\\Project SMU Logo\\tree-type-detection-17\\..\\image_folder\\sample1.jpg: 480x640 1 SMU-Logo, 20.0ms\n",
                  "image 11/14 D:\\Disk D Documents\\CS424\\Project SMU Logo\\tree-type-detection-17\\..\\image_folder\\sample2.jpg: 640x640 1 SMU-Logo, 36.0ms\n",
                  "image 12/14 D:\\Disk D Documents\\CS424\\Project SMU Logo\\tree-type-detection-17\\..\\image_folder\\sample3.jpg: 448x640 2 SMU-Logos, 28.5ms\n",
                  "image 13/14 D:\\Disk D Documents\\CS424\\Project SMU Logo\\tree-type-detection-17\\..\\image_folder\\wrong1.jpg: 448x640 (no detections), 27.5ms\n",
                  "image 14/14 D:\\Disk D Documents\\CS424\\Project SMU Logo\\tree-type-detection-17\\..\\image_folder\\wrong2.jpg: 480x640 (no detections), 29.0ms\n",
                  "Speed: 3.0ms preprocess, 47.2ms inference, 2.4ms postprocess per image at shape (1, 3, 480, 640)\n"
               ]
            }
         ],
         "source": [
            "# Predict\n",
            "# prediction = model.predict(source=f\"{path_to_data}/test/images\", conf=0.25, iou=0.6)\n",
            "prediction = model.predict(source=f\"{path_to_data}/../image_folder\", conf=0.4, iou=0.6)"
         ]
      },
      {
         "cell_type": "markdown",
         "metadata": {},
         "source": [
            "Save images to `/predictions` folder if bounding box exists."
         ]
      },
      {
         "cell_type": "code",
         "execution_count": 11,
         "metadata": {},
         "outputs": [
            {
               "data": {
                  "text/plain": [
                     "7"
                  ]
               },
               "execution_count": 11,
               "metadata": {},
               "output_type": "execute_result"
            }
         ],
         "source": [
            "images = {}\n",
            "\n",
            "if not os.path.exists(f'{path_to_data}/../predictions'):\n",
            "    os.makedirs(f'{path_to_data}/../predictions')\n",
            "\n",
            "for i in range(0, len(prediction)):\n",
            "    if prediction[i].boxes.shape[0] >= 1:\n",
            "        im_rgb = Image.fromarray(prediction[i].plot(line_width=1)[..., ::-1])\n",
            "        images[i] = im_rgb  # RGB-order PIL image\n",
            "        boxes = prediction[i].boxes.xyxy.tolist()\n",
            "        image_name = prediction[i].path.split(\"\\\\\")[-1]\n",
            "        predicted_boxes = []\n",
            "        for i, b in enumerate(boxes):\n",
            "            predicted_box = convert_bbox_format(b, image_name)\n",
            "            predicted_boxes.append(predicted_box)\n",
            "\n",
            "            # Write labels\n",
            "            with open(f'{path_to_data}/../predictions/object_est.txt', 'a') as f:\n",
            "                f.write(', '.join(map(str, predicted_box)) + '\\n')\n",
            "        # Save images\n",
            "        im_rgb.save(fp=f'{path_to_data}/../predictions/{image_name}_labelled.jpg')\n",
            "\n",
            "len(images)"
         ]
      },
      {
         "cell_type": "code",
         "execution_count": null,
         "metadata": {},
         "outputs": [],
         "source": []
      }
   ],
   "metadata": {
      "kernelspec": {
         "display_name": "Python 3",
         "language": "python",
         "name": "python3"
      },
      "language_info": {
         "codemirror_mode": {
            "name": "ipython",
            "version": 3
         },
         "file_extension": ".py",
         "mimetype": "text/x-python",
         "name": "python",
         "nbconvert_exporter": "python",
         "pygments_lexer": "ipython3",
         "version": "3.11.2"
      }
   },
   "nbformat": 4,
   "nbformat_minor": 2
}

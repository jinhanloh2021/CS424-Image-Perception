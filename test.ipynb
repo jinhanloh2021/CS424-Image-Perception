{
 "cells": [
  {
   "cell_type": "code",
   "execution_count": null,
   "metadata": {},
   "outputs": [],
   "source": [
    "%pip install -r requirements.txt"
   ]
  },
  {
   "cell_type": "code",
   "execution_count": null,
   "metadata": {},
   "outputs": [],
   "source": [
    "from ultralytics import YOLO\n",
    "from PIL import Image\n",
    "from dotenv import load_dotenv\n",
    "import os"
   ]
  },
  {
   "cell_type": "code",
   "execution_count": null,
   "metadata": {},
   "outputs": [],
   "source": [
    "load_dotenv()\n",
    "path_to_test = f'{os.getenv(\"PATH_TO_TEST\")}'\n",
    "path_to_project = f'{os.getenv(\"PATH_TO_PROJECT\")}'\n",
    "output_folder_path = f'{path_to_project}\\\\resized_images'"
   ]
  },
  {
   "cell_type": "code",
   "execution_count": null,
   "metadata": {},
   "outputs": [],
   "source": [
    "newsize = (640, 640)\n",
    "\n",
    "for filename in os.listdir(path_to_test):\n",
    "    if filename.endswith(\".JPG\") or filename.endswith(\".jpg\"):  # Adjust extensions as needed\n",
    "        # Open the image\n",
    "        image_path = os.path.join(path_to_test, filename)\n",
    "        im = Image.open(image_path)\n",
    "        \n",
    "        # Resize the image\n",
    "        im_resized = im.resize(newsize)\n",
    "        \n",
    "        # Save the resized image\n",
    "        output_path = os.path.join(output_folder_path, filename)\n",
    "        im_resized.save(output_path)\n",
    "        print(f\"Resized image saved: {output_path}\")\n",
    "\n",
    "        # Optionally, you can display the resized image\n",
    "        # im_resized.show()\n"
   ]
  },
  {
   "cell_type": "code",
   "execution_count": null,
   "metadata": {},
   "outputs": [],
   "source": [
    "im = Image.open(f'{path_to_test}\\\\IMG_0754.JPG')\n",
    "newsize = (640, 640)\n",
    "im1 = im.resize(newsize)\n",
    "im1.show() "
   ]
  },
  {
   "cell_type": "code",
   "execution_count": null,
   "metadata": {},
   "outputs": [],
   "source": [
    "model = YOLO('./saved_models/best_violet.pt')"
   ]
  },
  {
   "cell_type": "code",
   "execution_count": null,
   "metadata": {},
   "outputs": [],
   "source": [
    "prediction = model.predict(source=output_folder_path, conf=0.1, iou=0.6, device='cpu')"
   ]
  },
  {
   "cell_type": "code",
   "execution_count": null,
   "metadata": {},
   "outputs": [],
   "source": [
    "images = {}\n",
    "for i in range(0, len(prediction)):\n",
    "    if prediction[i].boxes.shape[0] >= 1:\n",
    "        im_rgb = prediction[i].plot(line_width=1)\n",
    "        im_rgb = Image.fromarray(im_rgb[..., ::-1])  # RGB-order PIL image\n",
    "        images[i] = im_rgb\n",
    "        im_rgb.save(fp=f'{path_to_project}\\\\predictions\\\\result{i}.jpg')\n",
    "images"
   ]
  },
  {
   "cell_type": "code",
   "execution_count": null,
   "metadata": {},
   "outputs": [],
   "source": []
  }
 ],
 "metadata": {
  "kernelspec": {
   "display_name": "Python 3",
   "language": "python",
   "name": "python3"
  },
  "language_info": {
   "codemirror_mode": {
    "name": "ipython",
    "version": 3
   },
   "file_extension": ".py",
   "mimetype": "text/x-python",
   "name": "python",
   "nbconvert_exporter": "python",
   "pygments_lexer": "ipython3",
   "version": "3.11.5"
  }
 },
 "nbformat": 4,
 "nbformat_minor": 2
}

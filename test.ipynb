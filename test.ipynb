{
 "cells": [
  {
   "cell_type": "code",
   "execution_count": null,
   "metadata": {},
   "outputs": [],
   "source": [
    "%pip install -r requirements.txt"
   ]
  },
  {
   "cell_type": "code",
   "execution_count": 101,
   "metadata": {},
   "outputs": [],
   "source": [
    "from ultralytics import YOLO\n",
    "from PIL import Image\n",
    "from dotenv import load_dotenv\n",
    "import os"
   ]
  },
  {
   "cell_type": "code",
   "execution_count": 102,
   "metadata": {},
   "outputs": [],
   "source": [
    "load_dotenv()\n",
    "path_to_test = f'{os.getenv(\"PATH_TO_TEST\")}'\n",
    "path_to_project = f'{os.getenv(\"PATH_TO_PROJECT\")}'\n",
    "output_folder_path = f'{path_to_project}\\\\resized_images'"
   ]
  },
  {
   "cell_type": "code",
   "execution_count": 103,
   "metadata": {},
   "outputs": [],
   "source": [
    "newsize = (640, 640)\n",
    "\n",
    "for filename in os.listdir(path_to_test):\n",
    "    if filename.endswith(\".JPG\") or filename.endswith(\".jpg\"):  # Adjust extensions as needed\n",
    "        # Open the image\n",
    "        image_path = os.path.join(path_to_test, filename)\n",
    "        im = Image.open(image_path)\n",
    "        \n",
    "        # Resize the image\n",
    "        im_resized = im.resize(newsize)\n",
    "        \n",
    "        # Save the resized image\n",
    "        output_path = os.path.join(output_folder_path, filename)\n",
    "        im_resized.save(output_path)\n",
    "        # print(f\"Resized image saved: {output_path}\")\n",
    "\n",
    "        # Optionally, you can display the resized image\n",
    "        # im_resized.show()\n"
   ]
  },
  {
   "cell_type": "code",
   "execution_count": 104,
   "metadata": {},
   "outputs": [],
   "source": [
    "# im = Image.open(f'{path_to_test}\\\\IMG_0754.JPG')\n",
    "# newsize = (640, 640)\n",
    "# im1 = im.resize(newsize)\n",
    "# im1.show() "
   ]
  },
  {
   "cell_type": "code",
   "execution_count": 115,
   "metadata": {},
   "outputs": [],
   "source": [
    "model = YOLO('./saved_models/best_violet.pt')"
   ]
  },
  {
   "cell_type": "code",
   "execution_count": 113,
   "metadata": {},
   "outputs": [
    {
     "name": "stderr",
     "output_type": "stream",
     "text": [
      "\n",
      "image 1/111 C:\\Users\\WONG GINN MUNN\\OneDrive\\Desktop\\WGM folder\\SMU\\Year 3 Semester 2\\CS424\\Project\\Object Detection\\CS424-Image-Perception\\resized_images\\IMG_0750.JPG: 640x640 (no detections), 227.8ms\n",
      "image 2/111 C:\\Users\\WONG GINN MUNN\\OneDrive\\Desktop\\WGM folder\\SMU\\Year 3 Semester 2\\CS424\\Project\\Object Detection\\CS424-Image-Perception\\resized_images\\IMG_0751.JPG: 640x640 (no detections), 118.0ms\n",
      "image 3/111 C:\\Users\\WONG GINN MUNN\\OneDrive\\Desktop\\WGM folder\\SMU\\Year 3 Semester 2\\CS424\\Project\\Object Detection\\CS424-Image-Perception\\resized_images\\IMG_0752.JPG: 640x640 (no detections), 107.9ms\n",
      "image 4/111 C:\\Users\\WONG GINN MUNN\\OneDrive\\Desktop\\WGM folder\\SMU\\Year 3 Semester 2\\CS424\\Project\\Object Detection\\CS424-Image-Perception\\resized_images\\IMG_0753.JPG: 640x640 (no detections), 125.4ms\n",
      "image 5/111 C:\\Users\\WONG GINN MUNN\\OneDrive\\Desktop\\WGM folder\\SMU\\Year 3 Semester 2\\CS424\\Project\\Object Detection\\CS424-Image-Perception\\resized_images\\IMG_0754.JPG: 640x640 1 SMU-Logo, 133.3ms\n",
      "image 6/111 C:\\Users\\WONG GINN MUNN\\OneDrive\\Desktop\\WGM folder\\SMU\\Year 3 Semester 2\\CS424\\Project\\Object Detection\\CS424-Image-Perception\\resized_images\\IMG_0755.JPG: 640x640 (no detections), 130.2ms\n",
      "image 7/111 C:\\Users\\WONG GINN MUNN\\OneDrive\\Desktop\\WGM folder\\SMU\\Year 3 Semester 2\\CS424\\Project\\Object Detection\\CS424-Image-Perception\\resized_images\\IMG_0756.JPG: 640x640 (no detections), 123.8ms\n",
      "image 8/111 C:\\Users\\WONG GINN MUNN\\OneDrive\\Desktop\\WGM folder\\SMU\\Year 3 Semester 2\\CS424\\Project\\Object Detection\\CS424-Image-Perception\\resized_images\\IMG_0757.JPG: 640x640 (no detections), 125.9ms\n",
      "image 9/111 C:\\Users\\WONG GINN MUNN\\OneDrive\\Desktop\\WGM folder\\SMU\\Year 3 Semester 2\\CS424\\Project\\Object Detection\\CS424-Image-Perception\\resized_images\\IMG_0758.JPG: 640x640 (no detections), 123.1ms\n",
      "image 10/111 C:\\Users\\WONG GINN MUNN\\OneDrive\\Desktop\\WGM folder\\SMU\\Year 3 Semester 2\\CS424\\Project\\Object Detection\\CS424-Image-Perception\\resized_images\\IMG_0759.JPG: 640x640 (no detections), 135.2ms\n",
      "image 11/111 C:\\Users\\WONG GINN MUNN\\OneDrive\\Desktop\\WGM folder\\SMU\\Year 3 Semester 2\\CS424\\Project\\Object Detection\\CS424-Image-Perception\\resized_images\\IMG_0760.JPG: 640x640 (no detections), 126.4ms\n",
      "image 12/111 C:\\Users\\WONG GINN MUNN\\OneDrive\\Desktop\\WGM folder\\SMU\\Year 3 Semester 2\\CS424\\Project\\Object Detection\\CS424-Image-Perception\\resized_images\\IMG_0761.JPG: 640x640 (no detections), 141.0ms\n",
      "image 13/111 C:\\Users\\WONG GINN MUNN\\OneDrive\\Desktop\\WGM folder\\SMU\\Year 3 Semester 2\\CS424\\Project\\Object Detection\\CS424-Image-Perception\\resized_images\\IMG_0762.JPG: 640x640 (no detections), 128.7ms\n",
      "image 14/111 C:\\Users\\WONG GINN MUNN\\OneDrive\\Desktop\\WGM folder\\SMU\\Year 3 Semester 2\\CS424\\Project\\Object Detection\\CS424-Image-Perception\\resized_images\\IMG_0763.JPG: 640x640 (no detections), 131.7ms\n",
      "image 15/111 C:\\Users\\WONG GINN MUNN\\OneDrive\\Desktop\\WGM folder\\SMU\\Year 3 Semester 2\\CS424\\Project\\Object Detection\\CS424-Image-Perception\\resized_images\\IMG_0764.JPG: 640x640 (no detections), 131.2ms\n",
      "image 16/111 C:\\Users\\WONG GINN MUNN\\OneDrive\\Desktop\\WGM folder\\SMU\\Year 3 Semester 2\\CS424\\Project\\Object Detection\\CS424-Image-Perception\\resized_images\\IMG_0765.JPG: 640x640 (no detections), 116.9ms\n",
      "image 17/111 C:\\Users\\WONG GINN MUNN\\OneDrive\\Desktop\\WGM folder\\SMU\\Year 3 Semester 2\\CS424\\Project\\Object Detection\\CS424-Image-Perception\\resized_images\\IMG_0766.JPG: 640x640 (no detections), 146.7ms\n",
      "image 18/111 C:\\Users\\WONG GINN MUNN\\OneDrive\\Desktop\\WGM folder\\SMU\\Year 3 Semester 2\\CS424\\Project\\Object Detection\\CS424-Image-Perception\\resized_images\\IMG_0767.JPG: 640x640 (no detections), 128.8ms\n",
      "image 19/111 C:\\Users\\WONG GINN MUNN\\OneDrive\\Desktop\\WGM folder\\SMU\\Year 3 Semester 2\\CS424\\Project\\Object Detection\\CS424-Image-Perception\\resized_images\\IMG_0768.JPG: 640x640 (no detections), 117.3ms\n",
      "image 20/111 C:\\Users\\WONG GINN MUNN\\OneDrive\\Desktop\\WGM folder\\SMU\\Year 3 Semester 2\\CS424\\Project\\Object Detection\\CS424-Image-Perception\\resized_images\\IMG_0769.JPG: 640x640 (no detections), 118.3ms\n",
      "image 21/111 C:\\Users\\WONG GINN MUNN\\OneDrive\\Desktop\\WGM folder\\SMU\\Year 3 Semester 2\\CS424\\Project\\Object Detection\\CS424-Image-Perception\\resized_images\\IMG_0770.JPG: 640x640 (no detections), 109.3ms\n",
      "image 22/111 C:\\Users\\WONG GINN MUNN\\OneDrive\\Desktop\\WGM folder\\SMU\\Year 3 Semester 2\\CS424\\Project\\Object Detection\\CS424-Image-Perception\\resized_images\\IMG_0771.JPG: 640x640 (no detections), 129.3ms\n",
      "image 23/111 C:\\Users\\WONG GINN MUNN\\OneDrive\\Desktop\\WGM folder\\SMU\\Year 3 Semester 2\\CS424\\Project\\Object Detection\\CS424-Image-Perception\\resized_images\\IMG_0772.JPG: 640x640 (no detections), 115.9ms\n",
      "image 24/111 C:\\Users\\WONG GINN MUNN\\OneDrive\\Desktop\\WGM folder\\SMU\\Year 3 Semester 2\\CS424\\Project\\Object Detection\\CS424-Image-Perception\\resized_images\\IMG_0773.JPG: 640x640 (no detections), 124.9ms\n",
      "image 25/111 C:\\Users\\WONG GINN MUNN\\OneDrive\\Desktop\\WGM folder\\SMU\\Year 3 Semester 2\\CS424\\Project\\Object Detection\\CS424-Image-Perception\\resized_images\\IMG_0774.JPG: 640x640 (no detections), 116.8ms\n",
      "image 26/111 C:\\Users\\WONG GINN MUNN\\OneDrive\\Desktop\\WGM folder\\SMU\\Year 3 Semester 2\\CS424\\Project\\Object Detection\\CS424-Image-Perception\\resized_images\\IMG_0775.JPG: 640x640 (no detections), 113.4ms\n",
      "image 27/111 C:\\Users\\WONG GINN MUNN\\OneDrive\\Desktop\\WGM folder\\SMU\\Year 3 Semester 2\\CS424\\Project\\Object Detection\\CS424-Image-Perception\\resized_images\\IMG_0776.JPG: 640x640 (no detections), 107.9ms\n",
      "image 28/111 C:\\Users\\WONG GINN MUNN\\OneDrive\\Desktop\\WGM folder\\SMU\\Year 3 Semester 2\\CS424\\Project\\Object Detection\\CS424-Image-Perception\\resized_images\\IMG_0777.JPG: 640x640 (no detections), 123.9ms\n",
      "image 29/111 C:\\Users\\WONG GINN MUNN\\OneDrive\\Desktop\\WGM folder\\SMU\\Year 3 Semester 2\\CS424\\Project\\Object Detection\\CS424-Image-Perception\\resized_images\\IMG_0778.JPG: 640x640 (no detections), 121.8ms\n",
      "image 30/111 C:\\Users\\WONG GINN MUNN\\OneDrive\\Desktop\\WGM folder\\SMU\\Year 3 Semester 2\\CS424\\Project\\Object Detection\\CS424-Image-Perception\\resized_images\\IMG_0779.JPG: 640x640 (no detections), 110.1ms\n",
      "image 31/111 C:\\Users\\WONG GINN MUNN\\OneDrive\\Desktop\\WGM folder\\SMU\\Year 3 Semester 2\\CS424\\Project\\Object Detection\\CS424-Image-Perception\\resized_images\\IMG_0780.JPG: 640x640 (no detections), 118.2ms\n",
      "image 32/111 C:\\Users\\WONG GINN MUNN\\OneDrive\\Desktop\\WGM folder\\SMU\\Year 3 Semester 2\\CS424\\Project\\Object Detection\\CS424-Image-Perception\\resized_images\\IMG_0781.JPG: 640x640 (no detections), 117.4ms\n",
      "image 33/111 C:\\Users\\WONG GINN MUNN\\OneDrive\\Desktop\\WGM folder\\SMU\\Year 3 Semester 2\\CS424\\Project\\Object Detection\\CS424-Image-Perception\\resized_images\\IMG_0782.JPG: 640x640 (no detections), 115.2ms\n",
      "image 34/111 C:\\Users\\WONG GINN MUNN\\OneDrive\\Desktop\\WGM folder\\SMU\\Year 3 Semester 2\\CS424\\Project\\Object Detection\\CS424-Image-Perception\\resized_images\\IMG_0783.JPG: 640x640 (no detections), 118.7ms\n",
      "image 35/111 C:\\Users\\WONG GINN MUNN\\OneDrive\\Desktop\\WGM folder\\SMU\\Year 3 Semester 2\\CS424\\Project\\Object Detection\\CS424-Image-Perception\\resized_images\\IMG_0784.JPG: 640x640 (no detections), 124.5ms\n",
      "image 36/111 C:\\Users\\WONG GINN MUNN\\OneDrive\\Desktop\\WGM folder\\SMU\\Year 3 Semester 2\\CS424\\Project\\Object Detection\\CS424-Image-Perception\\resized_images\\IMG_0785.JPG: 640x640 (no detections), 123.4ms\n",
      "image 37/111 C:\\Users\\WONG GINN MUNN\\OneDrive\\Desktop\\WGM folder\\SMU\\Year 3 Semester 2\\CS424\\Project\\Object Detection\\CS424-Image-Perception\\resized_images\\IMG_0786.JPG: 640x640 (no detections), 118.5ms\n",
      "image 38/111 C:\\Users\\WONG GINN MUNN\\OneDrive\\Desktop\\WGM folder\\SMU\\Year 3 Semester 2\\CS424\\Project\\Object Detection\\CS424-Image-Perception\\resized_images\\IMG_0787.JPG: 640x640 (no detections), 119.3ms\n",
      "image 39/111 C:\\Users\\WONG GINN MUNN\\OneDrive\\Desktop\\WGM folder\\SMU\\Year 3 Semester 2\\CS424\\Project\\Object Detection\\CS424-Image-Perception\\resized_images\\IMG_0788.JPG: 640x640 (no detections), 130.2ms\n",
      "image 40/111 C:\\Users\\WONG GINN MUNN\\OneDrive\\Desktop\\WGM folder\\SMU\\Year 3 Semester 2\\CS424\\Project\\Object Detection\\CS424-Image-Perception\\resized_images\\IMG_0789.JPG: 640x640 (no detections), 123.3ms\n",
      "image 41/111 C:\\Users\\WONG GINN MUNN\\OneDrive\\Desktop\\WGM folder\\SMU\\Year 3 Semester 2\\CS424\\Project\\Object Detection\\CS424-Image-Perception\\resized_images\\IMG_0790.JPG: 640x640 (no detections), 207.3ms\n",
      "image 42/111 C:\\Users\\WONG GINN MUNN\\OneDrive\\Desktop\\WGM folder\\SMU\\Year 3 Semester 2\\CS424\\Project\\Object Detection\\CS424-Image-Perception\\resized_images\\IMG_0791.JPG: 640x640 (no detections), 119.5ms\n",
      "image 43/111 C:\\Users\\WONG GINN MUNN\\OneDrive\\Desktop\\WGM folder\\SMU\\Year 3 Semester 2\\CS424\\Project\\Object Detection\\CS424-Image-Perception\\resized_images\\IMG_0792.JPG: 640x640 (no detections), 120.9ms\n",
      "image 44/111 C:\\Users\\WONG GINN MUNN\\OneDrive\\Desktop\\WGM folder\\SMU\\Year 3 Semester 2\\CS424\\Project\\Object Detection\\CS424-Image-Perception\\resized_images\\IMG_0793.JPG: 640x640 (no detections), 119.3ms\n",
      "image 45/111 C:\\Users\\WONG GINN MUNN\\OneDrive\\Desktop\\WGM folder\\SMU\\Year 3 Semester 2\\CS424\\Project\\Object Detection\\CS424-Image-Perception\\resized_images\\IMG_0794.JPG: 640x640 (no detections), 107.6ms\n",
      "image 46/111 C:\\Users\\WONG GINN MUNN\\OneDrive\\Desktop\\WGM folder\\SMU\\Year 3 Semester 2\\CS424\\Project\\Object Detection\\CS424-Image-Perception\\resized_images\\IMG_0795.JPG: 640x640 (no detections), 128.9ms\n",
      "image 47/111 C:\\Users\\WONG GINN MUNN\\OneDrive\\Desktop\\WGM folder\\SMU\\Year 3 Semester 2\\CS424\\Project\\Object Detection\\CS424-Image-Perception\\resized_images\\IMG_0796.JPG: 640x640 (no detections), 120.4ms\n",
      "image 48/111 C:\\Users\\WONG GINN MUNN\\OneDrive\\Desktop\\WGM folder\\SMU\\Year 3 Semester 2\\CS424\\Project\\Object Detection\\CS424-Image-Perception\\resized_images\\IMG_0797.JPG: 640x640 (no detections), 133.2ms\n",
      "image 49/111 C:\\Users\\WONG GINN MUNN\\OneDrive\\Desktop\\WGM folder\\SMU\\Year 3 Semester 2\\CS424\\Project\\Object Detection\\CS424-Image-Perception\\resized_images\\IMG_0798.JPG: 640x640 (no detections), 109.7ms\n",
      "image 50/111 C:\\Users\\WONG GINN MUNN\\OneDrive\\Desktop\\WGM folder\\SMU\\Year 3 Semester 2\\CS424\\Project\\Object Detection\\CS424-Image-Perception\\resized_images\\IMG_0799.JPG: 640x640 (no detections), 123.6ms\n",
      "image 51/111 C:\\Users\\WONG GINN MUNN\\OneDrive\\Desktop\\WGM folder\\SMU\\Year 3 Semester 2\\CS424\\Project\\Object Detection\\CS424-Image-Perception\\resized_images\\IMG_0800.JPG: 640x640 (no detections), 131.6ms\n",
      "image 52/111 C:\\Users\\WONG GINN MUNN\\OneDrive\\Desktop\\WGM folder\\SMU\\Year 3 Semester 2\\CS424\\Project\\Object Detection\\CS424-Image-Perception\\resized_images\\IMG_0801.JPG: 640x640 (no detections), 134.1ms\n",
      "image 53/111 C:\\Users\\WONG GINN MUNN\\OneDrive\\Desktop\\WGM folder\\SMU\\Year 3 Semester 2\\CS424\\Project\\Object Detection\\CS424-Image-Perception\\resized_images\\IMG_0802.JPG: 640x640 (no detections), 132.5ms\n",
      "image 54/111 C:\\Users\\WONG GINN MUNN\\OneDrive\\Desktop\\WGM folder\\SMU\\Year 3 Semester 2\\CS424\\Project\\Object Detection\\CS424-Image-Perception\\resized_images\\IMG_0803.JPG: 640x640 (no detections), 130.9ms\n",
      "image 55/111 C:\\Users\\WONG GINN MUNN\\OneDrive\\Desktop\\WGM folder\\SMU\\Year 3 Semester 2\\CS424\\Project\\Object Detection\\CS424-Image-Perception\\resized_images\\IMG_0804.JPG: 640x640 (no detections), 119.3ms\n",
      "image 56/111 C:\\Users\\WONG GINN MUNN\\OneDrive\\Desktop\\WGM folder\\SMU\\Year 3 Semester 2\\CS424\\Project\\Object Detection\\CS424-Image-Perception\\resized_images\\IMG_0805.JPG: 640x640 (no detections), 126.4ms\n",
      "image 57/111 C:\\Users\\WONG GINN MUNN\\OneDrive\\Desktop\\WGM folder\\SMU\\Year 3 Semester 2\\CS424\\Project\\Object Detection\\CS424-Image-Perception\\resized_images\\IMG_0806.JPG: 640x640 (no detections), 135.1ms\n",
      "image 58/111 C:\\Users\\WONG GINN MUNN\\OneDrive\\Desktop\\WGM folder\\SMU\\Year 3 Semester 2\\CS424\\Project\\Object Detection\\CS424-Image-Perception\\resized_images\\IMG_0807.JPG: 640x640 (no detections), 154.9ms\n",
      "image 59/111 C:\\Users\\WONG GINN MUNN\\OneDrive\\Desktop\\WGM folder\\SMU\\Year 3 Semester 2\\CS424\\Project\\Object Detection\\CS424-Image-Perception\\resized_images\\IMG_0808.JPG: 640x640 (no detections), 116.2ms\n",
      "image 60/111 C:\\Users\\WONG GINN MUNN\\OneDrive\\Desktop\\WGM folder\\SMU\\Year 3 Semester 2\\CS424\\Project\\Object Detection\\CS424-Image-Perception\\resized_images\\IMG_0809.JPG: 640x640 (no detections), 114.4ms\n",
      "image 61/111 C:\\Users\\WONG GINN MUNN\\OneDrive\\Desktop\\WGM folder\\SMU\\Year 3 Semester 2\\CS424\\Project\\Object Detection\\CS424-Image-Perception\\resized_images\\IMG_0810.JPG: 640x640 (no detections), 119.8ms\n",
      "image 62/111 C:\\Users\\WONG GINN MUNN\\OneDrive\\Desktop\\WGM folder\\SMU\\Year 3 Semester 2\\CS424\\Project\\Object Detection\\CS424-Image-Perception\\resized_images\\IMG_0811.JPG: 640x640 (no detections), 110.5ms\n",
      "image 63/111 C:\\Users\\WONG GINN MUNN\\OneDrive\\Desktop\\WGM folder\\SMU\\Year 3 Semester 2\\CS424\\Project\\Object Detection\\CS424-Image-Perception\\resized_images\\IMG_0812.JPG: 640x640 (no detections), 109.9ms\n",
      "image 64/111 C:\\Users\\WONG GINN MUNN\\OneDrive\\Desktop\\WGM folder\\SMU\\Year 3 Semester 2\\CS424\\Project\\Object Detection\\CS424-Image-Perception\\resized_images\\IMG_0813.JPG: 640x640 (no detections), 111.3ms\n",
      "image 65/111 C:\\Users\\WONG GINN MUNN\\OneDrive\\Desktop\\WGM folder\\SMU\\Year 3 Semester 2\\CS424\\Project\\Object Detection\\CS424-Image-Perception\\resized_images\\IMG_0814.JPG: 640x640 (no detections), 116.5ms\n",
      "image 66/111 C:\\Users\\WONG GINN MUNN\\OneDrive\\Desktop\\WGM folder\\SMU\\Year 3 Semester 2\\CS424\\Project\\Object Detection\\CS424-Image-Perception\\resized_images\\IMG_0815.JPG: 640x640 (no detections), 131.2ms\n",
      "image 67/111 C:\\Users\\WONG GINN MUNN\\OneDrive\\Desktop\\WGM folder\\SMU\\Year 3 Semester 2\\CS424\\Project\\Object Detection\\CS424-Image-Perception\\resized_images\\IMG_0816.JPG: 640x640 (no detections), 109.3ms\n",
      "image 68/111 C:\\Users\\WONG GINN MUNN\\OneDrive\\Desktop\\WGM folder\\SMU\\Year 3 Semester 2\\CS424\\Project\\Object Detection\\CS424-Image-Perception\\resized_images\\IMG_0817.JPG: 640x640 (no detections), 111.0ms\n",
      "image 69/111 C:\\Users\\WONG GINN MUNN\\OneDrive\\Desktop\\WGM folder\\SMU\\Year 3 Semester 2\\CS424\\Project\\Object Detection\\CS424-Image-Perception\\resized_images\\IMG_0818.JPG: 640x640 (no detections), 115.9ms\n",
      "image 70/111 C:\\Users\\WONG GINN MUNN\\OneDrive\\Desktop\\WGM folder\\SMU\\Year 3 Semester 2\\CS424\\Project\\Object Detection\\CS424-Image-Perception\\resized_images\\IMG_0819.JPG: 640x640 (no detections), 127.4ms\n",
      "image 71/111 C:\\Users\\WONG GINN MUNN\\OneDrive\\Desktop\\WGM folder\\SMU\\Year 3 Semester 2\\CS424\\Project\\Object Detection\\CS424-Image-Perception\\resized_images\\IMG_0820.JPG: 640x640 (no detections), 129.2ms\n",
      "image 72/111 C:\\Users\\WONG GINN MUNN\\OneDrive\\Desktop\\WGM folder\\SMU\\Year 3 Semester 2\\CS424\\Project\\Object Detection\\CS424-Image-Perception\\resized_images\\IMG_0821.JPG: 640x640 (no detections), 105.5ms\n",
      "image 73/111 C:\\Users\\WONG GINN MUNN\\OneDrive\\Desktop\\WGM folder\\SMU\\Year 3 Semester 2\\CS424\\Project\\Object Detection\\CS424-Image-Perception\\resized_images\\IMG_0822.JPG: 640x640 (no detections), 115.7ms\n",
      "image 74/111 C:\\Users\\WONG GINN MUNN\\OneDrive\\Desktop\\WGM folder\\SMU\\Year 3 Semester 2\\CS424\\Project\\Object Detection\\CS424-Image-Perception\\resized_images\\IMG_0823.JPG: 640x640 (no detections), 109.7ms\n",
      "image 75/111 C:\\Users\\WONG GINN MUNN\\OneDrive\\Desktop\\WGM folder\\SMU\\Year 3 Semester 2\\CS424\\Project\\Object Detection\\CS424-Image-Perception\\resized_images\\IMG_0824.JPG: 640x640 1 SMU-Logo, 128.3ms\n",
      "image 76/111 C:\\Users\\WONG GINN MUNN\\OneDrive\\Desktop\\WGM folder\\SMU\\Year 3 Semester 2\\CS424\\Project\\Object Detection\\CS424-Image-Perception\\resized_images\\IMG_0825.JPG: 640x640 (no detections), 118.6ms\n",
      "image 77/111 C:\\Users\\WONG GINN MUNN\\OneDrive\\Desktop\\WGM folder\\SMU\\Year 3 Semester 2\\CS424\\Project\\Object Detection\\CS424-Image-Perception\\resized_images\\IMG_0826.JPG: 640x640 (no detections), 111.9ms\n",
      "image 78/111 C:\\Users\\WONG GINN MUNN\\OneDrive\\Desktop\\WGM folder\\SMU\\Year 3 Semester 2\\CS424\\Project\\Object Detection\\CS424-Image-Perception\\resized_images\\IMG_0827.JPG: 640x640 (no detections), 100.0ms\n",
      "image 79/111 C:\\Users\\WONG GINN MUNN\\OneDrive\\Desktop\\WGM folder\\SMU\\Year 3 Semester 2\\CS424\\Project\\Object Detection\\CS424-Image-Perception\\resized_images\\IMG_0828.JPG: 640x640 (no detections), 116.1ms\n",
      "image 80/111 C:\\Users\\WONG GINN MUNN\\OneDrive\\Desktop\\WGM folder\\SMU\\Year 3 Semester 2\\CS424\\Project\\Object Detection\\CS424-Image-Perception\\resized_images\\IMG_0829.JPG: 640x640 (no detections), 118.4ms\n",
      "image 81/111 C:\\Users\\WONG GINN MUNN\\OneDrive\\Desktop\\WGM folder\\SMU\\Year 3 Semester 2\\CS424\\Project\\Object Detection\\CS424-Image-Perception\\resized_images\\IMG_0830.JPG: 640x640 (no detections), 109.3ms\n",
      "image 82/111 C:\\Users\\WONG GINN MUNN\\OneDrive\\Desktop\\WGM folder\\SMU\\Year 3 Semester 2\\CS424\\Project\\Object Detection\\CS424-Image-Perception\\resized_images\\IMG_0831.JPG: 640x640 (no detections), 119.9ms\n",
      "image 83/111 C:\\Users\\WONG GINN MUNN\\OneDrive\\Desktop\\WGM folder\\SMU\\Year 3 Semester 2\\CS424\\Project\\Object Detection\\CS424-Image-Perception\\resized_images\\IMG_0832.JPG: 640x640 (no detections), 109.2ms\n",
      "image 84/111 C:\\Users\\WONG GINN MUNN\\OneDrive\\Desktop\\WGM folder\\SMU\\Year 3 Semester 2\\CS424\\Project\\Object Detection\\CS424-Image-Perception\\resized_images\\IMG_0833.JPG: 640x640 1 SMU-Logo, 117.3ms\n",
      "image 85/111 C:\\Users\\WONG GINN MUNN\\OneDrive\\Desktop\\WGM folder\\SMU\\Year 3 Semester 2\\CS424\\Project\\Object Detection\\CS424-Image-Perception\\resized_images\\IMG_0834.JPG: 640x640 (no detections), 100.3ms\n",
      "image 86/111 C:\\Users\\WONG GINN MUNN\\OneDrive\\Desktop\\WGM folder\\SMU\\Year 3 Semester 2\\CS424\\Project\\Object Detection\\CS424-Image-Perception\\resized_images\\IMG_0835.JPG: 640x640 (no detections), 113.0ms\n",
      "image 87/111 C:\\Users\\WONG GINN MUNN\\OneDrive\\Desktop\\WGM folder\\SMU\\Year 3 Semester 2\\CS424\\Project\\Object Detection\\CS424-Image-Perception\\resized_images\\IMG_0836.JPG: 640x640 (no detections), 116.8ms\n",
      "image 88/111 C:\\Users\\WONG GINN MUNN\\OneDrive\\Desktop\\WGM folder\\SMU\\Year 3 Semester 2\\CS424\\Project\\Object Detection\\CS424-Image-Perception\\resized_images\\IMG_0837.JPG: 640x640 (no detections), 107.6ms\n",
      "image 89/111 C:\\Users\\WONG GINN MUNN\\OneDrive\\Desktop\\WGM folder\\SMU\\Year 3 Semester 2\\CS424\\Project\\Object Detection\\CS424-Image-Perception\\resized_images\\IMG_0838.JPG: 640x640 (no detections), 121.9ms\n",
      "image 90/111 C:\\Users\\WONG GINN MUNN\\OneDrive\\Desktop\\WGM folder\\SMU\\Year 3 Semester 2\\CS424\\Project\\Object Detection\\CS424-Image-Perception\\resized_images\\IMG_0839.JPG: 640x640 (no detections), 118.6ms\n",
      "image 91/111 C:\\Users\\WONG GINN MUNN\\OneDrive\\Desktop\\WGM folder\\SMU\\Year 3 Semester 2\\CS424\\Project\\Object Detection\\CS424-Image-Perception\\resized_images\\IMG_0840.JPG: 640x640 (no detections), 121.7ms\n",
      "image 92/111 C:\\Users\\WONG GINN MUNN\\OneDrive\\Desktop\\WGM folder\\SMU\\Year 3 Semester 2\\CS424\\Project\\Object Detection\\CS424-Image-Perception\\resized_images\\IMG_0841.JPG: 640x640 (no detections), 130.0ms\n",
      "image 93/111 C:\\Users\\WONG GINN MUNN\\OneDrive\\Desktop\\WGM folder\\SMU\\Year 3 Semester 2\\CS424\\Project\\Object Detection\\CS424-Image-Perception\\resized_images\\IMG_0842.JPG: 640x640 (no detections), 112.2ms\n",
      "image 94/111 C:\\Users\\WONG GINN MUNN\\OneDrive\\Desktop\\WGM folder\\SMU\\Year 3 Semester 2\\CS424\\Project\\Object Detection\\CS424-Image-Perception\\resized_images\\IMG_0843.JPG: 640x640 (no detections), 110.5ms\n",
      "image 95/111 C:\\Users\\WONG GINN MUNN\\OneDrive\\Desktop\\WGM folder\\SMU\\Year 3 Semester 2\\CS424\\Project\\Object Detection\\CS424-Image-Perception\\resized_images\\IMG_0844.JPG: 640x640 (no detections), 118.4ms\n",
      "image 96/111 C:\\Users\\WONG GINN MUNN\\OneDrive\\Desktop\\WGM folder\\SMU\\Year 3 Semester 2\\CS424\\Project\\Object Detection\\CS424-Image-Perception\\resized_images\\IMG_0845.JPG: 640x640 (no detections), 112.0ms\n",
      "image 97/111 C:\\Users\\WONG GINN MUNN\\OneDrive\\Desktop\\WGM folder\\SMU\\Year 3 Semester 2\\CS424\\Project\\Object Detection\\CS424-Image-Perception\\resized_images\\IMG_0846.JPG: 640x640 (no detections), 129.5ms\n",
      "image 98/111 C:\\Users\\WONG GINN MUNN\\OneDrive\\Desktop\\WGM folder\\SMU\\Year 3 Semester 2\\CS424\\Project\\Object Detection\\CS424-Image-Perception\\resized_images\\IMG_0847.JPG: 640x640 (no detections), 116.7ms\n",
      "image 99/111 C:\\Users\\WONG GINN MUNN\\OneDrive\\Desktop\\WGM folder\\SMU\\Year 3 Semester 2\\CS424\\Project\\Object Detection\\CS424-Image-Perception\\resized_images\\IMG_0848.JPG: 640x640 (no detections), 99.2ms\n",
      "image 100/111 C:\\Users\\WONG GINN MUNN\\OneDrive\\Desktop\\WGM folder\\SMU\\Year 3 Semester 2\\CS424\\Project\\Object Detection\\CS424-Image-Perception\\resized_images\\IMG_0849.JPG: 640x640 (no detections), 121.0ms\n",
      "image 101/111 C:\\Users\\WONG GINN MUNN\\OneDrive\\Desktop\\WGM folder\\SMU\\Year 3 Semester 2\\CS424\\Project\\Object Detection\\CS424-Image-Perception\\resized_images\\IMG_0850.JPG: 640x640 (no detections), 120.4ms\n",
      "image 102/111 C:\\Users\\WONG GINN MUNN\\OneDrive\\Desktop\\WGM folder\\SMU\\Year 3 Semester 2\\CS424\\Project\\Object Detection\\CS424-Image-Perception\\resized_images\\IMG_0851.JPG: 640x640 (no detections), 119.1ms\n",
      "image 103/111 C:\\Users\\WONG GINN MUNN\\OneDrive\\Desktop\\WGM folder\\SMU\\Year 3 Semester 2\\CS424\\Project\\Object Detection\\CS424-Image-Perception\\resized_images\\IMG_0852.JPG: 640x640 (no detections), 115.8ms\n",
      "image 104/111 C:\\Users\\WONG GINN MUNN\\OneDrive\\Desktop\\WGM folder\\SMU\\Year 3 Semester 2\\CS424\\Project\\Object Detection\\CS424-Image-Perception\\resized_images\\IMG_0853.JPG: 640x640 (no detections), 109.5ms\n",
      "image 105/111 C:\\Users\\WONG GINN MUNN\\OneDrive\\Desktop\\WGM folder\\SMU\\Year 3 Semester 2\\CS424\\Project\\Object Detection\\CS424-Image-Perception\\resized_images\\IMG_0854.JPG: 640x640 (no detections), 117.4ms\n",
      "image 106/111 C:\\Users\\WONG GINN MUNN\\OneDrive\\Desktop\\WGM folder\\SMU\\Year 3 Semester 2\\CS424\\Project\\Object Detection\\CS424-Image-Perception\\resized_images\\IMG_0855.JPG: 640x640 (no detections), 120.0ms\n",
      "image 107/111 C:\\Users\\WONG GINN MUNN\\OneDrive\\Desktop\\WGM folder\\SMU\\Year 3 Semester 2\\CS424\\Project\\Object Detection\\CS424-Image-Perception\\resized_images\\IMG_0856.JPG: 640x640 (no detections), 124.5ms\n",
      "image 108/111 C:\\Users\\WONG GINN MUNN\\OneDrive\\Desktop\\WGM folder\\SMU\\Year 3 Semester 2\\CS424\\Project\\Object Detection\\CS424-Image-Perception\\resized_images\\IMG_0857.JPG: 640x640 (no detections), 117.4ms\n",
      "image 109/111 C:\\Users\\WONG GINN MUNN\\OneDrive\\Desktop\\WGM folder\\SMU\\Year 3 Semester 2\\CS424\\Project\\Object Detection\\CS424-Image-Perception\\resized_images\\IMG_0858.JPG: 640x640 (no detections), 130.5ms\n",
      "image 110/111 C:\\Users\\WONG GINN MUNN\\OneDrive\\Desktop\\WGM folder\\SMU\\Year 3 Semester 2\\CS424\\Project\\Object Detection\\CS424-Image-Perception\\resized_images\\IMG_0859.JPG: 640x640 (no detections), 120.8ms\n",
      "image 111/111 C:\\Users\\WONG GINN MUNN\\OneDrive\\Desktop\\WGM folder\\SMU\\Year 3 Semester 2\\CS424\\Project\\Object Detection\\CS424-Image-Perception\\resized_images\\IMG_0860.JPG: 640x640 (no detections), 116.9ms\n",
      "Speed: 2.8ms preprocess, 122.0ms inference, 0.6ms postprocess per image at shape (1, 3, 640, 640)\n"
     ]
    }
   ],
   "source": [
    "# temp = r'C:\\Users\\WONG GINN MUNN\\OneDrive\\Desktop\\WGM folder\\SMU\\Year 3 Semester 2\\CS424\\Project\\Object Detection\\CS424-Image-Perception\\SMU-Logo-Detection-3\\test\\images'\n",
    "prediction = model.predict(source=output_folder_path, conf=0.1, iou=0.6, device='cpu')"
   ]
  },
  {
   "cell_type": "code",
   "execution_count": 114,
   "metadata": {},
   "outputs": [
    {
     "data": {
      "text/plain": [
       "{4: <PIL.Image.Image image mode=RGB size=640x640>,\n",
       " 74: <PIL.Image.Image image mode=RGB size=640x640>,\n",
       " 83: <PIL.Image.Image image mode=RGB size=640x640>}"
      ]
     },
     "execution_count": 114,
     "metadata": {},
     "output_type": "execute_result"
    }
   ],
   "source": [
    "images = {}\n",
    "for i in range(0, len(prediction)):\n",
    "    if prediction[i].boxes.shape[0] >= 1:\n",
    "        im_rgb = prediction[i].plot(line_width=1)\n",
    "        im_rgb = Image.fromarray(im_rgb[..., ::-1])  # RGB-order PIL image\n",
    "        images[i] = im_rgb\n",
    "        im_rgb.save(fp=f'{path_to_project}\\\\predictions\\\\result{i}.jpg')\n",
    "images"
   ]
  },
  {
   "cell_type": "code",
   "execution_count": null,
   "metadata": {},
   "outputs": [],
   "source": []
  }
 ],
 "metadata": {
  "kernelspec": {
   "display_name": "Python 3",
   "language": "python",
   "name": "python3"
  },
  "language_info": {
   "codemirror_mode": {
    "name": "ipython",
    "version": 3
   },
   "file_extension": ".py",
   "mimetype": "text/x-python",
   "name": "python",
   "nbconvert_exporter": "python",
   "pygments_lexer": "ipython3",
   "version": "3.11.5"
  }
 },
 "nbformat": 4,
 "nbformat_minor": 2
}

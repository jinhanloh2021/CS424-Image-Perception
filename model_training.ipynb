{
   "cells": [
      {
         "cell_type": "markdown",
         "metadata": {},
         "source": [
            "# SMU Logo bounding box detection\n",
            "Design an algorithm to identify all images of SMU from a set of random images. A bounding box should be drawn around the SMU logo whenever it appears in an image.\n",
            "\n",
            "When an SMU logo occurs in an image, a bounding box should be drawn around it. Logo identification will be evaluated by its F1 score."
         ]
      },
      {
         "cell_type": "markdown",
         "metadata": {},
         "source": [
            "### Setup\n",
            "Install dependencies\n",
            "```bash\n",
            "pip install -r requirements.txt\n",
            "\n",
            "```"
         ]
      },
      {
         "cell_type": "code",
         "execution_count": 1,
         "metadata": {},
         "outputs": [
            {
               "name": "stdout",
               "output_type": "stream",
               "text": [
                  "^C\n",
                  "Note: you may need to restart the kernel to use updated packages.\n"
               ]
            }
         ],
         "source": [
            "%pip install -r requirements.txt"
         ]
      },
      {
         "cell_type": "markdown",
         "metadata": {},
         "source": [
            "Import packages"
         ]
      },
      {
         "cell_type": "code",
         "execution_count": 2,
         "metadata": {},
         "outputs": [
            {
               "name": "stdout",
               "output_type": "stream",
               "text": [
                  "Requirement already satisfied: ultralytics==8.0.196 in c:\\users\\han\\appdata\\local\\programs\\python\\python311\\lib\\site-packages (from -r requirements.txt (line 1)) (8.0.196)\n",
                  "Requirement already satisfied: roboflow in c:\\users\\han\\appdata\\local\\programs\\python\\python311\\lib\\site-packages (from -r requirements.txt (line 2)) (1.1.21)\n",
                  "Requirement already satisfied: python-dotenv in c:\\users\\han\\appdata\\local\\programs\\python\\python311\\lib\\site-packages (from -r requirements.txt (line 3)) (0.21.1)\n",
                  "Requirement already satisfied: matplotlib>=3.3.0 in c:\\users\\han\\appdata\\local\\programs\\python\\python311\\lib\\site-packages (from ultralytics==8.0.196->-r requirements.txt (line 1)) (3.7.0)\n",
                  "Requirement already satisfied: numpy>=1.22.2 in c:\\users\\han\\appdata\\local\\programs\\python\\python311\\lib\\site-packages (from ultralytics==8.0.196->-r requirements.txt (line 1)) (1.23.5)\n",
                  "Requirement already satisfied: opencv-python>=4.6.0 in c:\\users\\han\\appdata\\local\\programs\\python\\python311\\lib\\site-packages (from ultralytics==8.0.196->-r requirements.txt (line 1)) (4.9.0.80)\n",
                  "Requirement already satisfied: pillow>=7.1.2 in c:\\users\\han\\appdata\\local\\programs\\python\\python311\\lib\\site-packages (from ultralytics==8.0.196->-r requirements.txt (line 1)) (9.4.0)\n",
                  "Requirement already satisfied: pyyaml>=5.3.1 in c:\\users\\han\\appdata\\local\\programs\\python\\python311\\lib\\site-packages (from ultralytics==8.0.196->-r requirements.txt (line 1)) (6.0)\n",
                  "Requirement already satisfied: requests>=2.23.0 in c:\\users\\han\\appdata\\local\\programs\\python\\python311\\lib\\site-packages (from ultralytics==8.0.196->-r requirements.txt (line 1)) (2.28.2)\n",
                  "Requirement already satisfied: scipy>=1.4.1 in c:\\users\\han\\appdata\\local\\programs\\python\\python311\\lib\\site-packages (from ultralytics==8.0.196->-r requirements.txt (line 1)) (1.10.1)\n",
                  "Requirement already satisfied: torch>=1.8.0 in c:\\users\\han\\appdata\\local\\programs\\python\\python311\\lib\\site-packages (from ultralytics==8.0.196->-r requirements.txt (line 1)) (2.2.1+cu118)\n",
                  "Requirement already satisfied: torchvision>=0.9.0 in c:\\users\\han\\appdata\\local\\programs\\python\\python311\\lib\\site-packages (from ultralytics==8.0.196->-r requirements.txt (line 1)) (0.17.1+cu118)\n",
                  "Requirement already satisfied: tqdm>=4.64.0 in c:\\users\\han\\appdata\\local\\programs\\python\\python311\\lib\\site-packages (from ultralytics==8.0.196->-r requirements.txt (line 1)) (4.64.1)\n",
                  "Requirement already satisfied: pandas>=1.1.4 in c:\\users\\han\\appdata\\local\\programs\\python\\python311\\lib\\site-packages (from ultralytics==8.0.196->-r requirements.txt (line 1)) (1.5.3)\n",
                  "Requirement already satisfied: seaborn>=0.11.0 in c:\\users\\han\\appdata\\local\\programs\\python\\python311\\lib\\site-packages (from ultralytics==8.0.196->-r requirements.txt (line 1)) (0.13.2)\n",
                  "Requirement already satisfied: psutil in c:\\users\\han\\appdata\\roaming\\python\\python311\\site-packages (from ultralytics==8.0.196->-r requirements.txt (line 1)) (5.9.4)\n",
                  "Requirement already satisfied: py-cpuinfo in c:\\users\\han\\appdata\\local\\programs\\python\\python311\\lib\\site-packages (from ultralytics==8.0.196->-r requirements.txt (line 1)) (9.0.0)\n",
                  "Requirement already satisfied: thop>=0.1.1 in c:\\users\\han\\appdata\\local\\programs\\python\\python311\\lib\\site-packages (from ultralytics==8.0.196->-r requirements.txt (line 1)) (0.1.1.post2209072238)\n",
                  "Requirement already satisfied: certifi==2023.7.22 in c:\\users\\han\\appdata\\local\\programs\\python\\python311\\lib\\site-packages (from roboflow->-r requirements.txt (line 2)) (2023.7.22)\n",
                  "Requirement already satisfied: chardet==4.0.0 in c:\\users\\han\\appdata\\local\\programs\\python\\python311\\lib\\site-packages (from roboflow->-r requirements.txt (line 2)) (4.0.0)\n",
                  "Requirement already satisfied: cycler==0.10.0 in c:\\users\\han\\appdata\\local\\programs\\python\\python311\\lib\\site-packages (from roboflow->-r requirements.txt (line 2)) (0.10.0)\n",
                  "Requirement already satisfied: idna==2.10 in c:\\users\\han\\appdata\\local\\programs\\python\\python311\\lib\\site-packages (from roboflow->-r requirements.txt (line 2)) (2.10)\n",
                  "Requirement already satisfied: kiwisolver>=1.3.1 in c:\\users\\han\\appdata\\local\\programs\\python\\python311\\lib\\site-packages (from roboflow->-r requirements.txt (line 2)) (1.4.4)\n",
                  "Requirement already satisfied: opencv-python-headless==4.8.0.74 in c:\\users\\han\\appdata\\local\\programs\\python\\python311\\lib\\site-packages (from roboflow->-r requirements.txt (line 2)) (4.8.0.74)\n",
                  "Requirement already satisfied: python-dateutil in c:\\users\\han\\appdata\\local\\programs\\python\\python311\\lib\\site-packages (from roboflow->-r requirements.txt (line 2)) (2.8.2)\n",
                  "Requirement already satisfied: six in c:\\users\\han\\appdata\\local\\programs\\python\\python311\\lib\\site-packages (from roboflow->-r requirements.txt (line 2)) (1.16.0)\n",
                  "Requirement already satisfied: supervision in c:\\users\\han\\appdata\\local\\programs\\python\\python311\\lib\\site-packages (from roboflow->-r requirements.txt (line 2)) (0.18.0)\n",
                  "Requirement already satisfied: urllib3>=1.26.6 in c:\\users\\han\\appdata\\local\\programs\\python\\python311\\lib\\site-packages (from roboflow->-r requirements.txt (line 2)) (1.26.14)\n",
                  "Requirement already satisfied: requests-toolbelt in c:\\users\\han\\appdata\\local\\programs\\python\\python311\\lib\\site-packages (from roboflow->-r requirements.txt (line 2)) (1.0.0)\n",
                  "Requirement already satisfied: python-magic in c:\\users\\han\\appdata\\local\\programs\\python\\python311\\lib\\site-packages (from roboflow->-r requirements.txt (line 2)) (0.4.27)\n",
                  "Requirement already satisfied: contourpy>=1.0.1 in c:\\users\\han\\appdata\\local\\programs\\python\\python311\\lib\\site-packages (from matplotlib>=3.3.0->ultralytics==8.0.196->-r requirements.txt (line 1)) (1.0.7)\n",
                  "Requirement already satisfied: fonttools>=4.22.0 in c:\\users\\han\\appdata\\local\\programs\\python\\python311\\lib\\site-packages (from matplotlib>=3.3.0->ultralytics==8.0.196->-r requirements.txt (line 1)) (4.38.0)\n",
                  "Requirement already satisfied: packaging>=20.0 in c:\\users\\han\\appdata\\roaming\\python\\python311\\site-packages (from matplotlib>=3.3.0->ultralytics==8.0.196->-r requirements.txt (line 1)) (23.0)\n",
                  "Requirement already satisfied: pyparsing>=2.3.1 in c:\\users\\han\\appdata\\local\\programs\\python\\python311\\lib\\site-packages (from matplotlib>=3.3.0->ultralytics==8.0.196->-r requirements.txt (line 1)) (3.0.9)\n",
                  "Requirement already satisfied: pytz>=2020.1 in c:\\users\\han\\appdata\\local\\programs\\python\\python311\\lib\\site-packages (from pandas>=1.1.4->ultralytics==8.0.196->-r requirements.txt (line 1)) (2022.7.1)\n",
                  "Requirement already satisfied: charset-normalizer<4,>=2 in c:\\users\\han\\appdata\\local\\programs\\python\\python311\\lib\\site-packages (from requests>=2.23.0->ultralytics==8.0.196->-r requirements.txt (line 1)) (3.0.1)\n",
                  "Requirement already satisfied: filelock in c:\\users\\han\\appdata\\local\\programs\\python\\python311\\lib\\site-packages (from torch>=1.8.0->ultralytics==8.0.196->-r requirements.txt (line 1)) (3.13.1)\n",
                  "Requirement already satisfied: typing-extensions>=4.8.0 in c:\\users\\han\\appdata\\local\\programs\\python\\python311\\lib\\site-packages (from torch>=1.8.0->ultralytics==8.0.196->-r requirements.txt (line 1)) (4.10.0)\n",
                  "Requirement already satisfied: sympy in c:\\users\\han\\appdata\\local\\programs\\python\\python311\\lib\\site-packages (from torch>=1.8.0->ultralytics==8.0.196->-r requirements.txt (line 1)) (1.12)\n",
                  "Requirement already satisfied: networkx in c:\\users\\han\\appdata\\local\\programs\\python\\python311\\lib\\site-packages (from torch>=1.8.0->ultralytics==8.0.196->-r requirements.txt (line 1)) (3.2.1)\n",
                  "Requirement already satisfied: jinja2 in c:\\users\\han\\appdata\\local\\programs\\python\\python311\\lib\\site-packages (from torch>=1.8.0->ultralytics==8.0.196->-r requirements.txt (line 1)) (3.1.2)\n",
                  "Requirement already satisfied: fsspec in c:\\users\\han\\appdata\\local\\programs\\python\\python311\\lib\\site-packages (from torch>=1.8.0->ultralytics==8.0.196->-r requirements.txt (line 1)) (2024.2.0)\n",
                  "Requirement already satisfied: colorama in c:\\users\\han\\appdata\\roaming\\python\\python311\\site-packages (from tqdm>=4.64.0->ultralytics==8.0.196->-r requirements.txt (line 1)) (0.4.6)\n",
                  "Requirement already satisfied: defusedxml<0.8.0,>=0.7.1 in c:\\users\\han\\appdata\\local\\programs\\python\\python311\\lib\\site-packages (from supervision->roboflow->-r requirements.txt (line 2)) (0.7.1)\n",
                  "Requirement already satisfied: MarkupSafe>=2.0 in c:\\users\\han\\appdata\\local\\programs\\python\\python311\\lib\\site-packages (from jinja2->torch>=1.8.0->ultralytics==8.0.196->-r requirements.txt (line 1)) (2.1.2)\n",
                  "Requirement already satisfied: mpmath>=0.19 in c:\\users\\han\\appdata\\local\\programs\\python\\python311\\lib\\site-packages (from sympy->torch>=1.8.0->ultralytics==8.0.196->-r requirements.txt (line 1)) (1.3.0)\n"
               ]
            }
         ],
         "source": [
            "from ultralytics import YOLO\n",
            "from roboflow import Roboflow\n",
            "from PIL import Image\n",
            "from dotenv import load_dotenv\n",
            "from manage_model import update_path, convert_bbox_format, get_f1\n",
            "import os"
         ]
      },
      {
         "cell_type": "markdown",
         "metadata": {},
         "source": [
            "Load environment variables using dotenv\n",
            "- `API_KEY` - API Key for Roboflow dataset\n",
            "- `DATA_VERSION` - Version of dataset used\n",
            "- `PATH_TO_DATA` - Absolute file path to the \"SMU-Logo-Detection-1\" folder. See .env.example for example"
         ]
      },
      {
         "cell_type": "code",
         "execution_count": 3,
         "metadata": {},
         "outputs": [
            {
               "name": "stdout",
               "output_type": "stream",
               "text": [
                  "D:/Disk D Documents/CS424/Project SMU Logo/tree-type-detection-17\n"
               ]
            }
         ],
         "source": [
            "# Project settings\n",
            "load_dotenv()\n",
            "api_key = os.getenv('API_KEY')\n",
            "data_version = os.getenv('DATA_VERSION')\n",
            "path_to_project = os.getenv(\"PATH_TO_PROJECT\")\n",
            "\n",
            "# If on SMU Violet, can't load env variables. Write manually.\n",
            "\n",
            "path_to_data = f'{path_to_project}/tree-type-detection-{data_version}'\n",
            "print(path_to_data)"
         ]
      },
      {
         "cell_type": "markdown",
         "metadata": {},
         "source": [
            "Load dataset into workspace"
         ]
      },
      {
         "cell_type": "code",
         "execution_count": 4,
         "metadata": {},
         "outputs": [
            {
               "name": "stdout",
               "output_type": "stream",
               "text": [
                  "loading Roboflow workspace...\n",
                  "loading Roboflow project...\n"
               ]
            },
            {
               "name": "stderr",
               "output_type": "stream",
               "text": [
                  "Downloading Dataset Version Zip in tree-type-detection-17 to yolov8:: 100%|██████████| 482848/482848 [00:53<00:00, 9039.59it/s] "
               ]
            },
            {
               "name": "stdout",
               "output_type": "stream",
               "text": [
                  "\n"
               ]
            },
            {
               "name": "stderr",
               "output_type": "stream",
               "text": [
                  "\n",
                  "Extracting Dataset Version Zip to tree-type-detection-17 in yolov8:: 100%|██████████| 17548/17548 [00:13<00:00, 1286.65it/s]\n"
               ]
            },
            {
               "name": "stdout",
               "output_type": "stream",
               "text": [
                  "Data version: 17\n"
               ]
            }
         ],
         "source": [
            "rf = Roboflow(api_key=api_key)\n",
            "project = rf.workspace(\"tree-dataset-iftyz\").project(\"tree-type-detection-9rfxy\")\n",
            "dataset = project.version(data_version).download(\"yolov8\")\n",
            "print(f'Data version: {data_version}')"
         ]
      },
      {
         "cell_type": "markdown",
         "metadata": {},
         "source": [
            "Update test, train and val values in data.yaml\n",
            "This fixes a file not found bug"
         ]
      },
      {
         "cell_type": "code",
         "execution_count": 5,
         "metadata": {},
         "outputs": [],
         "source": [
            "update_path(data_version, path_to_project)"
         ]
      },
      {
         "cell_type": "markdown",
         "metadata": {},
         "source": [
            "### [Training](https://docs.ultralytics.com/modes/train/#train-settings)\n",
            "Use a trained model, saved in `/saved_models`, or train a model.\n",
            "A pre-trained [model](https://github.com/ultralytics/ultralytics?tab=readme-ov-file) `yolov8n.pt` from Ultralytics should be used. Tune hyper-params such as learning rate and epochs.\n",
            "\n",
            "If there is file not found error, check the `FILE_TO_PATH` env variable, and make sure that you've updated the `data.yml` to the absolute file path."
         ]
      },
      {
         "cell_type": "code",
         "execution_count": 5,
         "metadata": {},
         "outputs": [
            {
               "name": "stderr",
               "output_type": "stream",
               "text": [
                  "New https://pypi.org/project/ultralytics/8.1.24 available  Update with 'pip install -U ultralytics'\n",
                  "Ultralytics YOLOv8.0.196  Python-3.11.2 torch-2.2.1+cu118 CUDA:0 (NVIDIA GeForce GTX 1660 SUPER, 6144MiB)\n",
                  "\u001b[34m\u001b[1mengine\\trainer: \u001b[0mtask=detect, mode=train, model=yolov8s.pt, data=D:/Disk D Documents/CS424/Project SMU Logo/tree-type-detection-9/data.yaml, epochs=16, patience=2, batch=16, imgsz=640, save=True, save_period=-1, cache=False, device=0, workers=8, project=None, name=None, exist_ok=False, pretrained=True, optimizer=auto, verbose=True, seed=0, deterministic=True, single_cls=False, rect=False, cos_lr=False, close_mosaic=10, resume=False, amp=False, fraction=1.0, profile=False, freeze=None, overlap_mask=True, mask_ratio=4, dropout=0.0, val=True, split=val, save_json=False, save_hybrid=False, conf=None, iou=0.7, max_det=300, half=False, dnn=False, plots=True, source=None, show=False, save_txt=False, save_conf=False, save_crop=False, show_labels=True, show_conf=True, vid_stride=1, stream_buffer=False, line_width=None, visualize=False, augment=False, agnostic_nms=False, classes=None, retina_masks=False, boxes=True, format=torchscript, keras=False, optimize=False, int8=False, dynamic=False, simplify=False, opset=None, workspace=4, nms=False, lr0=0.01, lrf=0.01, momentum=0.937, weight_decay=0.0005, warmup_epochs=3.0, warmup_momentum=0.8, warmup_bias_lr=0.1, box=7.5, cls=0.5, dfl=1.5, pose=12.0, kobj=1.0, label_smoothing=0.0, nbs=64, hsv_h=0.015, hsv_s=0.7, hsv_v=0.4, degrees=0.0, translate=0.1, scale=0.5, shear=0.0, perspective=0.0, flipud=0.0, fliplr=0.5, mosaic=1.0, mixup=0.0, copy_paste=0.0, cfg=None, tracker=botsort.yaml, save_dir=runs\\detect\\train6\n",
                  "Overriding model.yaml nc=80 with nc=1\n",
                  "\n",
                  "                   from  n    params  module                                       arguments                     \n",
                  "  0                  -1  1       928  ultralytics.nn.modules.conv.Conv             [3, 32, 3, 2]                 \n",
                  "  1                  -1  1     18560  ultralytics.nn.modules.conv.Conv             [32, 64, 3, 2]                \n",
                  "  2                  -1  1     29056  ultralytics.nn.modules.block.C2f             [64, 64, 1, True]             \n",
                  "  3                  -1  1     73984  ultralytics.nn.modules.conv.Conv             [64, 128, 3, 2]               \n",
                  "  4                  -1  2    197632  ultralytics.nn.modules.block.C2f             [128, 128, 2, True]           \n",
                  "  5                  -1  1    295424  ultralytics.nn.modules.conv.Conv             [128, 256, 3, 2]              \n",
                  "  6                  -1  2    788480  ultralytics.nn.modules.block.C2f             [256, 256, 2, True]           \n",
                  "  7                  -1  1   1180672  ultralytics.nn.modules.conv.Conv             [256, 512, 3, 2]              \n",
                  "  8                  -1  1   1838080  ultralytics.nn.modules.block.C2f             [512, 512, 1, True]           \n",
                  "  9                  -1  1    656896  ultralytics.nn.modules.block.SPPF            [512, 512, 5]                 \n",
                  " 10                  -1  1         0  torch.nn.modules.upsampling.Upsample         [None, 2, 'nearest']          \n",
                  " 11             [-1, 6]  1         0  ultralytics.nn.modules.conv.Concat           [1]                           \n",
                  " 12                  -1  1    591360  ultralytics.nn.modules.block.C2f             [768, 256, 1]                 \n",
                  " 13                  -1  1         0  torch.nn.modules.upsampling.Upsample         [None, 2, 'nearest']          \n",
                  " 14             [-1, 4]  1         0  ultralytics.nn.modules.conv.Concat           [1]                           \n",
                  " 15                  -1  1    148224  ultralytics.nn.modules.block.C2f             [384, 128, 1]                 \n",
                  " 16                  -1  1    147712  ultralytics.nn.modules.conv.Conv             [128, 128, 3, 2]              \n",
                  " 17            [-1, 12]  1         0  ultralytics.nn.modules.conv.Concat           [1]                           \n",
                  " 18                  -1  1    493056  ultralytics.nn.modules.block.C2f             [384, 256, 1]                 \n",
                  " 19                  -1  1    590336  ultralytics.nn.modules.conv.Conv             [256, 256, 3, 2]              \n",
                  " 20             [-1, 9]  1         0  ultralytics.nn.modules.conv.Concat           [1]                           \n",
                  " 21                  -1  1   1969152  ultralytics.nn.modules.block.C2f             [768, 512, 1]                 \n",
                  " 22        [15, 18, 21]  1   2116435  ultralytics.nn.modules.head.Detect           [1, [128, 256, 512]]          \n",
                  "Model summary: 225 layers, 11135987 parameters, 11135971 gradients, 28.6 GFLOPs\n",
                  "\n",
                  "Transferred 349/355 items from pretrained weights\n",
                  "\u001b[34m\u001b[1mTensorBoard: \u001b[0mStart with 'tensorboard --logdir runs\\detect\\train6', view at http://localhost:6006/\n",
                  "Freezing layer 'model.22.dfl.conv.weight'\n",
                  "\u001b[34m\u001b[1mtrain: \u001b[0mScanning D:\\Disk D Documents\\CS424\\Project SMU Logo\\tree-type-detection-9\\train\\labels... 3455 images, 2216 backgrounds, 0 corrupt: 100%|██████████| 3455/3455 [00:11<00:00, 296.19it/s]\n",
                  "\u001b[34m\u001b[1mtrain: \u001b[0mNew cache created: D:\\Disk D Documents\\CS424\\Project SMU Logo\\tree-type-detection-9\\train\\labels.cache\n",
                  "\u001b[34m\u001b[1mval: \u001b[0mScanning D:\\Disk D Documents\\CS424\\Project SMU Logo\\tree-type-detection-9\\valid\\labels... 764 images, 635 backgrounds, 0 corrupt: 100%|██████████| 764/764 [00:03<00:00, 235.77it/s]\n",
                  "\u001b[34m\u001b[1mval: \u001b[0mNew cache created: D:\\Disk D Documents\\CS424\\Project SMU Logo\\tree-type-detection-9\\valid\\labels.cache\n",
                  "Plotting labels to runs\\detect\\train6\\labels.jpg... \n",
                  "\u001b[34m\u001b[1moptimizer:\u001b[0m 'optimizer=auto' found, ignoring 'lr0=0.01' and 'momentum=0.937' and determining best 'optimizer', 'lr0' and 'momentum' automatically... \n",
                  "\u001b[34m\u001b[1moptimizer:\u001b[0m AdamW(lr=0.002, momentum=0.9) with parameter groups 57 weight(decay=0.0), 64 weight(decay=0.0005), 63 bias(decay=0.0)\n",
                  "Image sizes 640 train, 640 val\n",
                  "Using 4 dataloader workers\n",
                  "Logging results to \u001b[1mruns\\detect\\train6\u001b[0m\n",
                  "Starting training for 16 epochs...\n",
                  "\n",
                  "      Epoch    GPU_mem   box_loss   cls_loss   dfl_loss  Instances       Size\n",
                  "       1/16      6.72G      1.753      5.946      1.246          9        640: 100%|██████████| 216/216 [06:47<00:00,  1.89s/it]\n",
                  "                 Class     Images  Instances      Box(P          R      mAP50  mAP50-95): 100%|██████████| 24/24 [00:38<00:00,  1.59s/it]\n",
                  "                   all        764        149      0.702      0.416      0.438      0.241\n",
                  "\n",
                  "      Epoch    GPU_mem   box_loss   cls_loss   dfl_loss  Instances       Size\n",
                  "       2/16      6.77G      1.896      1.807      1.342          3        640: 100%|██████████| 216/216 [06:37<00:00,  1.84s/it]\n",
                  "                 Class     Images  Instances      Box(P          R      mAP50  mAP50-95): 100%|██████████| 24/24 [00:32<00:00,  1.37s/it]\n",
                  "                   all        764        149      0.769      0.443      0.473      0.266\n",
                  "\n",
                  "      Epoch    GPU_mem   box_loss   cls_loss   dfl_loss  Instances       Size\n",
                  "       3/16      6.77G      1.854      1.782      1.307          3        640: 100%|██████████| 216/216 [04:27<00:00,  1.24s/it]\n",
                  "                 Class     Images  Instances      Box(P          R      mAP50  mAP50-95): 100%|██████████| 24/24 [00:38<00:00,  1.61s/it]\n",
                  "                   all        764        149      0.844       0.45      0.507      0.302\n",
                  "\n",
                  "      Epoch    GPU_mem   box_loss   cls_loss   dfl_loss  Instances       Size\n",
                  "       4/16      6.77G      1.782      1.615      1.303         12        640: 100%|██████████| 216/216 [04:32<00:00,  1.26s/it]\n",
                  "                 Class     Images  Instances      Box(P          R      mAP50  mAP50-95): 100%|██████████| 24/24 [00:36<00:00,  1.54s/it]\n",
                  "                   all        764        149      0.751      0.537      0.556       0.32\n",
                  "\n",
                  "      Epoch    GPU_mem   box_loss   cls_loss   dfl_loss  Instances       Size\n",
                  "       5/16      6.77G      1.681      1.444       1.27          9        640: 100%|██████████| 216/216 [04:29<00:00,  1.25s/it]\n",
                  "                 Class     Images  Instances      Box(P          R      mAP50  mAP50-95): 100%|██████████| 24/24 [00:38<00:00,  1.60s/it]\n",
                  "                   all        764        149      0.827      0.503      0.558       0.29\n",
                  "\n",
                  "      Epoch    GPU_mem   box_loss   cls_loss   dfl_loss  Instances       Size\n",
                  "       6/16      6.77G      1.579      1.263      1.196         15        640: 100%|██████████| 216/216 [04:47<00:00,  1.33s/it]\n",
                  "                 Class     Images  Instances      Box(P          R      mAP50  mAP50-95): 100%|██████████| 24/24 [00:36<00:00,  1.54s/it]\n",
                  "                   all        764        149      0.831      0.629      0.668      0.423\n",
                  "Closing dataloader mosaic\n",
                  "\n",
                  "      Epoch    GPU_mem   box_loss   cls_loss   dfl_loss  Instances       Size\n",
                  "       7/16      6.77G      1.533      1.175      1.218          3        640: 100%|██████████| 216/216 [04:05<00:00,  1.14s/it]\n",
                  "                 Class     Images  Instances      Box(P          R      mAP50  mAP50-95): 100%|██████████| 24/24 [00:34<00:00,  1.42s/it]\n",
                  "                   all        764        149      0.832      0.584      0.644      0.391\n",
                  "\n",
                  "      Epoch    GPU_mem   box_loss   cls_loss   dfl_loss  Instances       Size\n",
                  "       8/16      6.77G      1.455       1.14      1.176          7        640: 100%|██████████| 216/216 [04:10<00:00,  1.16s/it]\n",
                  "                 Class     Images  Instances      Box(P          R      mAP50  mAP50-95): 100%|██████████| 24/24 [00:32<00:00,  1.36s/it]\n",
                  "                   all        764        149       0.89      0.596      0.672      0.424\n",
                  "\n",
                  "      Epoch    GPU_mem   box_loss   cls_loss   dfl_loss  Instances       Size\n",
                  "       9/16      6.77G      1.435      1.092      1.141          7        640: 100%|██████████| 216/216 [04:38<00:00,  1.29s/it]\n",
                  "                 Class     Images  Instances      Box(P          R      mAP50  mAP50-95): 100%|██████████| 24/24 [00:33<00:00,  1.41s/it]\n",
                  "                   all        764        149      0.826      0.611      0.644      0.411\n",
                  "\n",
                  "      Epoch    GPU_mem   box_loss   cls_loss   dfl_loss  Instances       Size\n",
                  "      10/16      6.77G      1.321     0.9063      1.092          7        640: 100%|██████████| 216/216 [04:40<00:00,  1.30s/it]\n",
                  "                 Class     Images  Instances      Box(P          R      mAP50  mAP50-95): 100%|██████████| 24/24 [00:32<00:00,  1.35s/it]\n",
                  "                   all        764        149      0.835      0.677      0.684      0.458\n",
                  "\n",
                  "      Epoch    GPU_mem   box_loss   cls_loss   dfl_loss  Instances       Size\n",
                  "      11/16      6.77G      1.272     0.8735      1.076          6        640: 100%|██████████| 216/216 [04:44<00:00,  1.32s/it]\n",
                  "                 Class     Images  Instances      Box(P          R      mAP50  mAP50-95): 100%|██████████| 24/24 [00:33<00:00,  1.40s/it]\n",
                  "                   all        764        149      0.932      0.604      0.689      0.509\n",
                  "\n",
                  "      Epoch    GPU_mem   box_loss   cls_loss   dfl_loss  Instances       Size\n",
                  "      12/16      6.77G      1.229     0.8419      1.055          9        640: 100%|██████████| 216/216 [05:32<00:00,  1.54s/it]\n",
                  "                 Class     Images  Instances      Box(P          R      mAP50  mAP50-95): 100%|██████████| 24/24 [00:32<00:00,  1.36s/it]\n",
                  "                   all        764        149      0.896      0.658       0.71      0.471\n",
                  "\n",
                  "      Epoch    GPU_mem   box_loss   cls_loss   dfl_loss  Instances       Size\n",
                  "      13/16      6.77G       1.17      0.756      1.024          3        640: 100%|██████████| 216/216 [05:29<00:00,  1.52s/it]\n",
                  "                 Class     Images  Instances      Box(P          R      mAP50  mAP50-95): 100%|██████████| 24/24 [00:33<00:00,  1.40s/it]\n",
                  "                   all        764        149      0.867      0.664       0.72        0.5\n",
                  "Stopping training early as no improvement observed in last 2 epochs. Best results observed at epoch 11, best model saved as best.pt.\n",
                  "To update EarlyStopping(patience=2) pass a new patience value, i.e. `patience=300` or use `patience=0` to disable EarlyStopping.\n",
                  "\n",
                  "13 epochs completed in 1.222 hours.\n",
                  "Optimizer stripped from runs\\detect\\train6\\weights\\last.pt, 22.5MB\n",
                  "Optimizer stripped from runs\\detect\\train6\\weights\\best.pt, 22.5MB\n",
                  "\n",
                  "Validating runs\\detect\\train6\\weights\\best.pt...\n",
                  "Ultralytics YOLOv8.0.196  Python-3.11.2 torch-2.2.1+cu118 CUDA:0 (NVIDIA GeForce GTX 1660 SUPER, 6144MiB)\n",
                  "Model summary (fused): 168 layers, 11125971 parameters, 0 gradients, 28.4 GFLOPs\n",
                  "                 Class     Images  Instances      Box(P          R      mAP50  mAP50-95): 100%|██████████| 24/24 [00:31<00:00,  1.33s/it]\n",
                  "                   all        764        149      0.932      0.604      0.689      0.509\n",
                  "Speed: 0.3ms preprocess, 39.0ms inference, 0.0ms loss, 0.8ms postprocess per image\n",
                  "Results saved to \u001b[1mruns\\detect\\train6\u001b[0m\n"
               ]
            }
         ],
         "source": [
            "# # Train model (Laptop)\n",
            "# model = YOLO('yolov8n.pt') # pre-trained yolov8 nano\n",
            "# results = model.train(data=f'{path_to_data}/data.yaml', epochs=10)\n",
            "\n",
            "# # Train model (SMU GPU)\n",
            "model = YOLO('yolov8s.pt')\n",
            "results = model.train(data=f'{path_to_data}/data.yaml', epochs=16, device='0', patience = 2, amp=False)"
         ]
      },
      {
         "cell_type": "code",
         "execution_count": 8,
         "metadata": {},
         "outputs": [],
         "source": [
            "# Use saved model\n",
            "# model = YOLO('./saved_models/v8s_epoch10.pt')"
         ]
      },
      {
         "cell_type": "markdown",
         "metadata": {},
         "source": [
            "After training, the model can be found in `/runs`. Save the `best.pt` model in the `/saved_models` folder."
         ]
      },
      {
         "cell_type": "markdown",
         "metadata": {},
         "source": [
            "### [Validation](https://docs.ultralytics.com/modes/val/#usage-examples)\n",
            "Val mode is used for validating a YOLOv8 model after it has been trained. In this mode, the model is evaluated on a validation set to measure its accuracy and generalization performance. This mode can be used to tune the hyperparameters of the model to improve its performance."
         ]
      },
      {
         "cell_type": "code",
         "execution_count": 6,
         "metadata": {},
         "outputs": [
            {
               "name": "stderr",
               "output_type": "stream",
               "text": [
                  "Ultralytics YOLOv8.0.196  Python-3.11.2 torch-2.2.1+cu118 CUDA:0 (NVIDIA GeForce GTX 1660 SUPER, 6144MiB)\n"
               ]
            },
            {
               "name": "stderr",
               "output_type": "stream",
               "text": [
                  "Model summary (fused): 168 layers, 11125971 parameters, 0 gradients, 28.4 GFLOPs\n",
                  "\u001b[34m\u001b[1mval: \u001b[0mScanning D:\\Disk D Documents\\CS424\\Project SMU Logo\\tree-type-detection-9\\valid\\labels.cache... 764 images, 635 backgrounds, 0 corrupt: 100%|██████████| 764/764 [00:00<?, ?it/s]\n",
                  "                 Class     Images  Instances      Box(P          R      mAP50  mAP50-95): 100%|██████████| 48/48 [00:12<00:00,  3.91it/s]\n",
                  "                   all        764        149      0.878      0.685      0.787      0.598\n",
                  "Speed: 0.5ms preprocess, 13.7ms inference, 0.0ms loss, 0.5ms postprocess per image\n",
                  "Results saved to \u001b[1mruns\\detect\\val37\u001b[0m\n"
               ]
            },
            {
               "data": {
                  "text/plain": [
                     "'\\n1. Epochs: Vary from 7, 15 etc\\n2. Find a way to output the predicted labels into a folder. Compare the predicted labels and actual labels to check the metrics\\n3. Re-annotate if have time (those with very small logos)\\n\\n\\n4. annotate the rest of the images\\n5. after everything is annotated, augmentation and final training\\n'"
                  ]
               },
               "execution_count": 6,
               "metadata": {},
               "output_type": "execute_result"
            }
         ],
         "source": [
            "validation_results = model.val(data=f'{path_to_data}/data.yaml', conf=0.25, iou=0.6, device='0')\n",
            "'''\n",
            "1. Epochs: Vary from 7, 15 etc\n",
            "2. Find a way to output the predicted labels into a folder. Compare the predicted labels and actual labels to check the metrics\n",
            "3. Re-annotate if have time (those with very small logos)\n",
            "\n",
            "\n",
            "4. annotate the rest of the images\n",
            "5. after everything is annotated, augmentation and final training\n",
            "'''"
         ]
      },
      {
         "cell_type": "code",
         "execution_count": 7,
         "metadata": {},
         "outputs": [
            {
               "data": {
                  "text/plain": [
                     "0.7693864029423825"
                  ]
               },
               "execution_count": 7,
               "metadata": {},
               "output_type": "execute_result"
            }
         ],
         "source": [
            "get_f1(validation_results.results_dict)"
         ]
      },
      {
         "cell_type": "markdown",
         "metadata": {},
         "source": [
            "### [Test](https://docs.ultralytics.com/modes/predict/#why-use-ultralytics-yolo-for-inference)\n",
            "Predict bounding boxes on test set"
         ]
      },
      {
         "cell_type": "code",
         "execution_count": null,
         "metadata": {},
         "outputs": [
            {
               "name": "stderr",
               "output_type": "stream",
               "text": [
                  "\n"
               ]
            },
            {
               "name": "stderr",
               "output_type": "stream",
               "text": [
                  "image 1/260 D:\\Disk D Documents\\CS424\\Project SMU Logo\\tree-type-detection-7\\test\\images\\IMG_8165_JPG.rf.fc2fd99a3964df0741ace08abf6c88fe.jpg: 640x640 (no detections), 36.0ms\n",
                  "image 2/260 D:\\Disk D Documents\\CS424\\Project SMU Logo\\tree-type-detection-7\\test\\images\\IMG_8198_JPG.rf.038cdba42e193e190a2a86e0bf101202.jpg: 640x640 (no detections), 37.0ms\n",
                  "image 3/260 D:\\Disk D Documents\\CS424\\Project SMU Logo\\tree-type-detection-7\\test\\images\\IMG_8201_JPG.rf.44990e562877606569c014837f94c8eb.jpg: 640x640 (no detections), 33.5ms\n",
                  "image 4/260 D:\\Disk D Documents\\CS424\\Project SMU Logo\\tree-type-detection-7\\test\\images\\IMG_8235_JPG.rf.e23f44338a0daa3601c29617d29246c4.jpg: 640x640 (no detections), 29.5ms\n",
                  "image 5/260 D:\\Disk D Documents\\CS424\\Project SMU Logo\\tree-type-detection-7\\test\\images\\IMG_8243_JPG.rf.219c3534c406c665023d57077d82e8ed.jpg: 640x640 (no detections), 30.0ms\n",
                  "image 6/260 D:\\Disk D Documents\\CS424\\Project SMU Logo\\tree-type-detection-7\\test\\images\\IMG_8246_JPG.rf.794fe03c686479718a6d02bbfeb97232.jpg: 640x640 (no detections), 29.5ms\n",
                  "image 7/260 D:\\Disk D Documents\\CS424\\Project SMU Logo\\tree-type-detection-7\\test\\images\\IMG_8260_JPG.rf.6933176c83620a917d8c15b5730c9254.jpg: 640x640 (no detections), 29.5ms\n",
                  "image 8/260 D:\\Disk D Documents\\CS424\\Project SMU Logo\\tree-type-detection-7\\test\\images\\IMG_8270_JPG.rf.7604841b57c20ab98e26105c31e37168.jpg: 640x640 (no detections), 29.5ms\n",
                  "image 9/260 D:\\Disk D Documents\\CS424\\Project SMU Logo\\tree-type-detection-7\\test\\images\\IMG_8277_JPG.rf.033f47a77048c177d02b344a65327c9c.jpg: 640x640 (no detections), 31.5ms\n",
                  "image 10/260 D:\\Disk D Documents\\CS424\\Project SMU Logo\\tree-type-detection-7\\test\\images\\IMG_8285_JPG.rf.df5130a7486834783da3ad2ddb96408f.jpg: 640x640 (no detections), 31.0ms\n",
                  "image 11/260 D:\\Disk D Documents\\CS424\\Project SMU Logo\\tree-type-detection-7\\test\\images\\IMG_8301_JPG.rf.54ebe189549c46edd5855e367d04a564.jpg: 640x640 (no detections), 31.0ms\n",
                  "image 12/260 D:\\Disk D Documents\\CS424\\Project SMU Logo\\tree-type-detection-7\\test\\images\\IMG_8321_JPG.rf.c0b72925f729dd9617514feb69808307.jpg: 640x640 1 SMU-Logo, 30.5ms\n",
                  "image 13/260 D:\\Disk D Documents\\CS424\\Project SMU Logo\\tree-type-detection-7\\test\\images\\IMG_8335_JPG.rf.9cc1fca1e341a1302f57dec7a9381dc1.jpg: 640x640 2 SMU-Logos, 33.0ms\n",
                  "image 14/260 D:\\Disk D Documents\\CS424\\Project SMU Logo\\tree-type-detection-7\\test\\images\\IMG_8347_JPG.rf.4709bec663baa416ef565be4a449ed58.jpg: 640x640 (no detections), 31.5ms\n",
                  "image 15/260 D:\\Disk D Documents\\CS424\\Project SMU Logo\\tree-type-detection-7\\test\\images\\IMG_8375_JPG.rf.f02ef286a41663832c02498c8b41a16b.jpg: 640x640 (no detections), 32.0ms\n",
                  "image 16/260 D:\\Disk D Documents\\CS424\\Project SMU Logo\\tree-type-detection-7\\test\\images\\IMG_8380_JPG.rf.cdb4c145d25a58aa853c07374c99b6dd.jpg: 640x640 (no detections), 33.5ms\n",
                  "image 17/260 D:\\Disk D Documents\\CS424\\Project SMU Logo\\tree-type-detection-7\\test\\images\\IMG_8465_JPG.rf.1fff4980ba42a29b7783798294105566.jpg: 640x640 (no detections), 59.0ms\n",
                  "image 18/260 D:\\Disk D Documents\\CS424\\Project SMU Logo\\tree-type-detection-7\\test\\images\\IMG_8480_JPG.rf.718e625bba864b4e52430b54eed77d53.jpg: 640x640 (no detections), 32.5ms\n",
                  "image 19/260 D:\\Disk D Documents\\CS424\\Project SMU Logo\\tree-type-detection-7\\test\\images\\IMG_8482_JPG.rf.fff6dc259291ceef633d934755be0059.jpg: 640x640 (no detections), 32.5ms\n",
                  "image 20/260 D:\\Disk D Documents\\CS424\\Project SMU Logo\\tree-type-detection-7\\test\\images\\IMG_8484_JPG.rf.cf3a5dbc03d8767ef716f84b562be19b.jpg: 640x640 (no detections), 32.5ms\n",
                  "image 21/260 D:\\Disk D Documents\\CS424\\Project SMU Logo\\tree-type-detection-7\\test\\images\\IMG_8496_JPG.rf.2fb08b094337e1ea41a25d51320f3f46.jpg: 640x640 (no detections), 33.0ms\n",
                  "image 22/260 D:\\Disk D Documents\\CS424\\Project SMU Logo\\tree-type-detection-7\\test\\images\\IMG_8524_JPG.rf.a8f6bf71ac61a8eb4d5335c4947b04a7.jpg: 640x640 (no detections), 33.0ms\n",
                  "image 23/260 D:\\Disk D Documents\\CS424\\Project SMU Logo\\tree-type-detection-7\\test\\images\\IMG_8554_JPG.rf.a943e79392e59cac80bb1efd75b95a1f.jpg: 640x640 (no detections), 33.0ms\n",
                  "image 24/260 D:\\Disk D Documents\\CS424\\Project SMU Logo\\tree-type-detection-7\\test\\images\\IMG_8559_JPG.rf.c1db56fcba9c1c18a78b63486094cb38.jpg: 640x640 (no detections), 32.0ms\n",
                  "image 25/260 D:\\Disk D Documents\\CS424\\Project SMU Logo\\tree-type-detection-7\\test\\images\\IMG_8588_JPG.rf.9e10468073d81286beed06d15775f455.jpg: 640x640 (no detections), 33.0ms\n",
                  "image 26/260 D:\\Disk D Documents\\CS424\\Project SMU Logo\\tree-type-detection-7\\test\\images\\IMG_8601_JPG.rf.311a0f8ed95b1eac6b25f782c0a7e830.jpg: 640x640 (no detections), 32.0ms\n",
                  "image 27/260 D:\\Disk D Documents\\CS424\\Project SMU Logo\\tree-type-detection-7\\test\\images\\IMG_8632_JPG.rf.b7a46c166956fd8bf129bc83c9c352b3.jpg: 640x640 (no detections), 33.0ms\n",
                  "image 28/260 D:\\Disk D Documents\\CS424\\Project SMU Logo\\tree-type-detection-7\\test\\images\\IMG_8670_JPG.rf.f246d069c38a1c56d616e0e663105953.jpg: 640x640 (no detections), 32.0ms\n",
                  "image 29/260 D:\\Disk D Documents\\CS424\\Project SMU Logo\\tree-type-detection-7\\test\\images\\IMG_8696_JPG.rf.be4f2847db557d698ea9931d0a5a9ea9.jpg: 640x640 (no detections), 33.0ms\n",
                  "image 30/260 D:\\Disk D Documents\\CS424\\Project SMU Logo\\tree-type-detection-7\\test\\images\\IMG_8727_JPG.rf.0d7a68130f0636a72269b4f3c62bb127.jpg: 640x640 (no detections), 32.0ms\n",
                  "image 31/260 D:\\Disk D Documents\\CS424\\Project SMU Logo\\tree-type-detection-7\\test\\images\\IMG_8740_JPG.rf.74f3ebb85fe6fdfe958c6b4fe99cc523.jpg: 640x640 (no detections), 32.5ms\n",
                  "image 32/260 D:\\Disk D Documents\\CS424\\Project SMU Logo\\tree-type-detection-7\\test\\images\\IMG_8744_JPG.rf.fd911f21c601504f4265f941a4eace64.jpg: 640x640 (no detections), 33.0ms\n",
                  "image 33/260 D:\\Disk D Documents\\CS424\\Project SMU Logo\\tree-type-detection-7\\test\\images\\IMG_8746_JPG.rf.7969934f012e4cd122d9f3bf610a3718.jpg: 640x640 (no detections), 33.0ms\n",
                  "image 34/260 D:\\Disk D Documents\\CS424\\Project SMU Logo\\tree-type-detection-7\\test\\images\\IMG_8761_JPG.rf.6fc1a39d1d1da9ee6614b9031fe02532.jpg: 640x640 (no detections), 33.0ms\n",
                  "image 35/260 D:\\Disk D Documents\\CS424\\Project SMU Logo\\tree-type-detection-7\\test\\images\\IMG_8805_JPG.rf.94db51b809d9aedc46fa555a98c3f68c.jpg: 640x640 (no detections), 33.0ms\n",
                  "image 36/260 D:\\Disk D Documents\\CS424\\Project SMU Logo\\tree-type-detection-7\\test\\images\\IMG_8833_JPG.rf.b322c75d2250b9ae5c22edda2369d60a.jpg: 640x640 (no detections), 31.5ms\n",
                  "image 37/260 D:\\Disk D Documents\\CS424\\Project SMU Logo\\tree-type-detection-7\\test\\images\\IMG_8834_JPG.rf.7351130fd7efd914a27a96c83c26129d.jpg: 640x640 (no detections), 32.5ms\n",
                  "image 38/260 D:\\Disk D Documents\\CS424\\Project SMU Logo\\tree-type-detection-7\\test\\images\\IMG_8840_JPG.rf.e88104aac049a694da00a795d2a3a701.jpg: 640x640 (no detections), 33.0ms\n",
                  "image 39/260 D:\\Disk D Documents\\CS424\\Project SMU Logo\\tree-type-detection-7\\test\\images\\IMG_8846_JPG.rf.03e27aa99d6ca8d2e38ada838030c4b4.jpg: 640x640 (no detections), 32.5ms\n",
                  "image 40/260 D:\\Disk D Documents\\CS424\\Project SMU Logo\\tree-type-detection-7\\test\\images\\IMG_8869_JPG.rf.e8593b80b3aa53a892bba10e080e2d71.jpg: 640x640 (no detections), 33.0ms\n",
                  "image 41/260 D:\\Disk D Documents\\CS424\\Project SMU Logo\\tree-type-detection-7\\test\\images\\IMG_8870_JPG.rf.d3d6d3ca322650ffa87d212e829f2b6f.jpg: 640x640 (no detections), 32.0ms\n",
                  "image 42/260 D:\\Disk D Documents\\CS424\\Project SMU Logo\\tree-type-detection-7\\test\\images\\IMG_8877_JPG.rf.3d8e8b38189f41a1fb1b1e77ce82918c.jpg: 640x640 (no detections), 33.5ms\n",
                  "image 43/260 D:\\Disk D Documents\\CS424\\Project SMU Logo\\tree-type-detection-7\\test\\images\\IMG_8935_JPG.rf.c53cb57795ff650507cb29c04ccbf045.jpg: 640x640 (no detections), 32.0ms\n",
                  "image 44/260 D:\\Disk D Documents\\CS424\\Project SMU Logo\\tree-type-detection-7\\test\\images\\IMG_8982_JPG.rf.076c745c5324695049dc3a35a910258e.jpg: 640x640 (no detections), 33.5ms\n",
                  "image 45/260 D:\\Disk D Documents\\CS424\\Project SMU Logo\\tree-type-detection-7\\test\\images\\IMG_8998_JPG.rf.3a65d6403624cd138a194839f3c25497.jpg: 640x640 (no detections), 33.1ms\n",
                  "image 46/260 D:\\Disk D Documents\\CS424\\Project SMU Logo\\tree-type-detection-7\\test\\images\\IMG_9008_JPG.rf.05c231b8fbbc63f046df120379b0b2f2.jpg: 640x640 1 SMU-Logo, 32.5ms\n",
                  "image 47/260 D:\\Disk D Documents\\CS424\\Project SMU Logo\\tree-type-detection-7\\test\\images\\IMG_9011_JPG.rf.78627ee0a9e3f705b2845a58bd9310e3.jpg: 640x640 (no detections), 32.5ms\n",
                  "image 48/260 D:\\Disk D Documents\\CS424\\Project SMU Logo\\tree-type-detection-7\\test\\images\\IMG_9013_JPG.rf.7e7a0ec65080bcfff4d116c897366757.jpg: 640x640 (no detections), 32.5ms\n",
                  "image 49/260 D:\\Disk D Documents\\CS424\\Project SMU Logo\\tree-type-detection-7\\test\\images\\IMG_9019_JPG.rf.e77bbee7645c1a1be9c50a52c7bef1ac.jpg: 640x640 (no detections), 33.0ms\n",
                  "image 50/260 D:\\Disk D Documents\\CS424\\Project SMU Logo\\tree-type-detection-7\\test\\images\\IMG_9032_JPG.rf.fa84179cb0e9f9114a2d67fcb9c379de.jpg: 640x640 (no detections), 32.5ms\n",
                  "image 51/260 D:\\Disk D Documents\\CS424\\Project SMU Logo\\tree-type-detection-7\\test\\images\\IMG_9033_JPG.rf.c933d2cbca0ac180b7b21e3b3ce93b95.jpg: 640x640 (no detections), 32.5ms\n",
                  "image 52/260 D:\\Disk D Documents\\CS424\\Project SMU Logo\\tree-type-detection-7\\test\\images\\IMG_9034_JPG.rf.b5c917e0bd2a94e5936d94067908ce27.jpg: 640x640 (no detections), 33.0ms\n",
                  "image 53/260 D:\\Disk D Documents\\CS424\\Project SMU Logo\\tree-type-detection-7\\test\\images\\IMG_9037_JPG.rf.e0e9e674e619c9df0cd1160726b3d071.jpg: 640x640 (no detections), 32.5ms\n",
                  "image 54/260 D:\\Disk D Documents\\CS424\\Project SMU Logo\\tree-type-detection-7\\test\\images\\IMG_9039_JPG.rf.790357cb3da6ea46a6e2bd1bc195f501.jpg: 640x640 (no detections), 32.5ms\n",
                  "image 55/260 D:\\Disk D Documents\\CS424\\Project SMU Logo\\tree-type-detection-7\\test\\images\\IMG_9042_JPG.rf.fc5f9ed3bd363fa40ddc9b78c0aaf222.jpg: 640x640 (no detections), 32.5ms\n",
                  "image 56/260 D:\\Disk D Documents\\CS424\\Project SMU Logo\\tree-type-detection-7\\test\\images\\IMG_9051_JPG.rf.bff9db09fbfaa92837b489d88af8c15a.jpg: 640x640 (no detections), 32.0ms\n",
                  "image 57/260 D:\\Disk D Documents\\CS424\\Project SMU Logo\\tree-type-detection-7\\test\\images\\IMG_9060_JPG.rf.9d458b5622ecbaed44e664cea375f796.jpg: 640x640 (no detections), 32.5ms\n",
                  "image 58/260 D:\\Disk D Documents\\CS424\\Project SMU Logo\\tree-type-detection-7\\test\\images\\IMG_9064_JPG.rf.55705f8b94d765a9c38940952e7bebe1.jpg: 640x640 (no detections), 32.5ms\n",
                  "image 59/260 D:\\Disk D Documents\\CS424\\Project SMU Logo\\tree-type-detection-7\\test\\images\\IMG_9065_JPG.rf.1e3379e52b70d16c5866403c2c7a4094.jpg: 640x640 (no detections), 31.5ms\n",
                  "image 60/260 D:\\Disk D Documents\\CS424\\Project SMU Logo\\tree-type-detection-7\\test\\images\\IMG_9070_JPG.rf.2ddd5338b4237d3d8634d5290c9faa82.jpg: 640x640 (no detections), 33.0ms\n",
                  "image 61/260 D:\\Disk D Documents\\CS424\\Project SMU Logo\\tree-type-detection-7\\test\\images\\IMG_9108_JPG.rf.29d0a74dfce391b486922ed3d374e28c.jpg: 640x640 (no detections), 34.5ms\n",
                  "image 62/260 D:\\Disk D Documents\\CS424\\Project SMU Logo\\tree-type-detection-7\\test\\images\\IMG_9114_JPG.rf.eef9536f6996fc5dc94fd3e859cd15d3.jpg: 640x640 (no detections), 31.5ms\n",
                  "image 63/260 D:\\Disk D Documents\\CS424\\Project SMU Logo\\tree-type-detection-7\\test\\images\\IMG_9121_JPG.rf.04fb11a731e860578f9f6fd0302e7483.jpg: 640x640 (no detections), 33.0ms\n",
                  "image 64/260 D:\\Disk D Documents\\CS424\\Project SMU Logo\\tree-type-detection-7\\test\\images\\IMG_9126_JPG.rf.02ec9e6f27b415db116f771b632f9efe.jpg: 640x640 (no detections), 33.0ms\n",
                  "image 65/260 D:\\Disk D Documents\\CS424\\Project SMU Logo\\tree-type-detection-7\\test\\images\\IMG_9127_JPG.rf.c1f7f348d4d1627ab7d65864af39051c.jpg: 640x640 (no detections), 33.5ms\n",
                  "image 66/260 D:\\Disk D Documents\\CS424\\Project SMU Logo\\tree-type-detection-7\\test\\images\\IMG_9133_JPG.rf.721aff66e0388c167ced33e4b11f84a0.jpg: 640x640 (no detections), 33.0ms\n",
                  "image 67/260 D:\\Disk D Documents\\CS424\\Project SMU Logo\\tree-type-detection-7\\test\\images\\IMG_9134_JPG.rf.4583d42572e75ba4cd77fb005bdd5391.jpg: 640x640 (no detections), 33.0ms\n",
                  "image 68/260 D:\\Disk D Documents\\CS424\\Project SMU Logo\\tree-type-detection-7\\test\\images\\IMG_9171_JPG.rf.5d611f495d6def993da8698de22adce7.jpg: 640x640 (no detections), 31.5ms\n",
                  "image 69/260 D:\\Disk D Documents\\CS424\\Project SMU Logo\\tree-type-detection-7\\test\\images\\IMG_9173_JPG.rf.02073e8c6f1e7d6b2e20d37f31cf512c.jpg: 640x640 (no detections), 32.5ms\n",
                  "image 70/260 D:\\Disk D Documents\\CS424\\Project SMU Logo\\tree-type-detection-7\\test\\images\\IMG_9188_JPG.rf.b818db32689cc615d0a3a9b8ff95c189.jpg: 640x640 (no detections), 33.0ms\n",
                  "image 71/260 D:\\Disk D Documents\\CS424\\Project SMU Logo\\tree-type-detection-7\\test\\images\\IMG_9189_JPG.rf.fa98e81f630d22a1dbc8a6f8adadad3e.jpg: 640x640 (no detections), 33.0ms\n",
                  "image 72/260 D:\\Disk D Documents\\CS424\\Project SMU Logo\\tree-type-detection-7\\test\\images\\IMG_9204_jpeg.rf.dc463b24810141b6272990fe1ad8fdfa.jpg: 640x640 (no detections), 33.0ms\n",
                  "image 73/260 D:\\Disk D Documents\\CS424\\Project SMU Logo\\tree-type-detection-7\\test\\images\\IMG_9205_JPG.rf.f394f7c7a736161ac5bbc7db03248c3d.jpg: 640x640 (no detections), 33.0ms\n",
                  "image 74/260 D:\\Disk D Documents\\CS424\\Project SMU Logo\\tree-type-detection-7\\test\\images\\IMG_9211_jpeg.rf.aa87e8395ed2bd15c38e5d0d8861c218.jpg: 640x640 (no detections), 32.5ms\n",
                  "image 75/260 D:\\Disk D Documents\\CS424\\Project SMU Logo\\tree-type-detection-7\\test\\images\\IMG_9216_JPG.rf.3192d4becdeeb9b2c28235fe25656c9a.jpg: 640x640 (no detections), 31.0ms\n",
                  "image 76/260 D:\\Disk D Documents\\CS424\\Project SMU Logo\\tree-type-detection-7\\test\\images\\IMG_9219_JPG.rf.b27195479278a23569f2fab1fe0be42f.jpg: 640x640 (no detections), 33.0ms\n",
                  "image 77/260 D:\\Disk D Documents\\CS424\\Project SMU Logo\\tree-type-detection-7\\test\\images\\IMG_9220_jpeg.rf.26da345a65c501304c89d73b96ac8534.jpg: 640x640 (no detections), 33.0ms\n",
                  "image 78/260 D:\\Disk D Documents\\CS424\\Project SMU Logo\\tree-type-detection-7\\test\\images\\IMG_9225_JPG.rf.5dd618ab555cde09450dd6b42f0f0b39.jpg: 640x640 (no detections), 31.5ms\n",
                  "image 79/260 D:\\Disk D Documents\\CS424\\Project SMU Logo\\tree-type-detection-7\\test\\images\\IMG_9227_jpeg.rf.6091144e3e7bbc4a4d7a752c789786dd.jpg: 640x640 (no detections), 33.5ms\n",
                  "image 80/260 D:\\Disk D Documents\\CS424\\Project SMU Logo\\tree-type-detection-7\\test\\images\\IMG_9230_JPG.rf.4e3c9ca392ea3e7e4cefd69f13e21f12.jpg: 640x640 (no detections), 32.0ms\n",
                  "image 81/260 D:\\Disk D Documents\\CS424\\Project SMU Logo\\tree-type-detection-7\\test\\images\\IMG_9231_JPG.rf.7b2f9a0c9f73afa11267b053753576ec.jpg: 640x640 (no detections), 34.0ms\n",
                  "image 82/260 D:\\Disk D Documents\\CS424\\Project SMU Logo\\tree-type-detection-7\\test\\images\\IMG_9236_JPG.rf.642a713a6367285e8a842893242b19e3.jpg: 640x640 (no detections), 44.0ms\n",
                  "image 83/260 D:\\Disk D Documents\\CS424\\Project SMU Logo\\tree-type-detection-7\\test\\images\\IMG_9256_JPG.rf.e238ccd8ac068fa67ee1ddef834b7197.jpg: 640x640 (no detections), 33.0ms\n",
                  "image 84/260 D:\\Disk D Documents\\CS424\\Project SMU Logo\\tree-type-detection-7\\test\\images\\IMG_9280_JPG.rf.ff9f8a4c4f58fbd1ccd250c5be942f60.jpg: 640x640 (no detections), 33.5ms\n",
                  "image 85/260 D:\\Disk D Documents\\CS424\\Project SMU Logo\\tree-type-detection-7\\test\\images\\IMG_9283_JPG.rf.31f3f1d477ccc55d9300b4f5160def23.jpg: 640x640 (no detections), 59.5ms\n",
                  "image 86/260 D:\\Disk D Documents\\CS424\\Project SMU Logo\\tree-type-detection-7\\test\\images\\IMG_9286_jpeg.rf.4203bfcdf993bb2637d8c440644dc111.jpg: 640x640 (no detections), 32.5ms\n",
                  "image 87/260 D:\\Disk D Documents\\CS424\\Project SMU Logo\\tree-type-detection-7\\test\\images\\IMG_9287_JPG.rf.0e56378ba44ea563a4d10553e9be5ffa.jpg: 640x640 (no detections), 32.0ms\n",
                  "image 88/260 D:\\Disk D Documents\\CS424\\Project SMU Logo\\tree-type-detection-7\\test\\images\\IMG_9289_jpeg.rf.dba84e2ee2e6878c2c23849060cb1021.jpg: 640x640 (no detections), 33.0ms\n",
                  "image 89/260 D:\\Disk D Documents\\CS424\\Project SMU Logo\\tree-type-detection-7\\test\\images\\IMG_9302_JPG.rf.22cef330b4764e2e9124f876aa66d840.jpg: 640x640 (no detections), 32.5ms\n",
                  "image 90/260 D:\\Disk D Documents\\CS424\\Project SMU Logo\\tree-type-detection-7\\test\\images\\IMG_9307_JPG.rf.feacedd9d9811a6c4b922cd2f7b61ab4.jpg: 640x640 (no detections), 32.5ms\n",
                  "image 91/260 D:\\Disk D Documents\\CS424\\Project SMU Logo\\tree-type-detection-7\\test\\images\\IMG_9315_JPG.rf.a0efb82970ff613b4bb0b19eea028e91.jpg: 640x640 (no detections), 33.5ms\n",
                  "image 92/260 D:\\Disk D Documents\\CS424\\Project SMU Logo\\tree-type-detection-7\\test\\images\\IMG_9326_JPG.rf.d7427f0940fd3ae89e87f22f9583b2aa.jpg: 640x640 (no detections), 33.5ms\n",
                  "image 93/260 D:\\Disk D Documents\\CS424\\Project SMU Logo\\tree-type-detection-7\\test\\images\\IMG_9334_jpeg.rf.6b0f6fed1db0b406de1c4bfa017d3277.jpg: 640x640 (no detections), 32.5ms\n",
                  "image 94/260 D:\\Disk D Documents\\CS424\\Project SMU Logo\\tree-type-detection-7\\test\\images\\IMG_9340_jpeg.rf.c49c91dc90bba780ff1fbe17db9a2a9b.jpg: 640x640 (no detections), 32.0ms\n",
                  "image 95/260 D:\\Disk D Documents\\CS424\\Project SMU Logo\\tree-type-detection-7\\test\\images\\IMG_9341_JPG.rf.57a301836e0d04db5ab53a5fea52777c.jpg: 640x640 (no detections), 33.0ms\n",
                  "image 96/260 D:\\Disk D Documents\\CS424\\Project SMU Logo\\tree-type-detection-7\\test\\images\\IMG_9345_JPG.rf.fae93d4262f650424cb85ec5e99eb3d9.jpg: 640x640 (no detections), 33.5ms\n",
                  "image 97/260 D:\\Disk D Documents\\CS424\\Project SMU Logo\\tree-type-detection-7\\test\\images\\IMG_9356_jpeg.rf.ea8c5a11bdaa1f982fb6d94b33d0fed7.jpg: 640x640 (no detections), 32.5ms\n",
                  "image 98/260 D:\\Disk D Documents\\CS424\\Project SMU Logo\\tree-type-detection-7\\test\\images\\IMG_9382_JPG.rf.0f3e760b0bed4d2394371e566d7d3a85.jpg: 640x640 (no detections), 32.5ms\n",
                  "image 99/260 D:\\Disk D Documents\\CS424\\Project SMU Logo\\tree-type-detection-7\\test\\images\\IMG_9389_JPG.rf.e65b5ac841ea2ef3ae760c6c4182eaef.jpg: 640x640 (no detections), 35.0ms\n",
                  "image 100/260 D:\\Disk D Documents\\CS424\\Project SMU Logo\\tree-type-detection-7\\test\\images\\IMG_9389_jpeg.rf.ea94ebc017eecb08e3463afc2a870c3e.jpg: 640x640 (no detections), 31.5ms\n",
                  "image 101/260 D:\\Disk D Documents\\CS424\\Project SMU Logo\\tree-type-detection-7\\test\\images\\IMG_9394_JPG.rf.a06f89c2d7238b43504fc89935f0498f.jpg: 640x640 (no detections), 33.0ms\n",
                  "image 102/260 D:\\Disk D Documents\\CS424\\Project SMU Logo\\tree-type-detection-7\\test\\images\\IMG_9401_JPG.rf.e3bb2c06a7c60fe325574c4b3b041dae.jpg: 640x640 (no detections), 33.5ms\n",
                  "image 103/260 D:\\Disk D Documents\\CS424\\Project SMU Logo\\tree-type-detection-7\\test\\images\\IMG_9402_JPG.rf.f3fd58f5dddee694cbf86d7559815fad.jpg: 640x640 (no detections), 36.0ms\n",
                  "image 104/260 D:\\Disk D Documents\\CS424\\Project SMU Logo\\tree-type-detection-7\\test\\images\\IMG_9412_jpeg.rf.5ccb2b9c4f24ff23b3039beed86b66d4.jpg: 640x640 (no detections), 33.0ms\n",
                  "image 105/260 D:\\Disk D Documents\\CS424\\Project SMU Logo\\tree-type-detection-7\\test\\images\\IMG_9414_jpeg.rf.13eebdd15ec1d0f19f463faacdd6a64a.jpg: 640x640 (no detections), 33.0ms\n",
                  "image 106/260 D:\\Disk D Documents\\CS424\\Project SMU Logo\\tree-type-detection-7\\test\\images\\IMG_9421_jpeg.rf.1786b71c140dc22be36a65e0b966a467.jpg: 640x640 1 SMU-Logo, 33.0ms\n",
                  "image 107/260 D:\\Disk D Documents\\CS424\\Project SMU Logo\\tree-type-detection-7\\test\\images\\IMG_9437_JPG.rf.221ff02915b847e53ea765481eeb565e.jpg: 640x640 (no detections), 33.5ms\n",
                  "image 108/260 D:\\Disk D Documents\\CS424\\Project SMU Logo\\tree-type-detection-7\\test\\images\\IMG_9459_jpeg.rf.9e9c2a23181645282a2eb4f9131b8341.jpg: 640x640 (no detections), 33.0ms\n",
                  "image 109/260 D:\\Disk D Documents\\CS424\\Project SMU Logo\\tree-type-detection-7\\test\\images\\IMG_9475_JPG.rf.98912f8bf825d775e82fe8db3ed1d186.jpg: 640x640 (no detections), 33.0ms\n",
                  "image 110/260 D:\\Disk D Documents\\CS424\\Project SMU Logo\\tree-type-detection-7\\test\\images\\IMG_9484_jpeg.rf.5bcbf018013c55f617e96c64854b3008.jpg: 640x640 (no detections), 54.5ms\n",
                  "image 111/260 D:\\Disk D Documents\\CS424\\Project SMU Logo\\tree-type-detection-7\\test\\images\\IMG_9490_jpeg.rf.3d0bbf43df3f3e71a94ff3187006c898.jpg: 640x640 (no detections), 40.5ms\n",
                  "image 112/260 D:\\Disk D Documents\\CS424\\Project SMU Logo\\tree-type-detection-7\\test\\images\\IMG_9492_JPG.rf.d3f005c58b75f394e276339e1dbf09c0.jpg: 640x640 (no detections), 33.0ms\n",
                  "image 113/260 D:\\Disk D Documents\\CS424\\Project SMU Logo\\tree-type-detection-7\\test\\images\\IMG_9493_JPG.rf.c7b711cc912edac831d457ce71172984.jpg: 640x640 (no detections), 46.0ms\n",
                  "image 114/260 D:\\Disk D Documents\\CS424\\Project SMU Logo\\tree-type-detection-7\\test\\images\\IMG_9504_jpeg.rf.7247105b6156934b0c32b26e486eddb4.jpg: 640x640 (no detections), 31.0ms\n",
                  "image 115/260 D:\\Disk D Documents\\CS424\\Project SMU Logo\\tree-type-detection-7\\test\\images\\IMG_9505_JPG.rf.28b612f279e0f4d0df799521727fa63a.jpg: 640x640 (no detections), 30.5ms\n",
                  "image 116/260 D:\\Disk D Documents\\CS424\\Project SMU Logo\\tree-type-detection-7\\test\\images\\IMG_9513_JPG.rf.94d719a003c0b2dae115b5984668c542.jpg: 640x640 (no detections), 31.0ms\n",
                  "image 117/260 D:\\Disk D Documents\\CS424\\Project SMU Logo\\tree-type-detection-7\\test\\images\\IMG_9525_jpeg.rf.22836be3399b963258d105c72421a2e3.jpg: 640x640 (no detections), 32.0ms\n",
                  "image 118/260 D:\\Disk D Documents\\CS424\\Project SMU Logo\\tree-type-detection-7\\test\\images\\IMG_9527_JPG.rf.b7d360fd89d74a24b7e25572b8a6fb3f.jpg: 640x640 (no detections), 29.5ms\n",
                  "image 119/260 D:\\Disk D Documents\\CS424\\Project SMU Logo\\tree-type-detection-7\\test\\images\\IMG_9533_jpeg.rf.91ca9e58fcfe62d7db5688ea91a8f079.jpg: 640x640 (no detections), 30.5ms\n",
                  "image 120/260 D:\\Disk D Documents\\CS424\\Project SMU Logo\\tree-type-detection-7\\test\\images\\IMG_9571_JPG.rf.8759201bd63c6b0b97f3be19f15dcde6.jpg: 640x640 (no detections), 31.0ms\n",
                  "image 121/260 D:\\Disk D Documents\\CS424\\Project SMU Logo\\tree-type-detection-7\\test\\images\\IMG_9583_JPG.rf.c68f4672743a78ac872d1c781aeb6b3b.jpg: 640x640 (no detections), 31.0ms\n",
                  "image 122/260 D:\\Disk D Documents\\CS424\\Project SMU Logo\\tree-type-detection-7\\test\\images\\IMG_9593_JPG.rf.c5eb165551c3a26f485ece1933a913b4.jpg: 640x640 (no detections), 29.5ms\n",
                  "image 123/260 D:\\Disk D Documents\\CS424\\Project SMU Logo\\tree-type-detection-7\\test\\images\\IMG_9599_JPG.rf.690508215e453f9ec13c945498025e6a.jpg: 640x640 (no detections), 30.5ms\n",
                  "image 124/260 D:\\Disk D Documents\\CS424\\Project SMU Logo\\tree-type-detection-7\\test\\images\\IMG_9628_JPG.rf.7844aa0639724db3632a9bb32d6e5c3a.jpg: 640x640 (no detections), 30.0ms\n",
                  "image 125/260 D:\\Disk D Documents\\CS424\\Project SMU Logo\\tree-type-detection-7\\test\\images\\IMG_9647_JPG.rf.81bde4d795972ff57653d4edaf9eb663.jpg: 640x640 (no detections), 29.5ms\n",
                  "image 126/260 D:\\Disk D Documents\\CS424\\Project SMU Logo\\tree-type-detection-7\\test\\images\\IMG_9664_JPG.rf.84654551f397d324f138eb742a799c2c.jpg: 640x640 (no detections), 30.0ms\n",
                  "image 127/260 D:\\Disk D Documents\\CS424\\Project SMU Logo\\tree-type-detection-7\\test\\images\\IMG_9666_JPG.rf.08eb5e1f65e8bae6e126b63a287c96a6.jpg: 640x640 (no detections), 29.5ms\n",
                  "image 128/260 D:\\Disk D Documents\\CS424\\Project SMU Logo\\tree-type-detection-7\\test\\images\\IMG_9670_JPG.rf.04a2ec3f86a119402e815a0f5b929136.jpg: 640x640 (no detections), 30.5ms\n",
                  "image 129/260 D:\\Disk D Documents\\CS424\\Project SMU Logo\\tree-type-detection-7\\test\\images\\IMG_9680_JPG.rf.810edd09023fbfe37f4614980a44316f.jpg: 640x640 (no detections), 30.5ms\n",
                  "image 130/260 D:\\Disk D Documents\\CS424\\Project SMU Logo\\tree-type-detection-7\\test\\images\\IMG_9683_JPG.rf.ed7756986a3753f89759228fe4f17777.jpg: 640x640 (no detections), 30.5ms\n",
                  "image 131/260 D:\\Disk D Documents\\CS424\\Project SMU Logo\\tree-type-detection-7\\test\\images\\IMG_9703_JPG.rf.3f609c395bfca0df482785ada701fb94.jpg: 640x640 (no detections), 30.0ms\n",
                  "image 132/260 D:\\Disk D Documents\\CS424\\Project SMU Logo\\tree-type-detection-7\\test\\images\\IMG_9705_JPG.rf.02c7c789d39e0a036a6f85c78676eb52.jpg: 640x640 1 SMU-Logo, 31.0ms\n",
                  "image 133/260 D:\\Disk D Documents\\CS424\\Project SMU Logo\\tree-type-detection-7\\test\\images\\IMG_9706_JPG.rf.32754a82cac49757bdb27b1d6f009064.jpg: 640x640 1 SMU-Logo, 29.5ms\n",
                  "image 134/260 D:\\Disk D Documents\\CS424\\Project SMU Logo\\tree-type-detection-7\\test\\images\\IMG_9708_JPG.rf.450ddac545b6a808b19b9c1545d375b2.jpg: 640x640 1 SMU-Logo, 30.0ms\n",
                  "image 135/260 D:\\Disk D Documents\\CS424\\Project SMU Logo\\tree-type-detection-7\\test\\images\\IMG_9715_JPG.rf.2b61e7801c2386b66c863296a06cc2a6.jpg: 640x640 1 SMU-Logo, 30.5ms\n",
                  "image 136/260 D:\\Disk D Documents\\CS424\\Project SMU Logo\\tree-type-detection-7\\test\\images\\IMG_9736_JPG.rf.8a65c6000370555b98828d42b5e44083.jpg: 640x640 (no detections), 30.0ms\n",
                  "image 137/260 D:\\Disk D Documents\\CS424\\Project SMU Logo\\tree-type-detection-7\\test\\images\\IMG_9737_JPG.rf.d182628949b4cdb80ee11f692d33b694.jpg: 640x640 (no detections), 30.0ms\n",
                  "image 138/260 D:\\Disk D Documents\\CS424\\Project SMU Logo\\tree-type-detection-7\\test\\images\\IMG_9742_JPG.rf.11e31576d138a1958f256e3967cd8891.jpg: 640x640 1 SMU-Logo, 30.0ms\n",
                  "image 139/260 D:\\Disk D Documents\\CS424\\Project SMU Logo\\tree-type-detection-7\\test\\images\\IMG_9748_JPG.rf.f75d5de13d76d837c9beb9bd4edbadea.jpg: 640x640 1 SMU-Logo, 30.0ms\n",
                  "image 140/260 D:\\Disk D Documents\\CS424\\Project SMU Logo\\tree-type-detection-7\\test\\images\\IMG_9765_JPG.rf.6adb2f1f5966c0bfa5b15d21cfdce626.jpg: 640x640 1 SMU-Logo, 29.5ms\n",
                  "image 141/260 D:\\Disk D Documents\\CS424\\Project SMU Logo\\tree-type-detection-7\\test\\images\\IMG_9770_JPG.rf.778ef510bb678899d70abb4b142e7ef3.jpg: 640x640 1 SMU-Logo, 30.5ms\n",
                  "image 142/260 D:\\Disk D Documents\\CS424\\Project SMU Logo\\tree-type-detection-7\\test\\images\\IMG_9777_JPG.rf.b1bf4a2efaa5e33841eb53828877f144.jpg: 640x640 1 SMU-Logo, 30.0ms\n",
                  "image 143/260 D:\\Disk D Documents\\CS424\\Project SMU Logo\\tree-type-detection-7\\test\\images\\IMG_9782_JPG.rf.5f5d0967ea70249087902cc496647c7f.jpg: 640x640 1 SMU-Logo, 30.0ms\n",
                  "image 144/260 D:\\Disk D Documents\\CS424\\Project SMU Logo\\tree-type-detection-7\\test\\images\\IMG_9801_JPG.rf.804a9260449edf43ec82cb181ef52d5b.jpg: 640x640 1 SMU-Logo, 30.0ms\n",
                  "image 145/260 D:\\Disk D Documents\\CS424\\Project SMU Logo\\tree-type-detection-7\\test\\images\\IMG_9837_JPG.rf.df0d7763e077da0e80dee3732e409f60.jpg: 640x640 1 SMU-Logo, 29.5ms\n",
                  "image 146/260 D:\\Disk D Documents\\CS424\\Project SMU Logo\\tree-type-detection-7\\test\\images\\IMG_9849_JPG.rf.c6c9ddc93d60a6f86780ef61a864b450.jpg: 640x640 1 SMU-Logo, 30.0ms\n",
                  "image 147/260 D:\\Disk D Documents\\CS424\\Project SMU Logo\\tree-type-detection-7\\test\\images\\IMG_9854_JPG.rf.1395fbc1146e4e5e42c3750711de919b.jpg: 640x640 1 SMU-Logo, 30.0ms\n",
                  "image 148/260 D:\\Disk D Documents\\CS424\\Project SMU Logo\\tree-type-detection-7\\test\\images\\IMG_9863_JPG.rf.2bbeab4a2978ffd7f9aced9677261631.jpg: 640x640 1 SMU-Logo, 30.0ms\n",
                  "image 149/260 D:\\Disk D Documents\\CS424\\Project SMU Logo\\tree-type-detection-7\\test\\images\\IMG_9882_JPG.rf.d9d0c4b8c16f713628a69b69761cb103.jpg: 640x640 1 SMU-Logo, 30.0ms\n",
                  "image 150/260 D:\\Disk D Documents\\CS424\\Project SMU Logo\\tree-type-detection-7\\test\\images\\IMG_9886_JPG.rf.4c8979bc48a881499179ba271dc591da.jpg: 640x640 (no detections), 29.5ms\n",
                  "image 151/260 D:\\Disk D Documents\\CS424\\Project SMU Logo\\tree-type-detection-7\\test\\images\\IMG_9899_JPG.rf.80891e87bd61ac4546cd1b9a5c4889cf.jpg: 640x640 1 SMU-Logo, 30.0ms\n",
                  "image 152/260 D:\\Disk D Documents\\CS424\\Project SMU Logo\\tree-type-detection-7\\test\\images\\IMG_9902_JPG.rf.2f44c549379d94bc501e79c370f36627.jpg: 640x640 1 SMU-Logo, 30.0ms\n",
                  "image 153/260 D:\\Disk D Documents\\CS424\\Project SMU Logo\\tree-type-detection-7\\test\\images\\PXL_20240222_075200185_jpg.rf.f144e2dab50402206e0a82d6723300b5.jpg: 640x640 1 SMU-Logo, 30.5ms\n",
                  "image 154/260 D:\\Disk D Documents\\CS424\\Project SMU Logo\\tree-type-detection-7\\test\\images\\PXL_20240222_075230952_jpg.rf.a70df2afb8cfbed4dfaa66bf64b0a4ce.jpg: 640x640 (no detections), 30.5ms\n",
                  "image 155/260 D:\\Disk D Documents\\CS424\\Project SMU Logo\\tree-type-detection-7\\test\\images\\PXL_20240222_075240869_jpg.rf.cefa656997eed185b497e9a3b15a64c7.jpg: 640x640 (no detections), 29.5ms\n",
                  "image 156/260 D:\\Disk D Documents\\CS424\\Project SMU Logo\\tree-type-detection-7\\test\\images\\PXL_20240222_075302313_jpg.rf.2a69743c44cf4f0cb9422468ca45eb7d.jpg: 640x640 (no detections), 30.0ms\n",
                  "image 157/260 D:\\Disk D Documents\\CS424\\Project SMU Logo\\tree-type-detection-7\\test\\images\\PXL_20240222_075330656_jpg.rf.c7e63a21de9e71cdc55ad3daf4398509.jpg: 640x640 1 SMU-Logo, 30.0ms\n",
                  "image 158/260 D:\\Disk D Documents\\CS424\\Project SMU Logo\\tree-type-detection-7\\test\\images\\PXL_20240222_075421979_jpg.rf.9b1e2cd9e7c30e5dbfe9910e36e3e8fe.jpg: 640x640 (no detections), 30.5ms\n",
                  "image 159/260 D:\\Disk D Documents\\CS424\\Project SMU Logo\\tree-type-detection-7\\test\\images\\PXL_20240222_075524268_jpg.rf.0b58b778c21a3f8ece773e057f5af81b.jpg: 640x640 (no detections), 29.5ms\n",
                  "image 160/260 D:\\Disk D Documents\\CS424\\Project SMU Logo\\tree-type-detection-7\\test\\images\\PXL_20240222_075638762_jpg.rf.43367806218340aca2161ad87c980a20.jpg: 640x640 (no detections), 29.5ms\n",
                  "image 161/260 D:\\Disk D Documents\\CS424\\Project SMU Logo\\tree-type-detection-7\\test\\images\\PXL_20240222_075640199_jpg.rf.5bd56ea3c607e1b0f457b24d1d05c991.jpg: 640x640 (no detections), 30.0ms\n",
                  "image 162/260 D:\\Disk D Documents\\CS424\\Project SMU Logo\\tree-type-detection-7\\test\\images\\PXL_20240222_075720945_jpg.rf.1546a51280eba5ce13152d9e6d48d2a2.jpg: 640x640 (no detections), 30.0ms\n",
                  "image 163/260 D:\\Disk D Documents\\CS424\\Project SMU Logo\\tree-type-detection-7\\test\\images\\PXL_20240222_075814972_jpg.rf.ef5b0dd1bcea5c07c15ccaa6f63b2603.jpg: 640x640 (no detections), 29.5ms\n",
                  "image 164/260 D:\\Disk D Documents\\CS424\\Project SMU Logo\\tree-type-detection-7\\test\\images\\PXL_20240222_080046346_jpg.rf.18c48dc22c7b9f557207942725637cba.jpg: 640x640 (no detections), 30.5ms\n",
                  "image 165/260 D:\\Disk D Documents\\CS424\\Project SMU Logo\\tree-type-detection-7\\test\\images\\PXL_20240222_080134808_jpg.rf.9ba7095b5c78c7b0eadb02edd01cedf6.jpg: 640x640 1 SMU-Logo, 30.5ms\n",
                  "image 166/260 D:\\Disk D Documents\\CS424\\Project SMU Logo\\tree-type-detection-7\\test\\images\\PXL_20240222_080155766_jpg.rf.f58255842cec79ccde382f5a43a1d232.jpg: 640x640 (no detections), 29.5ms\n",
                  "image 167/260 D:\\Disk D Documents\\CS424\\Project SMU Logo\\tree-type-detection-7\\test\\images\\PXL_20240222_080354765_jpg.rf.1dc99491bd78afcf252c3fe3fb5df582.jpg: 640x640 1 SMU-Logo, 30.0ms\n",
                  "image 168/260 D:\\Disk D Documents\\CS424\\Project SMU Logo\\tree-type-detection-7\\test\\images\\PXL_20240222_080428847_jpg.rf.794700c471b4da9b211bcff5d41005db.jpg: 640x640 (no detections), 29.5ms\n",
                  "image 169/260 D:\\Disk D Documents\\CS424\\Project SMU Logo\\tree-type-detection-7\\test\\images\\PXL_20240222_080440212_jpg.rf.8289806e7e7f9810c8e14f9b75a5d251.jpg: 640x640 (no detections), 29.5ms\n",
                  "image 170/260 D:\\Disk D Documents\\CS424\\Project SMU Logo\\tree-type-detection-7\\test\\images\\PXL_20240222_080550832_jpg.rf.36d5a1ad613dcd8d81cb98a5acc3cedf.jpg: 640x640 1 SMU-Logo, 29.5ms\n",
                  "image 171/260 D:\\Disk D Documents\\CS424\\Project SMU Logo\\tree-type-detection-7\\test\\images\\PXL_20240222_080558318_jpg.rf.2e5816a7b5ae9d474ddae4c87ab68925.jpg: 640x640 1 SMU-Logo, 30.4ms\n",
                  "image 172/260 D:\\Disk D Documents\\CS424\\Project SMU Logo\\tree-type-detection-7\\test\\images\\PXL_20240222_080606453_jpg.rf.398e890cca4e9bda34b258d4d30f006f.jpg: 640x640 1 SMU-Logo, 30.0ms\n",
                  "image 173/260 D:\\Disk D Documents\\CS424\\Project SMU Logo\\tree-type-detection-7\\test\\images\\PXL_20240222_080626806_jpg.rf.a1373536e23ab8f8a90546504bfd7a51.jpg: 640x640 1 SMU-Logo, 30.0ms\n",
                  "image 174/260 D:\\Disk D Documents\\CS424\\Project SMU Logo\\tree-type-detection-7\\test\\images\\PXL_20240222_080647619_jpg.rf.ff61f19100dcb2c06d4edf816545b131.jpg: 640x640 1 SMU-Logo, 30.0ms\n",
                  "image 175/260 D:\\Disk D Documents\\CS424\\Project SMU Logo\\tree-type-detection-7\\test\\images\\PXL_20240222_080738069_jpg.rf.965a8c33ba6ae0ff3c1e5d1a0770b54c.jpg: 640x640 1 SMU-Logo, 30.0ms\n",
                  "image 176/260 D:\\Disk D Documents\\CS424\\Project SMU Logo\\tree-type-detection-7\\test\\images\\PXL_20240222_080757048_jpg.rf.c6dd588b459daf8327aa6497b285bd50.jpg: 640x640 (no detections), 30.0ms\n",
                  "image 177/260 D:\\Disk D Documents\\CS424\\Project SMU Logo\\tree-type-detection-7\\test\\images\\PXL_20240222_080816721_jpg.rf.f0bed1371784b7407cd86bd492d58ba1.jpg: 640x640 (no detections), 30.0ms\n",
                  "image 178/260 D:\\Disk D Documents\\CS424\\Project SMU Logo\\tree-type-detection-7\\test\\images\\PXL_20240222_080819893_jpg.rf.eb13a1f737f804446b46fe8a05af7fa7.jpg: 640x640 (no detections), 30.5ms\n",
                  "image 179/260 D:\\Disk D Documents\\CS424\\Project SMU Logo\\tree-type-detection-7\\test\\images\\PXL_20240222_080908882_jpg.rf.38507b1073b5dc1c3e339da856d65d83.jpg: 640x640 (no detections), 29.5ms\n",
                  "image 180/260 D:\\Disk D Documents\\CS424\\Project SMU Logo\\tree-type-detection-7\\test\\images\\PXL_20240222_080913030_jpg.rf.a220394a73572d6b4793f980b2bbee79.jpg: 640x640 (no detections), 30.5ms\n",
                  "image 181/260 D:\\Disk D Documents\\CS424\\Project SMU Logo\\tree-type-detection-7\\test\\images\\PXL_20240222_080914093_jpg.rf.0de2e3be8c15cfc7f4077a5ab3d50ed2.jpg: 640x640 (no detections), 30.0ms\n",
                  "image 182/260 D:\\Disk D Documents\\CS424\\Project SMU Logo\\tree-type-detection-7\\test\\images\\PXL_20240222_080935346_jpg.rf.b4e032b45b8a01dc1b93c6d4638e6aa4.jpg: 640x640 (no detections), 30.0ms\n",
                  "image 183/260 D:\\Disk D Documents\\CS424\\Project SMU Logo\\tree-type-detection-7\\test\\images\\PXL_20240222_081047073_jpg.rf.9e63cc5206fa90d3af118639cb715be7.jpg: 640x640 1 SMU-Logo, 30.0ms\n",
                  "image 184/260 D:\\Disk D Documents\\CS424\\Project SMU Logo\\tree-type-detection-7\\test\\images\\PXL_20240222_081129650_jpg.rf.8e80fbd0994bc1facddb6571755e40e3.jpg: 640x640 1 SMU-Logo, 30.0ms\n",
                  "image 185/260 D:\\Disk D Documents\\CS424\\Project SMU Logo\\tree-type-detection-7\\test\\images\\PXL_20240222_081132771_jpg.rf.195bd02e93ef0c89e5c49d90433d6412.jpg: 640x640 1 SMU-Logo, 30.0ms\n",
                  "image 186/260 D:\\Disk D Documents\\CS424\\Project SMU Logo\\tree-type-detection-7\\test\\images\\PXL_20240222_081150074_jpg.rf.a776507e2845fcdd72c7681cd4e4dd0f.jpg: 640x640 (no detections), 30.0ms\n",
                  "image 187/260 D:\\Disk D Documents\\CS424\\Project SMU Logo\\tree-type-detection-7\\test\\images\\PXL_20240222_081214877_jpg.rf.2df9868296d20069867fd88e13315a39.jpg: 640x640 (no detections), 29.0ms\n",
                  "image 188/260 D:\\Disk D Documents\\CS424\\Project SMU Logo\\tree-type-detection-7\\test\\images\\PXL_20240222_081217783_jpg.rf.2944c7bbfb8f530e19cebca5068e72fe.jpg: 640x640 1 SMU-Logo, 31.0ms\n",
                  "image 189/260 D:\\Disk D Documents\\CS424\\Project SMU Logo\\tree-type-detection-7\\test\\images\\PXL_20240222_081240682_jpg.rf.e5ba39feea5358a76f013992772fecd3.jpg: 640x640 1 SMU-Logo, 29.5ms\n",
                  "image 190/260 D:\\Disk D Documents\\CS424\\Project SMU Logo\\tree-type-detection-7\\test\\images\\PXL_20240222_081251843_jpg.rf.7d6807da5886e45160ec86f0fd570939.jpg: 640x640 1 SMU-Logo, 29.5ms\n",
                  "image 191/260 D:\\Disk D Documents\\CS424\\Project SMU Logo\\tree-type-detection-7\\test\\images\\PXL_20240222_081325366_jpg.rf.dcb37b40d2be1a0a4a27b8429d10ad08.jpg: 640x640 (no detections), 29.5ms\n",
                  "image 192/260 D:\\Disk D Documents\\CS424\\Project SMU Logo\\tree-type-detection-7\\test\\images\\PXL_20240222_081326596_jpg.rf.bb3643f5bb78bdda673f0e678464f168.jpg: 640x640 (no detections), 29.5ms\n",
                  "image 193/260 D:\\Disk D Documents\\CS424\\Project SMU Logo\\tree-type-detection-7\\test\\images\\PXL_20240222_081341568_jpg.rf.23ec8ad19bf1104d5ff27e70efd88888.jpg: 640x640 (no detections), 29.5ms\n",
                  "image 194/260 D:\\Disk D Documents\\CS424\\Project SMU Logo\\tree-type-detection-7\\test\\images\\PXL_20240222_081403642_jpg.rf.61da4dc5c9d9e51d70735ab3bbc8c56e.jpg: 640x640 (no detections), 30.0ms\n",
                  "image 195/260 D:\\Disk D Documents\\CS424\\Project SMU Logo\\tree-type-detection-7\\test\\images\\PXL_20240222_081427448_jpg.rf.c688291b06303217cb8d83cf6a081df1.jpg: 640x640 (no detections), 29.5ms\n",
                  "image 196/260 D:\\Disk D Documents\\CS424\\Project SMU Logo\\tree-type-detection-7\\test\\images\\PXL_20240222_081428437_jpg.rf.e9794a4ac59d78005bbc7e4b9faa1115.jpg: 640x640 (no detections), 31.0ms\n",
                  "image 197/260 D:\\Disk D Documents\\CS424\\Project SMU Logo\\tree-type-detection-7\\test\\images\\PXL_20240222_081441491_jpg.rf.4fa8e892dce699358b25ca0f7a8da321.jpg: 640x640 (no detections), 30.0ms\n",
                  "image 198/260 D:\\Disk D Documents\\CS424\\Project SMU Logo\\tree-type-detection-7\\test\\images\\PXL_20240222_081443748_jpg.rf.acac7ec3da10ad381c328200cddae245.jpg: 640x640 (no detections), 30.5ms\n",
                  "image 199/260 D:\\Disk D Documents\\CS424\\Project SMU Logo\\tree-type-detection-7\\test\\images\\PXL_20240222_081456410_jpg.rf.50921b6122fc1e40fb275c24f0924d1d.jpg: 640x640 (no detections), 30.5ms\n",
                  "image 200/260 D:\\Disk D Documents\\CS424\\Project SMU Logo\\tree-type-detection-7\\test\\images\\PXL_20240222_081500755_jpg.rf.7774a74b770a11043d8ba9388d70c110.jpg: 640x640 (no detections), 30.0ms\n",
                  "image 201/260 D:\\Disk D Documents\\CS424\\Project SMU Logo\\tree-type-detection-7\\test\\images\\PXL_20240222_081502854_jpg.rf.6b8a4f4d8b84f6b977c485ab4ac9a62b.jpg: 640x640 (no detections), 30.5ms\n",
                  "image 202/260 D:\\Disk D Documents\\CS424\\Project SMU Logo\\tree-type-detection-7\\test\\images\\PXL_20240222_081529586_jpg.rf.7113c81194ebcc79514ef56cbd7e92fd.jpg: 640x640 (no detections), 30.0ms\n",
                  "image 203/260 D:\\Disk D Documents\\CS424\\Project SMU Logo\\tree-type-detection-7\\test\\images\\PXL_20240222_081607160_jpg.rf.4ac5c5bf0008ab738a0005fd53d377a6.jpg: 640x640 (no detections), 29.5ms\n",
                  "image 204/260 D:\\Disk D Documents\\CS424\\Project SMU Logo\\tree-type-detection-7\\test\\images\\PXL_20240222_081618979_jpg.rf.8e3f6cbc4662bb94118ccc2ca6f52670.jpg: 640x640 (no detections), 30.0ms\n",
                  "image 205/260 D:\\Disk D Documents\\CS424\\Project SMU Logo\\tree-type-detection-7\\test\\images\\PXL_20240222_081643858_jpg.rf.d5de4e215e0f7f8786c9497038d738d9.jpg: 640x640 1 SMU-Logo, 30.5ms\n",
                  "image 206/260 D:\\Disk D Documents\\CS424\\Project SMU Logo\\tree-type-detection-7\\test\\images\\PXL_20240222_081651839_jpg.rf.57fce25e13c3496f2ff4ca86bd3d7a9b.jpg: 640x640 (no detections), 29.0ms\n",
                  "image 207/260 D:\\Disk D Documents\\CS424\\Project SMU Logo\\tree-type-detection-7\\test\\images\\PXL_20240222_081849976_jpg.rf.d0c267a709fff77526d00cd53def2870.jpg: 640x640 1 SMU-Logo, 29.0ms\n",
                  "image 208/260 D:\\Disk D Documents\\CS424\\Project SMU Logo\\tree-type-detection-7\\test\\images\\PXL_20240227_004627915-RESTORED_jpg.rf.c2284a6530433e0b7da3b6cda9542667.jpg: 640x640 (no detections), 29.5ms\n",
                  "image 209/260 D:\\Disk D Documents\\CS424\\Project SMU Logo\\tree-type-detection-7\\test\\images\\PXL_20240227_004656792_jpg.rf.b8ebfcd1fa071786b283a0fb0a18eb93.jpg: 640x640 (no detections), 29.5ms\n",
                  "image 210/260 D:\\Disk D Documents\\CS424\\Project SMU Logo\\tree-type-detection-7\\test\\images\\PXL_20240227_004742629_jpg.rf.7c15187309339ac345a5f504daec7fd1.jpg: 640x640 (no detections), 29.0ms\n",
                  "image 211/260 D:\\Disk D Documents\\CS424\\Project SMU Logo\\tree-type-detection-7\\test\\images\\PXL_20240227_005029754_jpg.rf.204a6a9214297dee30f0caa452f77dba.jpg: 640x640 1 SMU-Logo, 29.0ms\n",
                  "image 212/260 D:\\Disk D Documents\\CS424\\Project SMU Logo\\tree-type-detection-7\\test\\images\\PXL_20240227_005057991_jpg.rf.06ac4759d35f89e50df5b8f98249de15.jpg: 640x640 1 SMU-Logo, 29.0ms\n",
                  "image 213/260 D:\\Disk D Documents\\CS424\\Project SMU Logo\\tree-type-detection-7\\test\\images\\PXL_20240227_005121263_jpg.rf.4d841570f9ab932355718d89d296bd5c.jpg: 640x640 (no detections), 29.0ms\n",
                  "image 214/260 D:\\Disk D Documents\\CS424\\Project SMU Logo\\tree-type-detection-7\\test\\images\\PXL_20240227_005259459_jpg.rf.cc0263b85ad7a340689b74a75deab231.jpg: 640x640 (no detections), 30.5ms\n",
                  "image 215/260 D:\\Disk D Documents\\CS424\\Project SMU Logo\\tree-type-detection-7\\test\\images\\PXL_20240227_005527166_jpg.rf.c404519d3609ede5ab6deb74990f0e52.jpg: 640x640 (no detections), 29.0ms\n",
                  "image 216/260 D:\\Disk D Documents\\CS424\\Project SMU Logo\\tree-type-detection-7\\test\\images\\PXL_20240227_005531868_jpg.rf.f5f0e5ccfb9f778e63a8d0a23cdefa31.jpg: 640x640 (no detections), 29.0ms\n",
                  "image 217/260 D:\\Disk D Documents\\CS424\\Project SMU Logo\\tree-type-detection-7\\test\\images\\PXL_20240227_005928597_jpg.rf.291ff8bee49b4c47b6baef40f6401bf8.jpg: 640x640 1 SMU-Logo, 29.5ms\n",
                  "image 218/260 D:\\Disk D Documents\\CS424\\Project SMU Logo\\tree-type-detection-7\\test\\images\\PXL_20240227_005944848_jpg.rf.f53be60f38677ca76ebbd194c2470d5a.jpg: 640x640 1 SMU-Logo, 29.5ms\n",
                  "image 219/260 D:\\Disk D Documents\\CS424\\Project SMU Logo\\tree-type-detection-7\\test\\images\\PXL_20240227_010234064_jpg.rf.81ccf9db42e953d77b3a2e28fa06a8f4.jpg: 640x640 (no detections), 28.5ms\n",
                  "image 220/260 D:\\Disk D Documents\\CS424\\Project SMU Logo\\tree-type-detection-7\\test\\images\\PXL_20240227_010243431_jpg.rf.d38498fe2988f46640353af70de0bfbe.jpg: 640x640 (no detections), 29.5ms\n",
                  "image 221/260 D:\\Disk D Documents\\CS424\\Project SMU Logo\\tree-type-detection-7\\test\\images\\PXL_20240227_010818145_jpg.rf.f3f18a42a409e40defb55fcdad8929cd.jpg: 640x640 (no detections), 28.5ms\n",
                  "image 222/260 D:\\Disk D Documents\\CS424\\Project SMU Logo\\tree-type-detection-7\\test\\images\\PXL_20240227_010851567_jpg.rf.c9e743501e8f732ad7aeee8aa85cfc9a.jpg: 640x640 2 SMU-Logos, 29.0ms\n",
                  "image 223/260 D:\\Disk D Documents\\CS424\\Project SMU Logo\\tree-type-detection-7\\test\\images\\PXL_20240227_010929915_jpg.rf.eec1e7502d3a929325500a9ded9031e5.jpg: 640x640 1 SMU-Logo, 29.5ms\n",
                  "image 224/260 D:\\Disk D Documents\\CS424\\Project SMU Logo\\tree-type-detection-7\\test\\images\\PXL_20240227_010940985_jpg.rf.d478de4db8d84b82bc1b9a8b69ed7efb.jpg: 640x640 1 SMU-Logo, 29.0ms\n",
                  "image 225/260 D:\\Disk D Documents\\CS424\\Project SMU Logo\\tree-type-detection-7\\test\\images\\PXL_20240227_011031333_jpg.rf.05d735af5805e0a614d812a18ad41d7b.jpg: 640x640 (no detections), 29.0ms\n",
                  "image 226/260 D:\\Disk D Documents\\CS424\\Project SMU Logo\\tree-type-detection-7\\test\\images\\PXL_20240227_011344705_jpg.rf.93009f6fafe43880981a08516af3acf2.jpg: 640x640 (no detections), 29.6ms\n",
                  "image 227/260 D:\\Disk D Documents\\CS424\\Project SMU Logo\\tree-type-detection-7\\test\\images\\PXL_20240227_011547577_jpg.rf.6657ec9aafa5ea0dfaa854edb2ec8c03.jpg: 640x640 (no detections), 30.0ms\n",
                  "image 228/260 D:\\Disk D Documents\\CS424\\Project SMU Logo\\tree-type-detection-7\\test\\images\\PXL_20240227_011758758_jpg.rf.2e7e9ee9d8dc25151443b39620901de0.jpg: 640x640 (no detections), 30.0ms\n",
                  "image 229/260 D:\\Disk D Documents\\CS424\\Project SMU Logo\\tree-type-detection-7\\test\\images\\PXL_20240227_011911727_jpg.rf.c3f27713a264a0a6dc5fc002a86aebc0.jpg: 640x640 (no detections), 36.0ms\n",
                  "image 230/260 D:\\Disk D Documents\\CS424\\Project SMU Logo\\tree-type-detection-7\\test\\images\\PXL_20240227_011932928_jpg.rf.c07f633a638648209fca3b2fd05b8de7.jpg: 640x640 (no detections), 28.5ms\n",
                  "image 231/260 D:\\Disk D Documents\\CS424\\Project SMU Logo\\tree-type-detection-7\\test\\images\\PXL_20240227_012019396_jpg.rf.e11c4fa6cd0668a0fe785d44ed6b8867.jpg: 640x640 (no detections), 29.5ms\n",
                  "image 232/260 D:\\Disk D Documents\\CS424\\Project SMU Logo\\tree-type-detection-7\\test\\images\\PXL_20240227_012041265_jpg.rf.d4e57acb6ad9c02c306cb6278cda30fe.jpg: 640x640 (no detections), 28.5ms\n",
                  "image 233/260 D:\\Disk D Documents\\CS424\\Project SMU Logo\\tree-type-detection-7\\test\\images\\PXL_20240227_012157625_jpg.rf.776bf1fe8999c4ee3c0d7614a82baccb.jpg: 640x640 (no detections), 29.5ms\n",
                  "image 234/260 D:\\Disk D Documents\\CS424\\Project SMU Logo\\tree-type-detection-7\\test\\images\\PXL_20240227_012324736_jpg.rf.7a3b28ef4b89568142253d6f2283e7c7.jpg: 640x640 (no detections), 29.0ms\n",
                  "image 235/260 D:\\Disk D Documents\\CS424\\Project SMU Logo\\tree-type-detection-7\\test\\images\\PXL_20240227_012335140_jpg.rf.770beee9997ba508b3a4d34954aca33d.jpg: 640x640 (no detections), 29.0ms\n",
                  "image 236/260 D:\\Disk D Documents\\CS424\\Project SMU Logo\\tree-type-detection-7\\test\\images\\PXL_20240227_012355615_jpg.rf.657e956d85d4d20603e11271cc16b337.jpg: 640x640 1 SMU-Logo, 29.5ms\n",
                  "image 237/260 D:\\Disk D Documents\\CS424\\Project SMU Logo\\tree-type-detection-7\\test\\images\\PXL_20240227_012435664_jpg.rf.51a8c1d8c6408259525d43e3f0ddc654.jpg: 640x640 (no detections), 29.0ms\n",
                  "image 238/260 D:\\Disk D Documents\\CS424\\Project SMU Logo\\tree-type-detection-7\\test\\images\\PXL_20240227_012449166_jpg.rf.f807553e454014bf909bcff7c9df5209.jpg: 640x640 (no detections), 30.0ms\n",
                  "image 239/260 D:\\Disk D Documents\\CS424\\Project SMU Logo\\tree-type-detection-7\\test\\images\\PXL_20240227_012456420_jpg.rf.103b5cdfe2ab5c1cc419ac8c4f2276f6.jpg: 640x640 (no detections), 29.0ms\n",
                  "image 240/260 D:\\Disk D Documents\\CS424\\Project SMU Logo\\tree-type-detection-7\\test\\images\\PXL_20240227_012458452_jpg.rf.3a9b0c91b273e83f17af345db1425af6.jpg: 640x640 (no detections), 29.0ms\n",
                  "image 241/260 D:\\Disk D Documents\\CS424\\Project SMU Logo\\tree-type-detection-7\\test\\images\\PXL_20240227_012507690_jpg.rf.97f8ab325daed4bcf1bcaa99e9c7f579.jpg: 640x640 (no detections), 29.0ms\n",
                  "image 242/260 D:\\Disk D Documents\\CS424\\Project SMU Logo\\tree-type-detection-7\\test\\images\\PXL_20240227_012514635_jpg.rf.b4afd35895a5c5e243b15593a8f06b26.jpg: 640x640 (no detections), 29.0ms\n",
                  "image 243/260 D:\\Disk D Documents\\CS424\\Project SMU Logo\\tree-type-detection-7\\test\\images\\PXL_20240227_012519526_jpg.rf.bb2708fbfec66f28f4c09a1f3c1e0da7.jpg: 640x640 (no detections), 29.5ms\n",
                  "image 244/260 D:\\Disk D Documents\\CS424\\Project SMU Logo\\tree-type-detection-7\\test\\images\\PXL_20240227_012520752_jpg.rf.dca02329b9b36d76a44fc8645f46ad6a.jpg: 640x640 (no detections), 29.0ms\n",
                  "image 245/260 D:\\Disk D Documents\\CS424\\Project SMU Logo\\tree-type-detection-7\\test\\images\\PXL_20240227_012544593_jpg.rf.e6afb7324eb0bb7761fa6a62f0929712.jpg: 640x640 (no detections), 29.0ms\n",
                  "image 246/260 D:\\Disk D Documents\\CS424\\Project SMU Logo\\tree-type-detection-7\\test\\images\\PXL_20240227_012743706_jpg.rf.8dd58e350270838df8c845124a4042c2.jpg: 640x640 (no detections), 29.5ms\n",
                  "image 247/260 D:\\Disk D Documents\\CS424\\Project SMU Logo\\tree-type-detection-7\\test\\images\\PXL_20240227_012839100_jpg.rf.f9db754837aa6bcc90118061e2b3c642.jpg: 640x640 (no detections), 30.0ms\n",
                  "image 248/260 D:\\Disk D Documents\\CS424\\Project SMU Logo\\tree-type-detection-7\\test\\images\\PXL_20240227_012955060_jpg.rf.0e3831ec7a23ffe5ae604cc89da8419d.jpg: 640x640 (no detections), 30.0ms\n",
                  "image 249/260 D:\\Disk D Documents\\CS424\\Project SMU Logo\\tree-type-detection-7\\test\\images\\PXL_20240227_012957082_jpg.rf.6ad0cc2d2f3b739ae4bdb8682165b42f.jpg: 640x640 (no detections), 29.0ms\n",
                  "image 250/260 D:\\Disk D Documents\\CS424\\Project SMU Logo\\tree-type-detection-7\\test\\images\\PXL_20240227_013004065_jpg.rf.af903f302914286f3726077430833fc6.jpg: 640x640 (no detections), 29.0ms\n",
                  "image 251/260 D:\\Disk D Documents\\CS424\\Project SMU Logo\\tree-type-detection-7\\test\\images\\PXL_20240227_013033315_jpg.rf.27c9ab02e40f5832ab6e0e890577e151.jpg: 640x640 (no detections), 29.5ms\n",
                  "image 252/260 D:\\Disk D Documents\\CS424\\Project SMU Logo\\tree-type-detection-7\\test\\images\\PXL_20240227_013034684_jpg.rf.8dc728fd318e4d2b4082f9bb9d39902b.jpg: 640x640 (no detections), 29.0ms\n",
                  "image 253/260 D:\\Disk D Documents\\CS424\\Project SMU Logo\\tree-type-detection-7\\test\\images\\PXL_20240227_013046356_jpg.rf.404e415d68a433bafdb5fe15a31987b5.jpg: 640x640 (no detections), 28.0ms\n",
                  "image 254/260 D:\\Disk D Documents\\CS424\\Project SMU Logo\\tree-type-detection-7\\test\\images\\PXL_20240227_013126838_jpg.rf.624fec532a5a402f58c55a211ba2f724.jpg: 640x640 (no detections), 29.6ms\n",
                  "image 255/260 D:\\Disk D Documents\\CS424\\Project SMU Logo\\tree-type-detection-7\\test\\images\\PXL_20240227_013139340_jpg.rf.cfb3960014f62593ba433a0677f159e3.jpg: 640x640 (no detections), 47.5ms\n",
                  "image 256/260 D:\\Disk D Documents\\CS424\\Project SMU Logo\\tree-type-detection-7\\test\\images\\PXL_20240227_013202747_jpg.rf.3ddf3228df5ac47335cd81718773c163.jpg: 640x640 1 SMU-Logo, 29.0ms\n",
                  "image 257/260 D:\\Disk D Documents\\CS424\\Project SMU Logo\\tree-type-detection-7\\test\\images\\PXL_20240227_013225353_jpg.rf.83a1412171a5d5f880afbe1ca4ef6eec.jpg: 640x640 (no detections), 28.5ms\n",
                  "image 258/260 D:\\Disk D Documents\\CS424\\Project SMU Logo\\tree-type-detection-7\\test\\images\\PXL_20240227_013229324_jpg.rf.3013a3a3855f1373974a6c8c3a29bc38.jpg: 640x640 (no detections), 29.5ms\n",
                  "image 259/260 D:\\Disk D Documents\\CS424\\Project SMU Logo\\tree-type-detection-7\\test\\images\\PXL_20240227_013450085_jpg.rf.69f3809f22335cca1262a1597f917aa9.jpg: 640x640 (no detections), 28.5ms\n",
                  "image 260/260 D:\\Disk D Documents\\CS424\\Project SMU Logo\\tree-type-detection-7\\test\\images\\PXL_20240227_013525510_jpg.rf.a4b8b92f299c7008bbc5ac2d1daa22c6.jpg: 640x640 (no detections), 28.5ms\n",
                  "Speed: 3.2ms preprocess, 31.5ms inference, 1.5ms postprocess per image at shape (1, 3, 640, 640)\n"
               ]
            }
         ],
         "source": [
            "# Predict\n",
            "# prediction = model.predict(source=f\"{path_to_data}/test/images\", conf=0.25, iou=0.6)\n",
            "prediction = model.predict(source=f\"{path_to_data}/../image_folder\", conf=0.25, iou=0.6)"
         ]
      },
      {
         "cell_type": "markdown",
         "metadata": {},
         "source": [
            "Save images to `/predictions` folder if bounding box exists."
         ]
      },
      {
         "cell_type": "code",
         "execution_count": 9,
         "metadata": {},
         "outputs": [
            {
               "data": {
                  "text/plain": [
                     "49"
                  ]
               },
               "execution_count": 9,
               "metadata": {},
               "output_type": "execute_result"
            }
         ],
         "source": [
            "images = {}\n",
            "\n",
            "if not os.path.exists(f'{path_to_data}/../predictions'):\n",
            "    os.makedirs(f'{path_to_data}/../predictions')\n",
            "\n",
            "for i in range(0, len(prediction)):\n",
            "    if prediction[i].boxes.shape[0] >= 1:\n",
            "        im_rgb = Image.fromarray(prediction[i].plot(line_width=1)[..., ::-1])\n",
            "        images[i] = im_rgb  # RGB-order PIL image\n",
            "        predicted_box = convert_bbox_format(prediction[i])\n",
            "\n",
            "        # Write labels\n",
            "        with open(f'{path_to_data}/../predictions/obj_est.txt', 'a') as f:\n",
            "            f.write(', '.join(map(str, predicted_box)) + '\\n')\n",
            "        # Save images\n",
            "        im_rgb.save(fp=f'{path_to_data}/../predictions/{predicted_box[0]}_labelled.jpg')\n",
            "\n",
            "len(images)"
         ]
      }
   ],
   "metadata": {
      "kernelspec": {
         "display_name": "Python 3",
         "language": "python",
         "name": "python3"
      },
      "language_info": {
         "codemirror_mode": {
            "name": "ipython",
            "version": 3
         },
         "file_extension": ".py",
         "mimetype": "text/x-python",
         "name": "python",
         "nbconvert_exporter": "python",
         "pygments_lexer": "ipython3",
         "version": "3.11.2"
      }
   },
   "nbformat": 4,
   "nbformat_minor": 2
}

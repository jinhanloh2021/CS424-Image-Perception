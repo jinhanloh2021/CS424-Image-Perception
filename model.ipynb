{
 "cells": [
  {
   "cell_type": "markdown",
   "metadata": {},
   "source": [
    "# SMU Logo bounding box detection\n",
    "Design an algorithm to identify all images of SMU from a set of random images. A bounding box should be drawn around the SMU logo whenever it appears in an image.\n",
    "\n",
    "When an SMU logo occurs in an image, a bounding box should be drawn around it. Logo identification will be evaluated by its F1 score."
   ]
  },
  {
   "cell_type": "markdown",
   "metadata": {},
   "source": [
    "### Setup\n",
    "Install dependencies\n",
    "```bash\n",
    "pip install -r requirements.txt\n",
    "\n",
    "```"
   ]
  },
  {
   "cell_type": "code",
   "execution_count": null,
   "metadata": {},
   "outputs": [],
   "source": [
    "%pip install -r requirements.txt"
   ]
  },
  {
   "cell_type": "markdown",
   "metadata": {},
   "source": [
    "Import packages"
   ]
  },
  {
   "cell_type": "code",
   "execution_count": null,
   "metadata": {},
   "outputs": [],
   "source": [
    "from ultralytics import YOLO\n",
    "from roboflow import Roboflow\n",
    "from PIL import Image\n",
    "from dotenv import load_dotenv\n",
    "import os"
   ]
  },
  {
   "cell_type": "markdown",
   "metadata": {},
   "source": [
    "Load environment variables using dotenv\n",
    "- `API_KEY` - API Key for Roboflow dataset\n",
    "- `DATA_VERSION` - Version of dataset used\n",
    "- `PATH_TO_DATA` - Absolute file path to the \"SMU-Logo-Detection-1\" folder. See .env.example for example"
   ]
  },
  {
   "cell_type": "code",
   "execution_count": null,
   "metadata": {},
   "outputs": [],
   "source": [
    "# Project settings\n",
    "load_dotenv()\n",
    "api_key = os.getenv('API_KEY')\n",
    "data_version = os.getenv('DATA_VERSION')\n",
    "path_to_data = f'{os.getenv(\"PATH_TO_PROJECT\")}/SMU-Logo-Detection-{data_version}'"
   ]
  },
  {
   "cell_type": "markdown",
   "metadata": {},
   "source": [
    "Load dataset into workspace"
   ]
  },
  {
   "cell_type": "code",
   "execution_count": null,
   "metadata": {},
   "outputs": [],
   "source": [
    "rf = Roboflow(api_key=api_key)\n",
    "project = rf.workspace(\"cs424\").project(\"smu-logo-detection\")\n",
    "dataset = project.version(data_version).download(\"yolov8\")\n"
   ]
  },
  {
   "cell_type": "markdown",
   "metadata": {},
   "source": [
    "Update test, train and val values in data.yaml\n",
    "This fixes a file not found bug"
   ]
  },
  {
   "cell_type": "code",
   "execution_count": null,
   "metadata": {},
   "outputs": [],
   "source": [
    "!python update_path.py"
   ]
  },
  {
   "cell_type": "markdown",
   "metadata": {},
   "source": [
    "### [Training](https://docs.ultralytics.com/modes/train/#train-settings)\n",
    "Use a trained model, saved in `/saved_models`, or train a model.\n",
    "A pre-trained [model](https://github.com/ultralytics/ultralytics?tab=readme-ov-file) `yolov8n.pt` from Ultralytics should be used. Tune hyper-params such as learning rate and epochs.\n",
    "\n",
    "If there is file not found error, check the `FILE_TO_PATH` env variable, and make sure that you've updated the `data.yml` to the absolute file path."
   ]
  },
  {
   "cell_type": "code",
   "execution_count": null,
   "metadata": {},
   "outputs": [],
   "source": [
    "# # Train model (Laptop)\n",
    "# model = YOLO('yolov8n.pt') # pre-trained yolov8 nano\n",
    "# results = model.train(data=f'{path_to_data}/data.yaml', epochs=10)\n",
    "\n",
    "# # Train model (SMU GPU)\n",
    "# model = YOLO('yolov8n.pt')\n",
    "# results = model.train(data=f'{path_to_data}/data.yaml', epochs=10, batch=-1, device=0, workers=4)"
   ]
  },
  {
   "cell_type": "code",
   "execution_count": null,
   "metadata": {},
   "outputs": [],
   "source": [
    "# Use saved model\n",
    "model = YOLO('./saved_models/best_violet.pt')"
   ]
  },
  {
   "cell_type": "markdown",
   "metadata": {},
   "source": [
    "After training, the model can be found in `/runs`. Save the `best.pt` model in the `/saved_models` folder."
   ]
  },
  {
   "cell_type": "markdown",
   "metadata": {},
   "source": [
    "### [Validation](https://docs.ultralytics.com/modes/val/#usage-examples)\n",
    "Val mode is used for validating a YOLOv8 model after it has been trained. In this mode, the model is evaluated on a validation set to measure its accuracy and generalization performance. This mode can be used to tune the hyperparameters of the model to improve its performance."
   ]
  },
  {
   "cell_type": "code",
   "execution_count": null,
   "metadata": {},
   "outputs": [],
   "source": [
    "model.val(data=f'{path_to_data}/data.yaml', conf=0.25, iou=0.6)"
   ]
  },
  {
   "cell_type": "markdown",
   "metadata": {},
   "source": [
    "### [Test](https://docs.ultralytics.com/modes/predict/#why-use-ultralytics-yolo-for-inference)\n",
    "Predict bounding boxes on test set"
   ]
  },
  {
   "cell_type": "code",
   "execution_count": null,
   "metadata": {},
   "outputs": [],
   "source": [
    "# Predict\n",
    "prediction = model.predict(source=f\"{path_to_data}/test/images\", conf=0.25, iou=0.6)"
   ]
  },
  {
   "cell_type": "markdown",
   "metadata": {},
   "source": [
    "Save images to `/predictions` folder if bounding box exists."
   ]
  },
  {
   "cell_type": "code",
   "execution_count": null,
   "metadata": {},
   "outputs": [],
   "source": [
    "im_rgb = prediction[62].plot(line_width=1)\n",
    "im_rgb = Image.fromarray(im_rgb[..., ::-1])  # RGB-order PIL image\n",
    "im_rgb.save(fp=f'{path_to_data}/../predictions/result{0}.jpg')\n"
   ]
  },
  {
   "cell_type": "code",
   "execution_count": null,
   "metadata": {},
   "outputs": [],
   "source": [
    "images = {}\n",
    "for i in range(0, len(prediction)):\n",
    "    if prediction[i].boxes.shape[0] >= 1:\n",
    "        im_rgb = prediction[i].plot(line_width=1)\n",
    "        im_rgb = Image.fromarray(im_rgb[..., ::-1])  # RGB-order PIL image\n",
    "        images[i] = im_rgb\n",
    "        im_rgb.save(fp=f'{path_to_data}/../predictions/result{i}.jpg')\n",
    "images"
   ]
  }
 ],
 "metadata": {
  "kernelspec": {
   "display_name": "Python 3",
   "language": "python",
   "name": "python3"
  },
  "language_info": {
   "codemirror_mode": {
    "name": "ipython",
    "version": 3
   },
   "file_extension": ".py",
   "mimetype": "text/x-python",
   "name": "python",
   "nbconvert_exporter": "python",
   "pygments_lexer": "ipython3",
   "version": "3.10.6"
  }
 },
 "nbformat": 4,
 "nbformat_minor": 2
}

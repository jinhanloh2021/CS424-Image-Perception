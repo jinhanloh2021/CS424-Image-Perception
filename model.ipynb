{
   "cells": [
      {
         "cell_type": "markdown",
         "metadata": {},
         "source": [
            "# SMU Logo bounding box detection\n",
            "Design an algorithm to identify all images of SMU from a set of random images. A bounding box should be drawn around the SMU logo whenever it appears in an image.\n",
            "\n",
            "When an SMU logo occurs in an image, a bounding box should be drawn around it. Logo identification will be evaluated by its F1 score."
         ]
      },
      {
         "cell_type": "markdown",
         "metadata": {},
         "source": [
            "### Setup\n",
            "Install dependencies\n",
            "```bash\n",
            "pip install -r requirements.txt\n",
            "\n",
            "```"
         ]
      },
      {
         "cell_type": "code",
         "execution_count": null,
         "metadata": {},
         "outputs": [],
         "source": [
            "%pip install -r requirements.txt"
         ]
      },
      {
         "cell_type": "markdown",
         "metadata": {},
         "source": [
            "Import packages"
         ]
      },
      {
         "cell_type": "code",
         "execution_count": 1,
         "metadata": {},
         "outputs": [],
         "source": [
            "from ultralytics import YOLO\n",
            "from roboflow import Roboflow\n",
            "from PIL import Image\n",
            "from dotenv import load_dotenv\n",
            "from manage_model import update_path, convert_bbox_format, get_f1\n",
            "import os"
         ]
      },
      {
         "cell_type": "markdown",
         "metadata": {},
         "source": [
            "Load environment variables using dotenv\n",
            "- `API_KEY` - API Key for Roboflow dataset\n",
            "- `DATA_VERSION` - Version of dataset used\n",
            "- `PATH_TO_DATA` - Absolute file path to the \"SMU-Logo-Detection-1\" folder. See .env.example for example"
         ]
      },
      {
         "cell_type": "code",
         "execution_count": 2,
         "metadata": {},
         "outputs": [],
         "source": [
            "# Project settings\n",
            "load_dotenv()\n",
            "api_key = os.getenv('API_KEY')\n",
            "data_version = os.getenv('DATA_VERSION')\n",
            "path_to_project = os.getenv(\"PATH_TO_PROJECT\")\n",
            "\n",
            "# If on SMU Violet, can't load env variables. Write manually.\n",
            "\n",
            "path_to_data = f'{path_to_project}/tree-type-detection-{data_version}'"
         ]
      },
      {
         "cell_type": "markdown",
         "metadata": {},
         "source": [
            "Load dataset into workspace"
         ]
      },
      {
         "cell_type": "code",
         "execution_count": 3,
         "metadata": {},
         "outputs": [
            {
               "name": "stdout",
               "output_type": "stream",
               "text": [
                  "loading Roboflow workspace...\n",
                  "loading Roboflow project...\n",
                  "Exporting format yolov8 in progress : 85.0%\n",
                  "Version export complete for yolov8 format\n"
               ]
            },
            {
               "name": "stderr",
               "output_type": "stream",
               "text": [
                  "Downloading Dataset Version Zip in tree-type-detection-6 to yolov8:: 100%|██████████| 263510/263510 [00:27<00:00, 9450.91it/s] "
               ]
            },
            {
               "name": "stdout",
               "output_type": "stream",
               "text": [
                  "\n"
               ]
            },
            {
               "name": "stderr",
               "output_type": "stream",
               "text": [
                  "\n",
                  "Extracting Dataset Version Zip to tree-type-detection-6 in yolov8:: 100%|██████████| 9214/9214 [00:09<00:00, 928.82it/s] \n"
               ]
            }
         ],
         "source": [
            "rf = Roboflow(api_key=api_key)\n",
            "project = rf.workspace(\"tree-dataset-iftyz\").project(\"tree-type-detection-9rfxy\")\n",
            "dataset = project.version(data_version).download(\"yolov8\")"
         ]
      },
      {
         "cell_type": "markdown",
         "metadata": {},
         "source": [
            "Update test, train and val values in data.yaml\n",
            "This fixes a file not found bug"
         ]
      },
      {
         "cell_type": "code",
         "execution_count": 4,
         "metadata": {},
         "outputs": [],
         "source": [
            "update_path(data_version, path_to_project)"
         ]
      },
      {
         "cell_type": "markdown",
         "metadata": {},
         "source": [
            "### [Training](https://docs.ultralytics.com/modes/train/#train-settings)\n",
            "Use a trained model, saved in `/saved_models`, or train a model.\n",
            "A pre-trained [model](https://github.com/ultralytics/ultralytics?tab=readme-ov-file) `yolov8n.pt` from Ultralytics should be used. Tune hyper-params such as learning rate and epochs.\n",
            "\n",
            "If there is file not found error, check the `FILE_TO_PATH` env variable, and make sure that you've updated the `data.yml` to the absolute file path."
         ]
      },
      {
         "cell_type": "code",
         "execution_count": null,
         "metadata": {},
         "outputs": [],
         "source": [
            "# # Train model (Laptop)\n",
            "# model = YOLO('yolov8n.pt') # pre-trained yolov8 nano\n",
            "# results = model.train(data=f'{path_to_data}/data.yaml', epochs=10)\n",
            "\n",
            "# # Train model (SMU GPU)\n",
            "# model = YOLO('yolov8n.pt')\n",
            "# results = model.train(data=f'{path_to_data}/data.yaml', epochs=10, batch=-1, device=0, workers=4)"
         ]
      },
      {
         "cell_type": "code",
         "execution_count": 5,
         "metadata": {},
         "outputs": [],
         "source": [
            "# Use saved model\n",
            "model = YOLO('./saved_models/v4_epoch13.pt')"
         ]
      },
      {
         "cell_type": "markdown",
         "metadata": {},
         "source": [
            "After training, the model can be found in `/runs`. Save the `best.pt` model in the `/saved_models` folder."
         ]
      },
      {
         "cell_type": "markdown",
         "metadata": {},
         "source": [
            "### [Validation](https://docs.ultralytics.com/modes/val/#usage-examples)\n",
            "Val mode is used for validating a YOLOv8 model after it has been trained. In this mode, the model is evaluated on a validation set to measure its accuracy and generalization performance. This mode can be used to tune the hyperparameters of the model to improve its performance."
         ]
      },
      {
         "cell_type": "code",
         "execution_count": 6,
         "metadata": {},
         "outputs": [
            {
               "name": "stderr",
               "output_type": "stream",
               "text": [
                  "Ultralytics YOLOv8.0.196  Python-3.10.6 torch-2.2.1+cpu CPU (AMD Ryzen 9 5900HX with Radeon Graphics)\n",
                  "Model summary (fused): 168 layers, 3005843 parameters, 0 gradients, 8.1 GFLOPs\n",
                  "\u001b[34m\u001b[1mval: \u001b[0mScanning C:\\Users\\jinha\\Documents\\CS424\\Project SMU Logo\\tree-type-detection-6\\valid\\labels... 764 images, 635 backgrounds, 0 corrupt: 100%|██████████| 764/764 [00:01<00:00, 567.61it/s]\n",
                  "\u001b[34m\u001b[1mval: \u001b[0mNew cache created: C:\\Users\\jinha\\Documents\\CS424\\Project SMU Logo\\tree-type-detection-6\\valid\\labels.cache\n",
                  "                 Class     Images  Instances      Box(P          R      mAP50  mAP50-95): 100%|██████████| 48/48 [01:38<00:00,  2.05s/it]\n",
                  "                   all        764        149      0.902      0.698      0.824      0.662\n",
                  "Speed: 1.6ms preprocess, 113.6ms inference, 0.0ms loss, 0.2ms postprocess per image\n",
                  "Results saved to \u001b[1mruns\\detect\\val5\u001b[0m\n"
               ]
            },
            {
               "data": {
                  "text/plain": [
                     "'\\n1. Epochs: Vary from 7, 15 etc\\n2. Find a way to output the predicted labels into a folder. Compare the predicted labels and actual labels to check the metrics\\n3. Re-annotate if have time (those with very small logos)\\n\\n\\n4. annotate the rest of the images\\n5. after everything is annotated, augmentation and final training\\n'"
                  ]
               },
               "execution_count": 6,
               "metadata": {},
               "output_type": "execute_result"
            }
         ],
         "source": [
            "validation_results = model.val(data=f'{path_to_data}/data.yaml', conf=0.25, iou=0.6)\n",
            "'''\n",
            "1. Epochs: Vary from 7, 15 etc\n",
            "2. Find a way to output the predicted labels into a folder. Compare the predicted labels and actual labels to check the metrics\n",
            "3. Re-annotate if have time (those with very small logos)\n",
            "\n",
            "\n",
            "4. annotate the rest of the images\n",
            "5. after everything is annotated, augmentation and final training\n",
            "'''"
         ]
      },
      {
         "cell_type": "code",
         "execution_count": 9,
         "metadata": {},
         "outputs": [
            {
               "data": {
                  "text/plain": [
                     "0.7870578150152451"
                  ]
               },
               "execution_count": 9,
               "metadata": {},
               "output_type": "execute_result"
            }
         ],
         "source": [
            "get_f1(validation_results.results_dict)"
         ]
      },
      {
         "cell_type": "markdown",
         "metadata": {},
         "source": [
            "### [Test](https://docs.ultralytics.com/modes/predict/#why-use-ultralytics-yolo-for-inference)\n",
            "Predict bounding boxes on test set"
         ]
      },
      {
         "cell_type": "code",
         "execution_count": 10,
         "metadata": {},
         "outputs": [
            {
               "name": "stderr",
               "output_type": "stream",
               "text": [
                  "\n",
                  "image 1/385 C:\\Users\\jinha\\Documents\\CS424\\Project SMU Logo\\tree-type-detection-6\\test\\images\\IMG_0003_jpeg.rf.26535ed0aee349071d63bfa06071414d.jpg: 640x640 (no detections), 117.0ms\n",
                  "image 2/385 C:\\Users\\jinha\\Documents\\CS424\\Project SMU Logo\\tree-type-detection-6\\test\\images\\IMG_0033_jpeg.rf.437e2143225ad66f6bc68f502638f9ba.jpg: 640x640 (no detections), 71.0ms\n",
                  "image 3/385 C:\\Users\\jinha\\Documents\\CS424\\Project SMU Logo\\tree-type-detection-6\\test\\images\\IMG_0034_jpeg.rf.cd82878ddd82fb6eec6697cc6ec4a6e7.jpg: 640x640 (no detections), 70.0ms\n",
                  "image 4/385 C:\\Users\\jinha\\Documents\\CS424\\Project SMU Logo\\tree-type-detection-6\\test\\images\\IMG_0056_jpeg.rf.a6705cd0acec9da66bd162400fa6644c.jpg: 640x640 (no detections), 70.0ms\n",
                  "image 5/385 C:\\Users\\jinha\\Documents\\CS424\\Project SMU Logo\\tree-type-detection-6\\test\\images\\IMG_8081_JPG.rf.68449c9b314861ec406b2e0c1fad51ab.jpg: 640x640 (no detections), 70.0ms\n",
                  "image 6/385 C:\\Users\\jinha\\Documents\\CS424\\Project SMU Logo\\tree-type-detection-6\\test\\images\\IMG_8148_JPG.rf.808f2dd65d8de0d51e865934d6940c67.jpg: 640x640 1 SMU-Logo, 69.0ms\n",
                  "image 7/385 C:\\Users\\jinha\\Documents\\CS424\\Project SMU Logo\\tree-type-detection-6\\test\\images\\IMG_8165_JPG.rf.fc2fd99a3964df0741ace08abf6c88fe.jpg: 640x640 (no detections), 68.0ms\n",
                  "image 8/385 C:\\Users\\jinha\\Documents\\CS424\\Project SMU Logo\\tree-type-detection-6\\test\\images\\IMG_8197_JPG.rf.f3e928f4b102c5de04c05f17df6f2292.jpg: 640x640 (no detections), 70.0ms\n",
                  "image 9/385 C:\\Users\\jinha\\Documents\\CS424\\Project SMU Logo\\tree-type-detection-6\\test\\images\\IMG_8198_JPG.rf.038cdba42e193e190a2a86e0bf101202.jpg: 640x640 (no detections), 82.0ms\n",
                  "image 10/385 C:\\Users\\jinha\\Documents\\CS424\\Project SMU Logo\\tree-type-detection-6\\test\\images\\IMG_8201_JPG.rf.44990e562877606569c014837f94c8eb.jpg: 640x640 (no detections), 75.0ms\n",
                  "image 11/385 C:\\Users\\jinha\\Documents\\CS424\\Project SMU Logo\\tree-type-detection-6\\test\\images\\IMG_8235_JPG.rf.e23f44338a0daa3601c29617d29246c4.jpg: 640x640 (no detections), 69.0ms\n",
                  "image 12/385 C:\\Users\\jinha\\Documents\\CS424\\Project SMU Logo\\tree-type-detection-6\\test\\images\\IMG_8238_JPG.rf.b3c9ce74f47aef35d6bdcf7ed12f886d.jpg: 640x640 (no detections), 71.0ms\n",
                  "image 13/385 C:\\Users\\jinha\\Documents\\CS424\\Project SMU Logo\\tree-type-detection-6\\test\\images\\IMG_8243_JPG.rf.219c3534c406c665023d57077d82e8ed.jpg: 640x640 (no detections), 71.0ms\n",
                  "image 14/385 C:\\Users\\jinha\\Documents\\CS424\\Project SMU Logo\\tree-type-detection-6\\test\\images\\IMG_8246_JPG.rf.794fe03c686479718a6d02bbfeb97232.jpg: 640x640 (no detections), 73.0ms\n",
                  "image 15/385 C:\\Users\\jinha\\Documents\\CS424\\Project SMU Logo\\tree-type-detection-6\\test\\images\\IMG_8260_JPG.rf.6933176c83620a917d8c15b5730c9254.jpg: 640x640 1 SMU-Logo, 70.0ms\n",
                  "image 16/385 C:\\Users\\jinha\\Documents\\CS424\\Project SMU Logo\\tree-type-detection-6\\test\\images\\IMG_8270_JPG.rf.7604841b57c20ab98e26105c31e37168.jpg: 640x640 1 SMU-Logo, 72.0ms\n",
                  "image 17/385 C:\\Users\\jinha\\Documents\\CS424\\Project SMU Logo\\tree-type-detection-6\\test\\images\\IMG_8277_JPG.rf.033f47a77048c177d02b344a65327c9c.jpg: 640x640 (no detections), 71.0ms\n",
                  "image 18/385 C:\\Users\\jinha\\Documents\\CS424\\Project SMU Logo\\tree-type-detection-6\\test\\images\\IMG_8285_JPG.rf.df5130a7486834783da3ad2ddb96408f.jpg: 640x640 (no detections), 71.0ms\n",
                  "image 19/385 C:\\Users\\jinha\\Documents\\CS424\\Project SMU Logo\\tree-type-detection-6\\test\\images\\IMG_8301_JPG.rf.54ebe189549c46edd5855e367d04a564.jpg: 640x640 (no detections), 71.0ms\n",
                  "image 20/385 C:\\Users\\jinha\\Documents\\CS424\\Project SMU Logo\\tree-type-detection-6\\test\\images\\IMG_8321_JPG.rf.c0b72925f729dd9617514feb69808307.jpg: 640x640 2 SMU-Logos, 75.0ms\n",
                  "image 21/385 C:\\Users\\jinha\\Documents\\CS424\\Project SMU Logo\\tree-type-detection-6\\test\\images\\IMG_8335_JPG.rf.9cc1fca1e341a1302f57dec7a9381dc1.jpg: 640x640 2 SMU-Logos, 75.0ms\n",
                  "image 22/385 C:\\Users\\jinha\\Documents\\CS424\\Project SMU Logo\\tree-type-detection-6\\test\\images\\IMG_8342_JPG.rf.dcd70e5d86ed177835e7ff591de4df1d.jpg: 640x640 1 SMU-Logo, 71.0ms\n",
                  "image 23/385 C:\\Users\\jinha\\Documents\\CS424\\Project SMU Logo\\tree-type-detection-6\\test\\images\\IMG_8347_JPG.rf.4709bec663baa416ef565be4a449ed58.jpg: 640x640 (no detections), 70.0ms\n",
                  "image 24/385 C:\\Users\\jinha\\Documents\\CS424\\Project SMU Logo\\tree-type-detection-6\\test\\images\\IMG_8351_JPG.rf.666715f769815f9f2a10adcfe9f7dbf0.jpg: 640x640 (no detections), 71.0ms\n",
                  "image 25/385 C:\\Users\\jinha\\Documents\\CS424\\Project SMU Logo\\tree-type-detection-6\\test\\images\\IMG_8369_JPG.rf.ade98204a77b922fa046a46569d2870b.jpg: 640x640 (no detections), 70.0ms\n",
                  "image 26/385 C:\\Users\\jinha\\Documents\\CS424\\Project SMU Logo\\tree-type-detection-6\\test\\images\\IMG_8375_JPG.rf.f02ef286a41663832c02498c8b41a16b.jpg: 640x640 (no detections), 74.0ms\n",
                  "image 27/385 C:\\Users\\jinha\\Documents\\CS424\\Project SMU Logo\\tree-type-detection-6\\test\\images\\IMG_8380_JPG.rf.cdb4c145d25a58aa853c07374c99b6dd.jpg: 640x640 (no detections), 73.0ms\n",
                  "image 28/385 C:\\Users\\jinha\\Documents\\CS424\\Project SMU Logo\\tree-type-detection-6\\test\\images\\IMG_8420_JPG.rf.e2e5a7e95c3d1b477846411249fe5e48.jpg: 640x640 (no detections), 69.0ms\n",
                  "image 29/385 C:\\Users\\jinha\\Documents\\CS424\\Project SMU Logo\\tree-type-detection-6\\test\\images\\IMG_8465_JPG.rf.1fff4980ba42a29b7783798294105566.jpg: 640x640 (no detections), 72.0ms\n",
                  "image 30/385 C:\\Users\\jinha\\Documents\\CS424\\Project SMU Logo\\tree-type-detection-6\\test\\images\\IMG_8468_JPG.rf.e1a1d0cf5e095a15194a8b5714bd6503.jpg: 640x640 (no detections), 69.0ms\n",
                  "image 31/385 C:\\Users\\jinha\\Documents\\CS424\\Project SMU Logo\\tree-type-detection-6\\test\\images\\IMG_8474_JPG.rf.b92af961a4887bbcc95998b8706bb684.jpg: 640x640 (no detections), 72.0ms\n",
                  "image 32/385 C:\\Users\\jinha\\Documents\\CS424\\Project SMU Logo\\tree-type-detection-6\\test\\images\\IMG_8476_JPG.rf.9dcfb8a39528b3bde567918eb07c2b5e.jpg: 640x640 (no detections), 83.0ms\n",
                  "image 33/385 C:\\Users\\jinha\\Documents\\CS424\\Project SMU Logo\\tree-type-detection-6\\test\\images\\IMG_8478_JPG.rf.f3bdce9d89a4a71e74f28d5adb0cc49f.jpg: 640x640 (no detections), 102.0ms\n",
                  "image 34/385 C:\\Users\\jinha\\Documents\\CS424\\Project SMU Logo\\tree-type-detection-6\\test\\images\\IMG_8480_JPG.rf.718e625bba864b4e52430b54eed77d53.jpg: 640x640 (no detections), 86.0ms\n",
                  "image 35/385 C:\\Users\\jinha\\Documents\\CS424\\Project SMU Logo\\tree-type-detection-6\\test\\images\\IMG_8482_JPG.rf.fff6dc259291ceef633d934755be0059.jpg: 640x640 (no detections), 78.0ms\n",
                  "image 36/385 C:\\Users\\jinha\\Documents\\CS424\\Project SMU Logo\\tree-type-detection-6\\test\\images\\IMG_8484_JPG.rf.cf3a5dbc03d8767ef716f84b562be19b.jpg: 640x640 (no detections), 74.0ms\n",
                  "image 37/385 C:\\Users\\jinha\\Documents\\CS424\\Project SMU Logo\\tree-type-detection-6\\test\\images\\IMG_8496_JPG.rf.2fb08b094337e1ea41a25d51320f3f46.jpg: 640x640 (no detections), 70.0ms\n",
                  "image 38/385 C:\\Users\\jinha\\Documents\\CS424\\Project SMU Logo\\tree-type-detection-6\\test\\images\\IMG_8512_JPG.rf.317e010a5d25440e979c50605ea70611.jpg: 640x640 (no detections), 69.0ms\n",
                  "image 39/385 C:\\Users\\jinha\\Documents\\CS424\\Project SMU Logo\\tree-type-detection-6\\test\\images\\IMG_8524_JPG.rf.a8f6bf71ac61a8eb4d5335c4947b04a7.jpg: 640x640 (no detections), 72.0ms\n",
                  "image 40/385 C:\\Users\\jinha\\Documents\\CS424\\Project SMU Logo\\tree-type-detection-6\\test\\images\\IMG_8543_JPG.rf.67cff1c9d2a87f26638d96ed0788b8fd.jpg: 640x640 (no detections), 71.0ms\n",
                  "image 41/385 C:\\Users\\jinha\\Documents\\CS424\\Project SMU Logo\\tree-type-detection-6\\test\\images\\IMG_8549_JPG.rf.0fd1937035849d8c695fcefab593f4a4.jpg: 640x640 (no detections), 73.0ms\n",
                  "image 42/385 C:\\Users\\jinha\\Documents\\CS424\\Project SMU Logo\\tree-type-detection-6\\test\\images\\IMG_8554_JPG.rf.a943e79392e59cac80bb1efd75b95a1f.jpg: 640x640 (no detections), 73.0ms\n",
                  "image 43/385 C:\\Users\\jinha\\Documents\\CS424\\Project SMU Logo\\tree-type-detection-6\\test\\images\\IMG_8559_JPG.rf.c1db56fcba9c1c18a78b63486094cb38.jpg: 640x640 (no detections), 75.0ms\n",
                  "image 44/385 C:\\Users\\jinha\\Documents\\CS424\\Project SMU Logo\\tree-type-detection-6\\test\\images\\IMG_8567_JPG.rf.5d36b35a4a448a888d67d6a35c06dc5c.jpg: 640x640 (no detections), 77.0ms\n",
                  "image 45/385 C:\\Users\\jinha\\Documents\\CS424\\Project SMU Logo\\tree-type-detection-6\\test\\images\\IMG_8588_JPG.rf.9e10468073d81286beed06d15775f455.jpg: 640x640 (no detections), 71.0ms\n",
                  "image 46/385 C:\\Users\\jinha\\Documents\\CS424\\Project SMU Logo\\tree-type-detection-6\\test\\images\\IMG_8594_JPG.rf.89ca226bbe19c292b299233fd89ad9ed.jpg: 640x640 (no detections), 65.0ms\n",
                  "image 47/385 C:\\Users\\jinha\\Documents\\CS424\\Project SMU Logo\\tree-type-detection-6\\test\\images\\IMG_8601_JPG.rf.311a0f8ed95b1eac6b25f782c0a7e830.jpg: 640x640 (no detections), 68.0ms\n",
                  "image 48/385 C:\\Users\\jinha\\Documents\\CS424\\Project SMU Logo\\tree-type-detection-6\\test\\images\\IMG_8602_JPG.rf.ad6ed176d5d6b83a5e3da209f48ee31d.jpg: 640x640 (no detections), 70.0ms\n",
                  "image 49/385 C:\\Users\\jinha\\Documents\\CS424\\Project SMU Logo\\tree-type-detection-6\\test\\images\\IMG_8610_JPG.rf.2a493fb66cf63ddad5304d8ca7147ebb.jpg: 640x640 (no detections), 66.0ms\n",
                  "image 50/385 C:\\Users\\jinha\\Documents\\CS424\\Project SMU Logo\\tree-type-detection-6\\test\\images\\IMG_8632_JPG.rf.b7a46c166956fd8bf129bc83c9c352b3.jpg: 640x640 (no detections), 68.0ms\n",
                  "image 51/385 C:\\Users\\jinha\\Documents\\CS424\\Project SMU Logo\\tree-type-detection-6\\test\\images\\IMG_8638_JPG.rf.87dc8d52e484a9373c0a680cfe4aebb1.jpg: 640x640 (no detections), 69.0ms\n",
                  "image 52/385 C:\\Users\\jinha\\Documents\\CS424\\Project SMU Logo\\tree-type-detection-6\\test\\images\\IMG_8650_JPG.rf.9a2390ccf5b1c853440c184fce68ffac.jpg: 640x640 (no detections), 67.0ms\n",
                  "image 53/385 C:\\Users\\jinha\\Documents\\CS424\\Project SMU Logo\\tree-type-detection-6\\test\\images\\IMG_8670_JPG.rf.f246d069c38a1c56d616e0e663105953.jpg: 640x640 (no detections), 67.0ms\n",
                  "image 54/385 C:\\Users\\jinha\\Documents\\CS424\\Project SMU Logo\\tree-type-detection-6\\test\\images\\IMG_8696_JPG.rf.be4f2847db557d698ea9931d0a5a9ea9.jpg: 640x640 (no detections), 71.0ms\n",
                  "image 55/385 C:\\Users\\jinha\\Documents\\CS424\\Project SMU Logo\\tree-type-detection-6\\test\\images\\IMG_8720_JPG.rf.a8d5db56f7acbd1494b3143f27c8e752.jpg: 640x640 (no detections), 108.0ms\n",
                  "image 56/385 C:\\Users\\jinha\\Documents\\CS424\\Project SMU Logo\\tree-type-detection-6\\test\\images\\IMG_8727_JPG.rf.0d7a68130f0636a72269b4f3c62bb127.jpg: 640x640 (no detections), 70.0ms\n",
                  "image 57/385 C:\\Users\\jinha\\Documents\\CS424\\Project SMU Logo\\tree-type-detection-6\\test\\images\\IMG_8738_JPG.rf.e93e76e3ae0b623859f142fe4b7cc1e3.jpg: 640x640 (no detections), 68.0ms\n",
                  "image 58/385 C:\\Users\\jinha\\Documents\\CS424\\Project SMU Logo\\tree-type-detection-6\\test\\images\\IMG_8740_JPG.rf.74f3ebb85fe6fdfe958c6b4fe99cc523.jpg: 640x640 (no detections), 69.0ms\n",
                  "image 59/385 C:\\Users\\jinha\\Documents\\CS424\\Project SMU Logo\\tree-type-detection-6\\test\\images\\IMG_8744_JPG.rf.fd911f21c601504f4265f941a4eace64.jpg: 640x640 (no detections), 93.0ms\n",
                  "image 60/385 C:\\Users\\jinha\\Documents\\CS424\\Project SMU Logo\\tree-type-detection-6\\test\\images\\IMG_8746_JPG.rf.7969934f012e4cd122d9f3bf610a3718.jpg: 640x640 (no detections), 69.0ms\n",
                  "image 61/385 C:\\Users\\jinha\\Documents\\CS424\\Project SMU Logo\\tree-type-detection-6\\test\\images\\IMG_8747_JPG.rf.96296e8918a9cde27076f1e71c2cf095.jpg: 640x640 (no detections), 66.0ms\n",
                  "image 62/385 C:\\Users\\jinha\\Documents\\CS424\\Project SMU Logo\\tree-type-detection-6\\test\\images\\IMG_8761_JPG.rf.6fc1a39d1d1da9ee6614b9031fe02532.jpg: 640x640 (no detections), 67.0ms\n",
                  "image 63/385 C:\\Users\\jinha\\Documents\\CS424\\Project SMU Logo\\tree-type-detection-6\\test\\images\\IMG_8762_JPG.rf.1be8794a27183c29ebceae00c3413cfd.jpg: 640x640 (no detections), 68.0ms\n",
                  "image 64/385 C:\\Users\\jinha\\Documents\\CS424\\Project SMU Logo\\tree-type-detection-6\\test\\images\\IMG_8765_JPG.rf.4322b1af1d7dd4580749a25aeac16953.jpg: 640x640 (no detections), 67.0ms\n",
                  "image 65/385 C:\\Users\\jinha\\Documents\\CS424\\Project SMU Logo\\tree-type-detection-6\\test\\images\\IMG_8788_JPG.rf.272e51fbf7d6832589bab220bd711096.jpg: 640x640 (no detections), 68.0ms\n",
                  "image 66/385 C:\\Users\\jinha\\Documents\\CS424\\Project SMU Logo\\tree-type-detection-6\\test\\images\\IMG_8792_JPG.rf.cbc521425ad1be7c7812e388d11c1df3.jpg: 640x640 (no detections), 69.0ms\n",
                  "image 67/385 C:\\Users\\jinha\\Documents\\CS424\\Project SMU Logo\\tree-type-detection-6\\test\\images\\IMG_8797_JPG.rf.73c4f3e2c2f9daa328682682612dfd3c.jpg: 640x640 (no detections), 70.0ms\n",
                  "image 68/385 C:\\Users\\jinha\\Documents\\CS424\\Project SMU Logo\\tree-type-detection-6\\test\\images\\IMG_8805_JPG.rf.94db51b809d9aedc46fa555a98c3f68c.jpg: 640x640 (no detections), 69.0ms\n",
                  "image 69/385 C:\\Users\\jinha\\Documents\\CS424\\Project SMU Logo\\tree-type-detection-6\\test\\images\\IMG_8815_JPG.rf.95ddb7b0e6493ea32df4d09111a41b7d.jpg: 640x640 (no detections), 69.0ms\n",
                  "image 70/385 C:\\Users\\jinha\\Documents\\CS424\\Project SMU Logo\\tree-type-detection-6\\test\\images\\IMG_8833_JPG.rf.b322c75d2250b9ae5c22edda2369d60a.jpg: 640x640 (no detections), 69.0ms\n",
                  "image 71/385 C:\\Users\\jinha\\Documents\\CS424\\Project SMU Logo\\tree-type-detection-6\\test\\images\\IMG_8834_JPG.rf.7351130fd7efd914a27a96c83c26129d.jpg: 640x640 (no detections), 68.0ms\n",
                  "image 72/385 C:\\Users\\jinha\\Documents\\CS424\\Project SMU Logo\\tree-type-detection-6\\test\\images\\IMG_8837_JPG.rf.f1d10f0da59a8acc1ae2e6c8dd6eb3c4.jpg: 640x640 (no detections), 68.0ms\n",
                  "image 73/385 C:\\Users\\jinha\\Documents\\CS424\\Project SMU Logo\\tree-type-detection-6\\test\\images\\IMG_8840_JPG.rf.e88104aac049a694da00a795d2a3a701.jpg: 640x640 (no detections), 67.0ms\n",
                  "image 74/385 C:\\Users\\jinha\\Documents\\CS424\\Project SMU Logo\\tree-type-detection-6\\test\\images\\IMG_8843_JPG.rf.1a3032820aafc91d5175b65df3f3036c.jpg: 640x640 (no detections), 71.0ms\n",
                  "image 75/385 C:\\Users\\jinha\\Documents\\CS424\\Project SMU Logo\\tree-type-detection-6\\test\\images\\IMG_8846_JPG.rf.03e27aa99d6ca8d2e38ada838030c4b4.jpg: 640x640 (no detections), 67.0ms\n",
                  "image 76/385 C:\\Users\\jinha\\Documents\\CS424\\Project SMU Logo\\tree-type-detection-6\\test\\images\\IMG_8848_JPG.rf.f98cebd5884a598e5912d6e2294f43c1.jpg: 640x640 (no detections), 69.0ms\n",
                  "image 77/385 C:\\Users\\jinha\\Documents\\CS424\\Project SMU Logo\\tree-type-detection-6\\test\\images\\IMG_8858_JPG.rf.630b875b4c5120fc261f0c8c58ef5656.jpg: 640x640 (no detections), 70.0ms\n",
                  "image 78/385 C:\\Users\\jinha\\Documents\\CS424\\Project SMU Logo\\tree-type-detection-6\\test\\images\\IMG_8861_JPG.rf.c7393226671fe0257dc9f95b3f5008a2.jpg: 640x640 (no detections), 70.0ms\n",
                  "image 79/385 C:\\Users\\jinha\\Documents\\CS424\\Project SMU Logo\\tree-type-detection-6\\test\\images\\IMG_8869_JPG.rf.e8593b80b3aa53a892bba10e080e2d71.jpg: 640x640 (no detections), 66.0ms\n",
                  "image 80/385 C:\\Users\\jinha\\Documents\\CS424\\Project SMU Logo\\tree-type-detection-6\\test\\images\\IMG_8870_JPG.rf.d3d6d3ca322650ffa87d212e829f2b6f.jpg: 640x640 (no detections), 68.0ms\n",
                  "image 81/385 C:\\Users\\jinha\\Documents\\CS424\\Project SMU Logo\\tree-type-detection-6\\test\\images\\IMG_8877_JPG.rf.3d8e8b38189f41a1fb1b1e77ce82918c.jpg: 640x640 (no detections), 69.0ms\n",
                  "image 82/385 C:\\Users\\jinha\\Documents\\CS424\\Project SMU Logo\\tree-type-detection-6\\test\\images\\IMG_8878_JPG.rf.1c07e0c01edbb7922d68923ea902b2cb.jpg: 640x640 (no detections), 70.0ms\n",
                  "image 83/385 C:\\Users\\jinha\\Documents\\CS424\\Project SMU Logo\\tree-type-detection-6\\test\\images\\IMG_8927_JPG.rf.23be5c789eff18ffacc2b0f4f7c4c9bb.jpg: 640x640 (no detections), 68.0ms\n",
                  "image 84/385 C:\\Users\\jinha\\Documents\\CS424\\Project SMU Logo\\tree-type-detection-6\\test\\images\\IMG_8935_JPG.rf.c53cb57795ff650507cb29c04ccbf045.jpg: 640x640 (no detections), 71.0ms\n",
                  "image 85/385 C:\\Users\\jinha\\Documents\\CS424\\Project SMU Logo\\tree-type-detection-6\\test\\images\\IMG_8982_JPG.rf.076c745c5324695049dc3a35a910258e.jpg: 640x640 (no detections), 68.0ms\n",
                  "image 86/385 C:\\Users\\jinha\\Documents\\CS424\\Project SMU Logo\\tree-type-detection-6\\test\\images\\IMG_8998_JPG.rf.3a65d6403624cd138a194839f3c25497.jpg: 640x640 (no detections), 69.0ms\n",
                  "image 87/385 C:\\Users\\jinha\\Documents\\CS424\\Project SMU Logo\\tree-type-detection-6\\test\\images\\IMG_9008_JPG.rf.05c231b8fbbc63f046df120379b0b2f2.jpg: 640x640 1 SMU-Logo, 68.0ms\n",
                  "image 88/385 C:\\Users\\jinha\\Documents\\CS424\\Project SMU Logo\\tree-type-detection-6\\test\\images\\IMG_9011_JPG.rf.78627ee0a9e3f705b2845a58bd9310e3.jpg: 640x640 (no detections), 70.0ms\n",
                  "image 89/385 C:\\Users\\jinha\\Documents\\CS424\\Project SMU Logo\\tree-type-detection-6\\test\\images\\IMG_9013_JPG.rf.7e7a0ec65080bcfff4d116c897366757.jpg: 640x640 (no detections), 69.0ms\n",
                  "image 90/385 C:\\Users\\jinha\\Documents\\CS424\\Project SMU Logo\\tree-type-detection-6\\test\\images\\IMG_9019_JPG.rf.e77bbee7645c1a1be9c50a52c7bef1ac.jpg: 640x640 (no detections), 72.0ms\n",
                  "image 91/385 C:\\Users\\jinha\\Documents\\CS424\\Project SMU Logo\\tree-type-detection-6\\test\\images\\IMG_9032_JPG.rf.fa84179cb0e9f9114a2d67fcb9c379de.jpg: 640x640 (no detections), 70.0ms\n",
                  "image 92/385 C:\\Users\\jinha\\Documents\\CS424\\Project SMU Logo\\tree-type-detection-6\\test\\images\\IMG_9033_JPG.rf.c933d2cbca0ac180b7b21e3b3ce93b95.jpg: 640x640 (no detections), 70.0ms\n",
                  "image 93/385 C:\\Users\\jinha\\Documents\\CS424\\Project SMU Logo\\tree-type-detection-6\\test\\images\\IMG_9034_JPG.rf.b5c917e0bd2a94e5936d94067908ce27.jpg: 640x640 (no detections), 70.0ms\n",
                  "image 94/385 C:\\Users\\jinha\\Documents\\CS424\\Project SMU Logo\\tree-type-detection-6\\test\\images\\IMG_9037_JPG.rf.e0e9e674e619c9df0cd1160726b3d071.jpg: 640x640 (no detections), 68.0ms\n",
                  "image 95/385 C:\\Users\\jinha\\Documents\\CS424\\Project SMU Logo\\tree-type-detection-6\\test\\images\\IMG_9038_JPG.rf.9707b06f27c8e721190a5bbf32876c1f.jpg: 640x640 (no detections), 67.0ms\n",
                  "image 96/385 C:\\Users\\jinha\\Documents\\CS424\\Project SMU Logo\\tree-type-detection-6\\test\\images\\IMG_9039_JPG.rf.790357cb3da6ea46a6e2bd1bc195f501.jpg: 640x640 (no detections), 70.0ms\n",
                  "image 97/385 C:\\Users\\jinha\\Documents\\CS424\\Project SMU Logo\\tree-type-detection-6\\test\\images\\IMG_9042_JPG.rf.fc5f9ed3bd363fa40ddc9b78c0aaf222.jpg: 640x640 (no detections), 72.0ms\n",
                  "image 98/385 C:\\Users\\jinha\\Documents\\CS424\\Project SMU Logo\\tree-type-detection-6\\test\\images\\IMG_9051_JPG.rf.bff9db09fbfaa92837b489d88af8c15a.jpg: 640x640 (no detections), 71.0ms\n",
                  "image 99/385 C:\\Users\\jinha\\Documents\\CS424\\Project SMU Logo\\tree-type-detection-6\\test\\images\\IMG_9060_JPG.rf.9d458b5622ecbaed44e664cea375f796.jpg: 640x640 (no detections), 69.0ms\n",
                  "image 100/385 C:\\Users\\jinha\\Documents\\CS424\\Project SMU Logo\\tree-type-detection-6\\test\\images\\IMG_9064_JPG.rf.55705f8b94d765a9c38940952e7bebe1.jpg: 640x640 (no detections), 69.0ms\n",
                  "image 101/385 C:\\Users\\jinha\\Documents\\CS424\\Project SMU Logo\\tree-type-detection-6\\test\\images\\IMG_9065_JPG.rf.1e3379e52b70d16c5866403c2c7a4094.jpg: 640x640 (no detections), 69.0ms\n",
                  "image 102/385 C:\\Users\\jinha\\Documents\\CS424\\Project SMU Logo\\tree-type-detection-6\\test\\images\\IMG_9070_JPG.rf.2ddd5338b4237d3d8634d5290c9faa82.jpg: 640x640 (no detections), 70.0ms\n",
                  "image 103/385 C:\\Users\\jinha\\Documents\\CS424\\Project SMU Logo\\tree-type-detection-6\\test\\images\\IMG_9092_JPG.rf.6dae1d4e9acc2f6397dd310e4dd6dbb9.jpg: 640x640 (no detections), 77.1ms\n",
                  "image 104/385 C:\\Users\\jinha\\Documents\\CS424\\Project SMU Logo\\tree-type-detection-6\\test\\images\\IMG_9099_JPG.rf.d6f4772150d8b81dce809fdbf363307a.jpg: 640x640 (no detections), 76.0ms\n",
                  "image 105/385 C:\\Users\\jinha\\Documents\\CS424\\Project SMU Logo\\tree-type-detection-6\\test\\images\\IMG_9108_JPG.rf.29d0a74dfce391b486922ed3d374e28c.jpg: 640x640 (no detections), 73.0ms\n",
                  "image 106/385 C:\\Users\\jinha\\Documents\\CS424\\Project SMU Logo\\tree-type-detection-6\\test\\images\\IMG_9114_JPG.rf.eef9536f6996fc5dc94fd3e859cd15d3.jpg: 640x640 (no detections), 83.0ms\n",
                  "image 107/385 C:\\Users\\jinha\\Documents\\CS424\\Project SMU Logo\\tree-type-detection-6\\test\\images\\IMG_9121_JPG.rf.04fb11a731e860578f9f6fd0302e7483.jpg: 640x640 (no detections), 72.0ms\n",
                  "image 108/385 C:\\Users\\jinha\\Documents\\CS424\\Project SMU Logo\\tree-type-detection-6\\test\\images\\IMG_9126_JPG.rf.02ec9e6f27b415db116f771b632f9efe.jpg: 640x640 (no detections), 70.0ms\n",
                  "image 109/385 C:\\Users\\jinha\\Documents\\CS424\\Project SMU Logo\\tree-type-detection-6\\test\\images\\IMG_9127_JPG.rf.c1f7f348d4d1627ab7d65864af39051c.jpg: 640x640 (no detections), 73.0ms\n",
                  "image 110/385 C:\\Users\\jinha\\Documents\\CS424\\Project SMU Logo\\tree-type-detection-6\\test\\images\\IMG_9133_JPG.rf.721aff66e0388c167ced33e4b11f84a0.jpg: 640x640 (no detections), 72.0ms\n",
                  "image 111/385 C:\\Users\\jinha\\Documents\\CS424\\Project SMU Logo\\tree-type-detection-6\\test\\images\\IMG_9134_JPG.rf.4583d42572e75ba4cd77fb005bdd5391.jpg: 640x640 (no detections), 71.0ms\n",
                  "image 112/385 C:\\Users\\jinha\\Documents\\CS424\\Project SMU Logo\\tree-type-detection-6\\test\\images\\IMG_9155_jpeg.rf.12643ee14bea36f9f52bfdeebedd7ecf.jpg: 640x640 (no detections), 72.0ms\n",
                  "image 113/385 C:\\Users\\jinha\\Documents\\CS424\\Project SMU Logo\\tree-type-detection-6\\test\\images\\IMG_9171_JPG.rf.5d611f495d6def993da8698de22adce7.jpg: 640x640 (no detections), 70.0ms\n",
                  "image 114/385 C:\\Users\\jinha\\Documents\\CS424\\Project SMU Logo\\tree-type-detection-6\\test\\images\\IMG_9172_jpeg.rf.9f220a6d7d1a516d8ffbdd67beb94d33.jpg: 640x640 (no detections), 68.0ms\n",
                  "image 115/385 C:\\Users\\jinha\\Documents\\CS424\\Project SMU Logo\\tree-type-detection-6\\test\\images\\IMG_9173_JPG.rf.02073e8c6f1e7d6b2e20d37f31cf512c.jpg: 640x640 (no detections), 70.0ms\n",
                  "image 116/385 C:\\Users\\jinha\\Documents\\CS424\\Project SMU Logo\\tree-type-detection-6\\test\\images\\IMG_9175_jpeg.rf.c3626ddeb14c07180af2db11fa0f720d.jpg: 640x640 (no detections), 72.0ms\n",
                  "image 117/385 C:\\Users\\jinha\\Documents\\CS424\\Project SMU Logo\\tree-type-detection-6\\test\\images\\IMG_9187_jpeg.rf.ce60e4597a1d606fa1f4a91419bd3098.jpg: 640x640 (no detections), 72.0ms\n",
                  "image 118/385 C:\\Users\\jinha\\Documents\\CS424\\Project SMU Logo\\tree-type-detection-6\\test\\images\\IMG_9188_JPG.rf.b818db32689cc615d0a3a9b8ff95c189.jpg: 640x640 (no detections), 71.0ms\n",
                  "image 119/385 C:\\Users\\jinha\\Documents\\CS424\\Project SMU Logo\\tree-type-detection-6\\test\\images\\IMG_9189_JPG.rf.fa98e81f630d22a1dbc8a6f8adadad3e.jpg: 640x640 (no detections), 67.0ms\n",
                  "image 120/385 C:\\Users\\jinha\\Documents\\CS424\\Project SMU Logo\\tree-type-detection-6\\test\\images\\IMG_9204_jpeg.rf.dc463b24810141b6272990fe1ad8fdfa.jpg: 640x640 (no detections), 66.0ms\n",
                  "image 121/385 C:\\Users\\jinha\\Documents\\CS424\\Project SMU Logo\\tree-type-detection-6\\test\\images\\IMG_9205_JPG.rf.f394f7c7a736161ac5bbc7db03248c3d.jpg: 640x640 (no detections), 68.0ms\n",
                  "image 122/385 C:\\Users\\jinha\\Documents\\CS424\\Project SMU Logo\\tree-type-detection-6\\test\\images\\IMG_9211_jpeg.rf.aa87e8395ed2bd15c38e5d0d8861c218.jpg: 640x640 (no detections), 70.0ms\n",
                  "image 123/385 C:\\Users\\jinha\\Documents\\CS424\\Project SMU Logo\\tree-type-detection-6\\test\\images\\IMG_9216_JPG.rf.3192d4becdeeb9b2c28235fe25656c9a.jpg: 640x640 (no detections), 70.0ms\n",
                  "image 124/385 C:\\Users\\jinha\\Documents\\CS424\\Project SMU Logo\\tree-type-detection-6\\test\\images\\IMG_9219_JPG.rf.b27195479278a23569f2fab1fe0be42f.jpg: 640x640 (no detections), 74.0ms\n",
                  "image 125/385 C:\\Users\\jinha\\Documents\\CS424\\Project SMU Logo\\tree-type-detection-6\\test\\images\\IMG_9220_jpeg.rf.26da345a65c501304c89d73b96ac8534.jpg: 640x640 (no detections), 75.0ms\n",
                  "image 126/385 C:\\Users\\jinha\\Documents\\CS424\\Project SMU Logo\\tree-type-detection-6\\test\\images\\IMG_9225_JPG.rf.5dd618ab555cde09450dd6b42f0f0b39.jpg: 640x640 (no detections), 69.0ms\n",
                  "image 127/385 C:\\Users\\jinha\\Documents\\CS424\\Project SMU Logo\\tree-type-detection-6\\test\\images\\IMG_9227_jpeg.rf.6091144e3e7bbc4a4d7a752c789786dd.jpg: 640x640 (no detections), 70.0ms\n",
                  "image 128/385 C:\\Users\\jinha\\Documents\\CS424\\Project SMU Logo\\tree-type-detection-6\\test\\images\\IMG_9230_JPG.rf.4e3c9ca392ea3e7e4cefd69f13e21f12.jpg: 640x640 (no detections), 70.0ms\n",
                  "image 129/385 C:\\Users\\jinha\\Documents\\CS424\\Project SMU Logo\\tree-type-detection-6\\test\\images\\IMG_9231_JPG.rf.7b2f9a0c9f73afa11267b053753576ec.jpg: 640x640 (no detections), 77.0ms\n",
                  "image 130/385 C:\\Users\\jinha\\Documents\\CS424\\Project SMU Logo\\tree-type-detection-6\\test\\images\\IMG_9236_JPG.rf.642a713a6367285e8a842893242b19e3.jpg: 640x640 (no detections), 82.0ms\n",
                  "image 131/385 C:\\Users\\jinha\\Documents\\CS424\\Project SMU Logo\\tree-type-detection-6\\test\\images\\IMG_9244_jpeg.rf.63647e9bc9e7623dd494eb14448b4ea3.jpg: 640x640 (no detections), 80.0ms\n",
                  "image 132/385 C:\\Users\\jinha\\Documents\\CS424\\Project SMU Logo\\tree-type-detection-6\\test\\images\\IMG_9256_JPG.rf.e238ccd8ac068fa67ee1ddef834b7197.jpg: 640x640 (no detections), 78.0ms\n",
                  "image 133/385 C:\\Users\\jinha\\Documents\\CS424\\Project SMU Logo\\tree-type-detection-6\\test\\images\\IMG_9259_jpeg.rf.77bc37f4211d82f6cd6848bd17dccd9a.jpg: 640x640 (no detections), 78.0ms\n",
                  "image 134/385 C:\\Users\\jinha\\Documents\\CS424\\Project SMU Logo\\tree-type-detection-6\\test\\images\\IMG_9280_JPG.rf.ff9f8a4c4f58fbd1ccd250c5be942f60.jpg: 640x640 (no detections), 70.1ms\n",
                  "image 135/385 C:\\Users\\jinha\\Documents\\CS424\\Project SMU Logo\\tree-type-detection-6\\test\\images\\IMG_9283_JPG.rf.31f3f1d477ccc55d9300b4f5160def23.jpg: 640x640 (no detections), 76.0ms\n",
                  "image 136/385 C:\\Users\\jinha\\Documents\\CS424\\Project SMU Logo\\tree-type-detection-6\\test\\images\\IMG_9286_jpeg.rf.4203bfcdf993bb2637d8c440644dc111.jpg: 640x640 (no detections), 79.0ms\n",
                  "image 137/385 C:\\Users\\jinha\\Documents\\CS424\\Project SMU Logo\\tree-type-detection-6\\test\\images\\IMG_9287_JPG.rf.0e56378ba44ea563a4d10553e9be5ffa.jpg: 640x640 (no detections), 78.0ms\n",
                  "image 138/385 C:\\Users\\jinha\\Documents\\CS424\\Project SMU Logo\\tree-type-detection-6\\test\\images\\IMG_9289_jpeg.rf.dba84e2ee2e6878c2c23849060cb1021.jpg: 640x640 (no detections), 76.0ms\n",
                  "image 139/385 C:\\Users\\jinha\\Documents\\CS424\\Project SMU Logo\\tree-type-detection-6\\test\\images\\IMG_9302_JPG.rf.22cef330b4764e2e9124f876aa66d840.jpg: 640x640 (no detections), 70.0ms\n",
                  "image 140/385 C:\\Users\\jinha\\Documents\\CS424\\Project SMU Logo\\tree-type-detection-6\\test\\images\\IMG_9307_JPG.rf.feacedd9d9811a6c4b922cd2f7b61ab4.jpg: 640x640 (no detections), 68.0ms\n",
                  "image 141/385 C:\\Users\\jinha\\Documents\\CS424\\Project SMU Logo\\tree-type-detection-6\\test\\images\\IMG_9310_jpeg.rf.5f93aedccb3dbbcc4878bf10709a9f39.jpg: 640x640 (no detections), 66.0ms\n",
                  "image 142/385 C:\\Users\\jinha\\Documents\\CS424\\Project SMU Logo\\tree-type-detection-6\\test\\images\\IMG_9315_JPG.rf.a0efb82970ff613b4bb0b19eea028e91.jpg: 640x640 (no detections), 75.0ms\n",
                  "image 143/385 C:\\Users\\jinha\\Documents\\CS424\\Project SMU Logo\\tree-type-detection-6\\test\\images\\IMG_9318_jpeg.rf.5d23d728a1528c89d8517e3836fe3000.jpg: 640x640 (no detections), 77.0ms\n",
                  "image 144/385 C:\\Users\\jinha\\Documents\\CS424\\Project SMU Logo\\tree-type-detection-6\\test\\images\\IMG_9326_JPG.rf.d7427f0940fd3ae89e87f22f9583b2aa.jpg: 640x640 (no detections), 72.0ms\n",
                  "image 145/385 C:\\Users\\jinha\\Documents\\CS424\\Project SMU Logo\\tree-type-detection-6\\test\\images\\IMG_9332_jpeg.rf.41b4dd4d96190492e822b0b77b33d80a.jpg: 640x640 (no detections), 66.0ms\n",
                  "image 146/385 C:\\Users\\jinha\\Documents\\CS424\\Project SMU Logo\\tree-type-detection-6\\test\\images\\IMG_9334_jpeg.rf.6b0f6fed1db0b406de1c4bfa017d3277.jpg: 640x640 (no detections), 66.0ms\n",
                  "image 147/385 C:\\Users\\jinha\\Documents\\CS424\\Project SMU Logo\\tree-type-detection-6\\test\\images\\IMG_9339_jpeg.rf.cb98371bf97d09e7518941989eb2dc8f.jpg: 640x640 (no detections), 66.0ms\n",
                  "image 148/385 C:\\Users\\jinha\\Documents\\CS424\\Project SMU Logo\\tree-type-detection-6\\test\\images\\IMG_9340_jpeg.rf.c49c91dc90bba780ff1fbe17db9a2a9b.jpg: 640x640 (no detections), 76.0ms\n",
                  "image 149/385 C:\\Users\\jinha\\Documents\\CS424\\Project SMU Logo\\tree-type-detection-6\\test\\images\\IMG_9341_JPG.rf.57a301836e0d04db5ab53a5fea52777c.jpg: 640x640 (no detections), 73.0ms\n",
                  "image 150/385 C:\\Users\\jinha\\Documents\\CS424\\Project SMU Logo\\tree-type-detection-6\\test\\images\\IMG_9341_jpeg.rf.90e786a73fc5e1fef87b623fa34f789a.jpg: 640x640 (no detections), 70.9ms\n",
                  "image 151/385 C:\\Users\\jinha\\Documents\\CS424\\Project SMU Logo\\tree-type-detection-6\\test\\images\\IMG_9343_jpeg.rf.abed9cd712e2db14d9dbdb9f59ec045c.jpg: 640x640 (no detections), 71.0ms\n",
                  "image 152/385 C:\\Users\\jinha\\Documents\\CS424\\Project SMU Logo\\tree-type-detection-6\\test\\images\\IMG_9345_JPG.rf.fae93d4262f650424cb85ec5e99eb3d9.jpg: 640x640 (no detections), 67.0ms\n",
                  "image 153/385 C:\\Users\\jinha\\Documents\\CS424\\Project SMU Logo\\tree-type-detection-6\\test\\images\\IMG_9356_jpeg.rf.ea8c5a11bdaa1f982fb6d94b33d0fed7.jpg: 640x640 (no detections), 68.0ms\n",
                  "image 154/385 C:\\Users\\jinha\\Documents\\CS424\\Project SMU Logo\\tree-type-detection-6\\test\\images\\IMG_9382_JPG.rf.0f3e760b0bed4d2394371e566d7d3a85.jpg: 640x640 (no detections), 69.0ms\n",
                  "image 155/385 C:\\Users\\jinha\\Documents\\CS424\\Project SMU Logo\\tree-type-detection-6\\test\\images\\IMG_9389_JPG.rf.e65b5ac841ea2ef3ae760c6c4182eaef.jpg: 640x640 (no detections), 69.0ms\n",
                  "image 156/385 C:\\Users\\jinha\\Documents\\CS424\\Project SMU Logo\\tree-type-detection-6\\test\\images\\IMG_9389_jpeg.rf.ea94ebc017eecb08e3463afc2a870c3e.jpg: 640x640 (no detections), 157.0ms\n",
                  "image 157/385 C:\\Users\\jinha\\Documents\\CS424\\Project SMU Logo\\tree-type-detection-6\\test\\images\\IMG_9393_jpeg.rf.b0b14106cd35f37477d6994459068f35.jpg: 640x640 (no detections), 77.0ms\n",
                  "image 158/385 C:\\Users\\jinha\\Documents\\CS424\\Project SMU Logo\\tree-type-detection-6\\test\\images\\IMG_9394_JPG.rf.a06f89c2d7238b43504fc89935f0498f.jpg: 640x640 (no detections), 67.0ms\n",
                  "image 159/385 C:\\Users\\jinha\\Documents\\CS424\\Project SMU Logo\\tree-type-detection-6\\test\\images\\IMG_9401_JPG.rf.e3bb2c06a7c60fe325574c4b3b041dae.jpg: 640x640 (no detections), 70.0ms\n",
                  "image 160/385 C:\\Users\\jinha\\Documents\\CS424\\Project SMU Logo\\tree-type-detection-6\\test\\images\\IMG_9402_JPG.rf.f3fd58f5dddee694cbf86d7559815fad.jpg: 640x640 (no detections), 68.0ms\n",
                  "image 161/385 C:\\Users\\jinha\\Documents\\CS424\\Project SMU Logo\\tree-type-detection-6\\test\\images\\IMG_9411_jpeg.rf.55d0dac262f68e02b94c18ae2759b011.jpg: 640x640 (no detections), 73.0ms\n",
                  "image 162/385 C:\\Users\\jinha\\Documents\\CS424\\Project SMU Logo\\tree-type-detection-6\\test\\images\\IMG_9412_jpeg.rf.5ccb2b9c4f24ff23b3039beed86b66d4.jpg: 640x640 (no detections), 71.0ms\n",
                  "image 163/385 C:\\Users\\jinha\\Documents\\CS424\\Project SMU Logo\\tree-type-detection-6\\test\\images\\IMG_9413_jpeg.rf.1309c66fc65ab45f44a40c00302b4ec6.jpg: 640x640 (no detections), 78.0ms\n",
                  "image 164/385 C:\\Users\\jinha\\Documents\\CS424\\Project SMU Logo\\tree-type-detection-6\\test\\images\\IMG_9414_jpeg.rf.13eebdd15ec1d0f19f463faacdd6a64a.jpg: 640x640 (no detections), 77.0ms\n",
                  "image 165/385 C:\\Users\\jinha\\Documents\\CS424\\Project SMU Logo\\tree-type-detection-6\\test\\images\\IMG_9419_jpeg.rf.ee14df7abeb3a8e80987ac3244ea9e4b.jpg: 640x640 (no detections), 79.0ms\n",
                  "image 166/385 C:\\Users\\jinha\\Documents\\CS424\\Project SMU Logo\\tree-type-detection-6\\test\\images\\IMG_9421_jpeg.rf.1786b71c140dc22be36a65e0b966a467.jpg: 640x640 1 SMU-Logo, 79.0ms\n",
                  "image 167/385 C:\\Users\\jinha\\Documents\\CS424\\Project SMU Logo\\tree-type-detection-6\\test\\images\\IMG_9431_JPG.rf.a152a6e86a53c1622a043d3cd90b3768.jpg: 640x640 (no detections), 78.0ms\n",
                  "image 168/385 C:\\Users\\jinha\\Documents\\CS424\\Project SMU Logo\\tree-type-detection-6\\test\\images\\IMG_9437_JPG.rf.221ff02915b847e53ea765481eeb565e.jpg: 640x640 (no detections), 72.0ms\n",
                  "image 169/385 C:\\Users\\jinha\\Documents\\CS424\\Project SMU Logo\\tree-type-detection-6\\test\\images\\IMG_9445_JPG.rf.e8ca272657213ae8b2714015d917da5a.jpg: 640x640 (no detections), 69.0ms\n",
                  "image 170/385 C:\\Users\\jinha\\Documents\\CS424\\Project SMU Logo\\tree-type-detection-6\\test\\images\\IMG_9450_JPG.rf.0f75bc032986300ea82077f3ab2229d2.jpg: 640x640 (no detections), 68.0ms\n",
                  "image 171/385 C:\\Users\\jinha\\Documents\\CS424\\Project SMU Logo\\tree-type-detection-6\\test\\images\\IMG_9450_jpeg.rf.82e40b9f64eaa3ab3ef5afa1db5545d8.jpg: 640x640 (no detections), 69.0ms\n",
                  "image 172/385 C:\\Users\\jinha\\Documents\\CS424\\Project SMU Logo\\tree-type-detection-6\\test\\images\\IMG_9452_jpeg.rf.ac0421e771aa2b7496ce2fc359e1fd83.jpg: 640x640 (no detections), 68.0ms\n",
                  "image 173/385 C:\\Users\\jinha\\Documents\\CS424\\Project SMU Logo\\tree-type-detection-6\\test\\images\\IMG_9459_jpeg.rf.9e9c2a23181645282a2eb4f9131b8341.jpg: 640x640 (no detections), 69.0ms\n",
                  "image 174/385 C:\\Users\\jinha\\Documents\\CS424\\Project SMU Logo\\tree-type-detection-6\\test\\images\\IMG_9470_JPG.rf.8b386c48f629807b8f51170368558b88.jpg: 640x640 (no detections), 67.0ms\n",
                  "image 175/385 C:\\Users\\jinha\\Documents\\CS424\\Project SMU Logo\\tree-type-detection-6\\test\\images\\IMG_9475_JPG.rf.98912f8bf825d775e82fe8db3ed1d186.jpg: 640x640 (no detections), 72.0ms\n",
                  "image 176/385 C:\\Users\\jinha\\Documents\\CS424\\Project SMU Logo\\tree-type-detection-6\\test\\images\\IMG_9478_jpeg.rf.d54bf6be8323ef575bbddbd6e2cc5f0b.jpg: 640x640 (no detections), 68.0ms\n",
                  "image 177/385 C:\\Users\\jinha\\Documents\\CS424\\Project SMU Logo\\tree-type-detection-6\\test\\images\\IMG_9484_jpeg.rf.5bcbf018013c55f617e96c64854b3008.jpg: 640x640 (no detections), 65.0ms\n",
                  "image 178/385 C:\\Users\\jinha\\Documents\\CS424\\Project SMU Logo\\tree-type-detection-6\\test\\images\\IMG_9485_jpeg.rf.d68b2229ae3d561b9a3006fffb2efa77.jpg: 640x640 (no detections), 68.0ms\n",
                  "image 179/385 C:\\Users\\jinha\\Documents\\CS424\\Project SMU Logo\\tree-type-detection-6\\test\\images\\IMG_9490_jpeg.rf.3d0bbf43df3f3e71a94ff3187006c898.jpg: 640x640 (no detections), 69.0ms\n",
                  "image 180/385 C:\\Users\\jinha\\Documents\\CS424\\Project SMU Logo\\tree-type-detection-6\\test\\images\\IMG_9492_JPG.rf.d3f005c58b75f394e276339e1dbf09c0.jpg: 640x640 (no detections), 66.0ms\n",
                  "image 181/385 C:\\Users\\jinha\\Documents\\CS424\\Project SMU Logo\\tree-type-detection-6\\test\\images\\IMG_9493_JPG.rf.c7b711cc912edac831d457ce71172984.jpg: 640x640 (no detections), 69.0ms\n",
                  "image 182/385 C:\\Users\\jinha\\Documents\\CS424\\Project SMU Logo\\tree-type-detection-6\\test\\images\\IMG_9504_jpeg.rf.7247105b6156934b0c32b26e486eddb4.jpg: 640x640 (no detections), 70.0ms\n",
                  "image 183/385 C:\\Users\\jinha\\Documents\\CS424\\Project SMU Logo\\tree-type-detection-6\\test\\images\\IMG_9505_JPG.rf.28b612f279e0f4d0df799521727fa63a.jpg: 640x640 (no detections), 70.0ms\n",
                  "image 184/385 C:\\Users\\jinha\\Documents\\CS424\\Project SMU Logo\\tree-type-detection-6\\test\\images\\IMG_9513_JPG.rf.94d719a003c0b2dae115b5984668c542.jpg: 640x640 (no detections), 69.0ms\n",
                  "image 185/385 C:\\Users\\jinha\\Documents\\CS424\\Project SMU Logo\\tree-type-detection-6\\test\\images\\IMG_9525_jpeg.rf.22836be3399b963258d105c72421a2e3.jpg: 640x640 (no detections), 72.0ms\n",
                  "image 186/385 C:\\Users\\jinha\\Documents\\CS424\\Project SMU Logo\\tree-type-detection-6\\test\\images\\IMG_9527_JPG.rf.b7d360fd89d74a24b7e25572b8a6fb3f.jpg: 640x640 (no detections), 72.0ms\n",
                  "image 187/385 C:\\Users\\jinha\\Documents\\CS424\\Project SMU Logo\\tree-type-detection-6\\test\\images\\IMG_9528_jpeg.rf.d1d2920ea68d71a834f2c9acf58eaa7c.jpg: 640x640 (no detections), 71.0ms\n",
                  "image 188/385 C:\\Users\\jinha\\Documents\\CS424\\Project SMU Logo\\tree-type-detection-6\\test\\images\\IMG_9533_jpeg.rf.91ca9e58fcfe62d7db5688ea91a8f079.jpg: 640x640 (no detections), 71.0ms\n",
                  "image 189/385 C:\\Users\\jinha\\Documents\\CS424\\Project SMU Logo\\tree-type-detection-6\\test\\images\\IMG_9571_JPG.rf.8759201bd63c6b0b97f3be19f15dcde6.jpg: 640x640 (no detections), 71.0ms\n",
                  "image 190/385 C:\\Users\\jinha\\Documents\\CS424\\Project SMU Logo\\tree-type-detection-6\\test\\images\\IMG_9583_JPG.rf.c68f4672743a78ac872d1c781aeb6b3b.jpg: 640x640 (no detections), 84.0ms\n",
                  "image 191/385 C:\\Users\\jinha\\Documents\\CS424\\Project SMU Logo\\tree-type-detection-6\\test\\images\\IMG_9593_JPG.rf.c5eb165551c3a26f485ece1933a913b4.jpg: 640x640 (no detections), 68.0ms\n",
                  "image 192/385 C:\\Users\\jinha\\Documents\\CS424\\Project SMU Logo\\tree-type-detection-6\\test\\images\\IMG_9599_JPG.rf.690508215e453f9ec13c945498025e6a.jpg: 640x640 (no detections), 68.1ms\n",
                  "image 193/385 C:\\Users\\jinha\\Documents\\CS424\\Project SMU Logo\\tree-type-detection-6\\test\\images\\IMG_9628_JPG.rf.7844aa0639724db3632a9bb32d6e5c3a.jpg: 640x640 (no detections), 67.0ms\n",
                  "image 194/385 C:\\Users\\jinha\\Documents\\CS424\\Project SMU Logo\\tree-type-detection-6\\test\\images\\IMG_9647_JPG.rf.81bde4d795972ff57653d4edaf9eb663.jpg: 640x640 (no detections), 68.0ms\n",
                  "image 195/385 C:\\Users\\jinha\\Documents\\CS424\\Project SMU Logo\\tree-type-detection-6\\test\\images\\IMG_9664_JPG.rf.84654551f397d324f138eb742a799c2c.jpg: 640x640 (no detections), 72.0ms\n",
                  "image 196/385 C:\\Users\\jinha\\Documents\\CS424\\Project SMU Logo\\tree-type-detection-6\\test\\images\\IMG_9666_JPG.rf.08eb5e1f65e8bae6e126b63a287c96a6.jpg: 640x640 (no detections), 71.0ms\n",
                  "image 197/385 C:\\Users\\jinha\\Documents\\CS424\\Project SMU Logo\\tree-type-detection-6\\test\\images\\IMG_9670_JPG.rf.04a2ec3f86a119402e815a0f5b929136.jpg: 640x640 (no detections), 69.0ms\n",
                  "image 198/385 C:\\Users\\jinha\\Documents\\CS424\\Project SMU Logo\\tree-type-detection-6\\test\\images\\IMG_9680_JPG.rf.810edd09023fbfe37f4614980a44316f.jpg: 640x640 (no detections), 67.0ms\n",
                  "image 199/385 C:\\Users\\jinha\\Documents\\CS424\\Project SMU Logo\\tree-type-detection-6\\test\\images\\IMG_9683_JPG.rf.ed7756986a3753f89759228fe4f17777.jpg: 640x640 (no detections), 66.0ms\n",
                  "image 200/385 C:\\Users\\jinha\\Documents\\CS424\\Project SMU Logo\\tree-type-detection-6\\test\\images\\IMG_9703_JPG.rf.3f609c395bfca0df482785ada701fb94.jpg: 640x640 (no detections), 69.0ms\n",
                  "image 201/385 C:\\Users\\jinha\\Documents\\CS424\\Project SMU Logo\\tree-type-detection-6\\test\\images\\IMG_9705_JPG.rf.02c7c789d39e0a036a6f85c78676eb52.jpg: 640x640 1 SMU-Logo, 75.0ms\n",
                  "image 202/385 C:\\Users\\jinha\\Documents\\CS424\\Project SMU Logo\\tree-type-detection-6\\test\\images\\IMG_9706_JPG.rf.32754a82cac49757bdb27b1d6f009064.jpg: 640x640 1 SMU-Logo, 65.0ms\n",
                  "image 203/385 C:\\Users\\jinha\\Documents\\CS424\\Project SMU Logo\\tree-type-detection-6\\test\\images\\IMG_9708_JPG.rf.450ddac545b6a808b19b9c1545d375b2.jpg: 640x640 1 SMU-Logo, 67.0ms\n",
                  "image 204/385 C:\\Users\\jinha\\Documents\\CS424\\Project SMU Logo\\tree-type-detection-6\\test\\images\\IMG_9715_JPG.rf.2b61e7801c2386b66c863296a06cc2a6.jpg: 640x640 (no detections), 64.0ms\n",
                  "image 205/385 C:\\Users\\jinha\\Documents\\CS424\\Project SMU Logo\\tree-type-detection-6\\test\\images\\IMG_9736_JPG.rf.8a65c6000370555b98828d42b5e44083.jpg: 640x640 (no detections), 66.0ms\n",
                  "image 206/385 C:\\Users\\jinha\\Documents\\CS424\\Project SMU Logo\\tree-type-detection-6\\test\\images\\IMG_9737_JPG.rf.d182628949b4cdb80ee11f692d33b694.jpg: 640x640 (no detections), 69.0ms\n",
                  "image 207/385 C:\\Users\\jinha\\Documents\\CS424\\Project SMU Logo\\tree-type-detection-6\\test\\images\\IMG_9742_JPG.rf.11e31576d138a1958f256e3967cd8891.jpg: 640x640 1 SMU-Logo, 67.0ms\n",
                  "image 208/385 C:\\Users\\jinha\\Documents\\CS424\\Project SMU Logo\\tree-type-detection-6\\test\\images\\IMG_9748_JPG.rf.f75d5de13d76d837c9beb9bd4edbadea.jpg: 640x640 1 SMU-Logo, 68.0ms\n",
                  "image 209/385 C:\\Users\\jinha\\Documents\\CS424\\Project SMU Logo\\tree-type-detection-6\\test\\images\\IMG_9765_JPG.rf.6adb2f1f5966c0bfa5b15d21cfdce626.jpg: 640x640 1 SMU-Logo, 68.0ms\n",
                  "image 210/385 C:\\Users\\jinha\\Documents\\CS424\\Project SMU Logo\\tree-type-detection-6\\test\\images\\IMG_9770_JPG.rf.778ef510bb678899d70abb4b142e7ef3.jpg: 640x640 2 SMU-Logos, 72.0ms\n",
                  "image 211/385 C:\\Users\\jinha\\Documents\\CS424\\Project SMU Logo\\tree-type-detection-6\\test\\images\\IMG_9777_JPG.rf.b1bf4a2efaa5e33841eb53828877f144.jpg: 640x640 1 SMU-Logo, 67.0ms\n",
                  "image 212/385 C:\\Users\\jinha\\Documents\\CS424\\Project SMU Logo\\tree-type-detection-6\\test\\images\\IMG_9782_JPG.rf.5f5d0967ea70249087902cc496647c7f.jpg: 640x640 1 SMU-Logo, 66.0ms\n",
                  "image 213/385 C:\\Users\\jinha\\Documents\\CS424\\Project SMU Logo\\tree-type-detection-6\\test\\images\\IMG_9801_JPG.rf.804a9260449edf43ec82cb181ef52d5b.jpg: 640x640 1 SMU-Logo, 70.0ms\n",
                  "image 214/385 C:\\Users\\jinha\\Documents\\CS424\\Project SMU Logo\\tree-type-detection-6\\test\\images\\IMG_9837_JPG.rf.df0d7763e077da0e80dee3732e409f60.jpg: 640x640 1 SMU-Logo, 69.0ms\n",
                  "image 215/385 C:\\Users\\jinha\\Documents\\CS424\\Project SMU Logo\\tree-type-detection-6\\test\\images\\IMG_9849_JPG.rf.c6c9ddc93d60a6f86780ef61a864b450.jpg: 640x640 1 SMU-Logo, 71.0ms\n",
                  "image 216/385 C:\\Users\\jinha\\Documents\\CS424\\Project SMU Logo\\tree-type-detection-6\\test\\images\\IMG_9854_JPG.rf.1395fbc1146e4e5e42c3750711de919b.jpg: 640x640 1 SMU-Logo, 68.0ms\n",
                  "image 217/385 C:\\Users\\jinha\\Documents\\CS424\\Project SMU Logo\\tree-type-detection-6\\test\\images\\IMG_9863_JPG.rf.2bbeab4a2978ffd7f9aced9677261631.jpg: 640x640 1 SMU-Logo, 67.0ms\n",
                  "image 218/385 C:\\Users\\jinha\\Documents\\CS424\\Project SMU Logo\\tree-type-detection-6\\test\\images\\IMG_9882_JPG.rf.d9d0c4b8c16f713628a69b69761cb103.jpg: 640x640 1 SMU-Logo, 68.0ms\n",
                  "image 219/385 C:\\Users\\jinha\\Documents\\CS424\\Project SMU Logo\\tree-type-detection-6\\test\\images\\IMG_9886_JPG.rf.4c8979bc48a881499179ba271dc591da.jpg: 640x640 (no detections), 68.0ms\n",
                  "image 220/385 C:\\Users\\jinha\\Documents\\CS424\\Project SMU Logo\\tree-type-detection-6\\test\\images\\IMG_9899_JPG.rf.80891e87bd61ac4546cd1b9a5c4889cf.jpg: 640x640 1 SMU-Logo, 70.0ms\n",
                  "image 221/385 C:\\Users\\jinha\\Documents\\CS424\\Project SMU Logo\\tree-type-detection-6\\test\\images\\IMG_9902_JPG.rf.2f44c549379d94bc501e79c370f36627.jpg: 640x640 1 SMU-Logo, 69.0ms\n",
                  "image 222/385 C:\\Users\\jinha\\Documents\\CS424\\Project SMU Logo\\tree-type-detection-6\\test\\images\\PXL_20240222_075143893_jpg.rf.1e0488d10c1f0e484ee0d825edfa0f44.jpg: 640x640 (no detections), 68.0ms\n",
                  "image 223/385 C:\\Users\\jinha\\Documents\\CS424\\Project SMU Logo\\tree-type-detection-6\\test\\images\\PXL_20240222_075200185_jpg.rf.f144e2dab50402206e0a82d6723300b5.jpg: 640x640 1 SMU-Logo, 67.0ms\n",
                  "image 224/385 C:\\Users\\jinha\\Documents\\CS424\\Project SMU Logo\\tree-type-detection-6\\test\\images\\PXL_20240222_075230952_jpg.rf.a70df2afb8cfbed4dfaa66bf64b0a4ce.jpg: 640x640 (no detections), 66.0ms\n",
                  "image 225/385 C:\\Users\\jinha\\Documents\\CS424\\Project SMU Logo\\tree-type-detection-6\\test\\images\\PXL_20240222_075240869_jpg.rf.cefa656997eed185b497e9a3b15a64c7.jpg: 640x640 (no detections), 67.0ms\n",
                  "image 226/385 C:\\Users\\jinha\\Documents\\CS424\\Project SMU Logo\\tree-type-detection-6\\test\\images\\PXL_20240222_075302313_jpg.rf.2a69743c44cf4f0cb9422468ca45eb7d.jpg: 640x640 (no detections), 66.0ms\n",
                  "image 227/385 C:\\Users\\jinha\\Documents\\CS424\\Project SMU Logo\\tree-type-detection-6\\test\\images\\PXL_20240222_075330656_jpg.rf.c7e63a21de9e71cdc55ad3daf4398509.jpg: 640x640 1 SMU-Logo, 66.0ms\n",
                  "image 228/385 C:\\Users\\jinha\\Documents\\CS424\\Project SMU Logo\\tree-type-detection-6\\test\\images\\PXL_20240222_075421979_jpg.rf.9b1e2cd9e7c30e5dbfe9910e36e3e8fe.jpg: 640x640 (no detections), 66.0ms\n",
                  "image 229/385 C:\\Users\\jinha\\Documents\\CS424\\Project SMU Logo\\tree-type-detection-6\\test\\images\\PXL_20240222_075519941_jpg.rf.5d23d73d2b782116b149e1e00ae08fa3.jpg: 640x640 (no detections), 65.0ms\n",
                  "image 230/385 C:\\Users\\jinha\\Documents\\CS424\\Project SMU Logo\\tree-type-detection-6\\test\\images\\PXL_20240222_075522869_jpg.rf.4cab003dd09cb1a99cf4683de3afcac5.jpg: 640x640 (no detections), 67.0ms\n",
                  "image 231/385 C:\\Users\\jinha\\Documents\\CS424\\Project SMU Logo\\tree-type-detection-6\\test\\images\\PXL_20240222_075524268_jpg.rf.0b58b778c21a3f8ece773e057f5af81b.jpg: 640x640 (no detections), 68.0ms\n",
                  "image 232/385 C:\\Users\\jinha\\Documents\\CS424\\Project SMU Logo\\tree-type-detection-6\\test\\images\\PXL_20240222_075638762_jpg.rf.43367806218340aca2161ad87c980a20.jpg: 640x640 (no detections), 70.0ms\n",
                  "image 233/385 C:\\Users\\jinha\\Documents\\CS424\\Project SMU Logo\\tree-type-detection-6\\test\\images\\PXL_20240222_075640199_jpg.rf.5bd56ea3c607e1b0f457b24d1d05c991.jpg: 640x640 (no detections), 69.0ms\n",
                  "image 234/385 C:\\Users\\jinha\\Documents\\CS424\\Project SMU Logo\\tree-type-detection-6\\test\\images\\PXL_20240222_075641457_jpg.rf.eb677a2783d800350967609ee7fc5037.jpg: 640x640 (no detections), 67.0ms\n",
                  "image 235/385 C:\\Users\\jinha\\Documents\\CS424\\Project SMU Logo\\tree-type-detection-6\\test\\images\\PXL_20240222_075701531_jpg.rf.417102f68a087a893b17d597a010f4af.jpg: 640x640 (no detections), 69.0ms\n",
                  "image 236/385 C:\\Users\\jinha\\Documents\\CS424\\Project SMU Logo\\tree-type-detection-6\\test\\images\\PXL_20240222_075709706_jpg.rf.6dc4e0293f72f1f254c3e05b9dcb56fa.jpg: 640x640 (no detections), 67.0ms\n",
                  "image 237/385 C:\\Users\\jinha\\Documents\\CS424\\Project SMU Logo\\tree-type-detection-6\\test\\images\\PXL_20240222_075720945_jpg.rf.1546a51280eba5ce13152d9e6d48d2a2.jpg: 640x640 (no detections), 68.0ms\n",
                  "image 238/385 C:\\Users\\jinha\\Documents\\CS424\\Project SMU Logo\\tree-type-detection-6\\test\\images\\PXL_20240222_075807017_jpg.rf.6eeaea71d11f2796c92b1188ad5a8cfe.jpg: 640x640 (no detections), 69.0ms\n",
                  "image 239/385 C:\\Users\\jinha\\Documents\\CS424\\Project SMU Logo\\tree-type-detection-6\\test\\images\\PXL_20240222_075814972_jpg.rf.ef5b0dd1bcea5c07c15ccaa6f63b2603.jpg: 640x640 (no detections), 66.0ms\n",
                  "image 240/385 C:\\Users\\jinha\\Documents\\CS424\\Project SMU Logo\\tree-type-detection-6\\test\\images\\PXL_20240222_075912756_jpg.rf.c5d79b1d77b9b3b847e3251dca3eba16.jpg: 640x640 (no detections), 67.0ms\n",
                  "image 241/385 C:\\Users\\jinha\\Documents\\CS424\\Project SMU Logo\\tree-type-detection-6\\test\\images\\PXL_20240222_080046346_jpg.rf.18c48dc22c7b9f557207942725637cba.jpg: 640x640 (no detections), 79.0ms\n",
                  "image 242/385 C:\\Users\\jinha\\Documents\\CS424\\Project SMU Logo\\tree-type-detection-6\\test\\images\\PXL_20240222_080112578_jpg.rf.b3db56f2501778445b842b7ef70485a3.jpg: 640x640 (no detections), 86.0ms\n",
                  "image 243/385 C:\\Users\\jinha\\Documents\\CS424\\Project SMU Logo\\tree-type-detection-6\\test\\images\\PXL_20240222_080116144_jpg.rf.e135142676ee2aca69c2cbec400adbac.jpg: 640x640 (no detections), 67.0ms\n",
                  "image 244/385 C:\\Users\\jinha\\Documents\\CS424\\Project SMU Logo\\tree-type-detection-6\\test\\images\\PXL_20240222_080134808_jpg.rf.9ba7095b5c78c7b0eadb02edd01cedf6.jpg: 640x640 1 SMU-Logo, 73.0ms\n",
                  "image 245/385 C:\\Users\\jinha\\Documents\\CS424\\Project SMU Logo\\tree-type-detection-6\\test\\images\\PXL_20240222_080155766_jpg.rf.f58255842cec79ccde382f5a43a1d232.jpg: 640x640 (no detections), 72.0ms\n",
                  "image 246/385 C:\\Users\\jinha\\Documents\\CS424\\Project SMU Logo\\tree-type-detection-6\\test\\images\\PXL_20240222_080354765_jpg.rf.1dc99491bd78afcf252c3fe3fb5df582.jpg: 640x640 1 SMU-Logo, 70.0ms\n",
                  "image 247/385 C:\\Users\\jinha\\Documents\\CS424\\Project SMU Logo\\tree-type-detection-6\\test\\images\\PXL_20240222_080428847_jpg.rf.794700c471b4da9b211bcff5d41005db.jpg: 640x640 (no detections), 74.0ms\n",
                  "image 248/385 C:\\Users\\jinha\\Documents\\CS424\\Project SMU Logo\\tree-type-detection-6\\test\\images\\PXL_20240222_080440212_jpg.rf.8289806e7e7f9810c8e14f9b75a5d251.jpg: 640x640 (no detections), 73.0ms\n",
                  "image 249/385 C:\\Users\\jinha\\Documents\\CS424\\Project SMU Logo\\tree-type-detection-6\\test\\images\\PXL_20240222_080450281_jpg.rf.9fa6f78ed592cc8655e3e8f8e5a4c2e3.jpg: 640x640 (no detections), 80.0ms\n",
                  "image 250/385 C:\\Users\\jinha\\Documents\\CS424\\Project SMU Logo\\tree-type-detection-6\\test\\images\\PXL_20240222_080550832_jpg.rf.36d5a1ad613dcd8d81cb98a5acc3cedf.jpg: 640x640 1 SMU-Logo, 70.0ms\n",
                  "image 251/385 C:\\Users\\jinha\\Documents\\CS424\\Project SMU Logo\\tree-type-detection-6\\test\\images\\PXL_20240222_080558318_jpg.rf.2e5816a7b5ae9d474ddae4c87ab68925.jpg: 640x640 1 SMU-Logo, 67.0ms\n",
                  "image 252/385 C:\\Users\\jinha\\Documents\\CS424\\Project SMU Logo\\tree-type-detection-6\\test\\images\\PXL_20240222_080606453_jpg.rf.398e890cca4e9bda34b258d4d30f006f.jpg: 640x640 1 SMU-Logo, 68.0ms\n",
                  "image 253/385 C:\\Users\\jinha\\Documents\\CS424\\Project SMU Logo\\tree-type-detection-6\\test\\images\\PXL_20240222_080626806_jpg.rf.a1373536e23ab8f8a90546504bfd7a51.jpg: 640x640 1 SMU-Logo, 67.0ms\n",
                  "image 254/385 C:\\Users\\jinha\\Documents\\CS424\\Project SMU Logo\\tree-type-detection-6\\test\\images\\PXL_20240222_080647619_jpg.rf.ff61f19100dcb2c06d4edf816545b131.jpg: 640x640 1 SMU-Logo, 68.0ms\n",
                  "image 255/385 C:\\Users\\jinha\\Documents\\CS424\\Project SMU Logo\\tree-type-detection-6\\test\\images\\PXL_20240222_080736168_jpg.rf.8e29783ee1735b7d89baf39452603f8c.jpg: 640x640 1 SMU-Logo, 67.0ms\n",
                  "image 256/385 C:\\Users\\jinha\\Documents\\CS424\\Project SMU Logo\\tree-type-detection-6\\test\\images\\PXL_20240222_080738069_jpg.rf.965a8c33ba6ae0ff3c1e5d1a0770b54c.jpg: 640x640 1 SMU-Logo, 68.0ms\n",
                  "image 257/385 C:\\Users\\jinha\\Documents\\CS424\\Project SMU Logo\\tree-type-detection-6\\test\\images\\PXL_20240222_080757048_jpg.rf.c6dd588b459daf8327aa6497b285bd50.jpg: 640x640 (no detections), 68.0ms\n",
                  "image 258/385 C:\\Users\\jinha\\Documents\\CS424\\Project SMU Logo\\tree-type-detection-6\\test\\images\\PXL_20240222_080815711_jpg.rf.bf4df4cce2dc1c255c5b7acc96b68843.jpg: 640x640 (no detections), 69.0ms\n",
                  "image 259/385 C:\\Users\\jinha\\Documents\\CS424\\Project SMU Logo\\tree-type-detection-6\\test\\images\\PXL_20240222_080816721_jpg.rf.f0bed1371784b7407cd86bd492d58ba1.jpg: 640x640 (no detections), 66.0ms\n",
                  "image 260/385 C:\\Users\\jinha\\Documents\\CS424\\Project SMU Logo\\tree-type-detection-6\\test\\images\\PXL_20240222_080819893_jpg.rf.eb13a1f737f804446b46fe8a05af7fa7.jpg: 640x640 (no detections), 70.0ms\n",
                  "image 261/385 C:\\Users\\jinha\\Documents\\CS424\\Project SMU Logo\\tree-type-detection-6\\test\\images\\PXL_20240222_080826483_jpg.rf.52669d2d1d93e41fc95b8c5db631dc30.jpg: 640x640 (no detections), 69.0ms\n",
                  "image 262/385 C:\\Users\\jinha\\Documents\\CS424\\Project SMU Logo\\tree-type-detection-6\\test\\images\\PXL_20240222_080908882_jpg.rf.38507b1073b5dc1c3e339da856d65d83.jpg: 640x640 (no detections), 67.0ms\n",
                  "image 263/385 C:\\Users\\jinha\\Documents\\CS424\\Project SMU Logo\\tree-type-detection-6\\test\\images\\PXL_20240222_080913030_jpg.rf.a220394a73572d6b4793f980b2bbee79.jpg: 640x640 (no detections), 67.0ms\n",
                  "image 264/385 C:\\Users\\jinha\\Documents\\CS424\\Project SMU Logo\\tree-type-detection-6\\test\\images\\PXL_20240222_080914093_jpg.rf.0de2e3be8c15cfc7f4077a5ab3d50ed2.jpg: 640x640 (no detections), 68.0ms\n",
                  "image 265/385 C:\\Users\\jinha\\Documents\\CS424\\Project SMU Logo\\tree-type-detection-6\\test\\images\\PXL_20240222_080935346_jpg.rf.b4e032b45b8a01dc1b93c6d4638e6aa4.jpg: 640x640 (no detections), 69.0ms\n",
                  "image 266/385 C:\\Users\\jinha\\Documents\\CS424\\Project SMU Logo\\tree-type-detection-6\\test\\images\\PXL_20240222_081047073_jpg.rf.9e63cc5206fa90d3af118639cb715be7.jpg: 640x640 1 SMU-Logo, 97.0ms\n",
                  "image 267/385 C:\\Users\\jinha\\Documents\\CS424\\Project SMU Logo\\tree-type-detection-6\\test\\images\\PXL_20240222_081129650_jpg.rf.8e80fbd0994bc1facddb6571755e40e3.jpg: 640x640 1 SMU-Logo, 70.0ms\n",
                  "image 268/385 C:\\Users\\jinha\\Documents\\CS424\\Project SMU Logo\\tree-type-detection-6\\test\\images\\PXL_20240222_081132771_jpg.rf.195bd02e93ef0c89e5c49d90433d6412.jpg: 640x640 1 SMU-Logo, 69.0ms\n",
                  "image 269/385 C:\\Users\\jinha\\Documents\\CS424\\Project SMU Logo\\tree-type-detection-6\\test\\images\\PXL_20240222_081150074_jpg.rf.a776507e2845fcdd72c7681cd4e4dd0f.jpg: 640x640 1 SMU-Logo, 75.0ms\n",
                  "image 270/385 C:\\Users\\jinha\\Documents\\CS424\\Project SMU Logo\\tree-type-detection-6\\test\\images\\PXL_20240222_081214877_jpg.rf.2df9868296d20069867fd88e13315a39.jpg: 640x640 (no detections), 68.0ms\n",
                  "image 271/385 C:\\Users\\jinha\\Documents\\CS424\\Project SMU Logo\\tree-type-detection-6\\test\\images\\PXL_20240222_081217783_jpg.rf.2944c7bbfb8f530e19cebca5068e72fe.jpg: 640x640 1 SMU-Logo, 69.0ms\n",
                  "image 272/385 C:\\Users\\jinha\\Documents\\CS424\\Project SMU Logo\\tree-type-detection-6\\test\\images\\PXL_20240222_081240682_jpg.rf.e5ba39feea5358a76f013992772fecd3.jpg: 640x640 1 SMU-Logo, 68.0ms\n",
                  "image 273/385 C:\\Users\\jinha\\Documents\\CS424\\Project SMU Logo\\tree-type-detection-6\\test\\images\\PXL_20240222_081251843_jpg.rf.7d6807da5886e45160ec86f0fd570939.jpg: 640x640 1 SMU-Logo, 67.0ms\n",
                  "image 274/385 C:\\Users\\jinha\\Documents\\CS424\\Project SMU Logo\\tree-type-detection-6\\test\\images\\PXL_20240222_081325366_jpg.rf.dcb37b40d2be1a0a4a27b8429d10ad08.jpg: 640x640 (no detections), 66.0ms\n",
                  "image 275/385 C:\\Users\\jinha\\Documents\\CS424\\Project SMU Logo\\tree-type-detection-6\\test\\images\\PXL_20240222_081326596_jpg.rf.bb3643f5bb78bdda673f0e678464f168.jpg: 640x640 (no detections), 69.0ms\n",
                  "image 276/385 C:\\Users\\jinha\\Documents\\CS424\\Project SMU Logo\\tree-type-detection-6\\test\\images\\PXL_20240222_081341568_jpg.rf.23ec8ad19bf1104d5ff27e70efd88888.jpg: 640x640 (no detections), 66.0ms\n",
                  "image 277/385 C:\\Users\\jinha\\Documents\\CS424\\Project SMU Logo\\tree-type-detection-6\\test\\images\\PXL_20240222_081403642_jpg.rf.61da4dc5c9d9e51d70735ab3bbc8c56e.jpg: 640x640 (no detections), 72.0ms\n",
                  "image 278/385 C:\\Users\\jinha\\Documents\\CS424\\Project SMU Logo\\tree-type-detection-6\\test\\images\\PXL_20240222_081427448_jpg.rf.c688291b06303217cb8d83cf6a081df1.jpg: 640x640 (no detections), 66.0ms\n",
                  "image 279/385 C:\\Users\\jinha\\Documents\\CS424\\Project SMU Logo\\tree-type-detection-6\\test\\images\\PXL_20240222_081428437_jpg.rf.e9794a4ac59d78005bbc7e4b9faa1115.jpg: 640x640 (no detections), 68.0ms\n",
                  "image 280/385 C:\\Users\\jinha\\Documents\\CS424\\Project SMU Logo\\tree-type-detection-6\\test\\images\\PXL_20240222_081441491_jpg.rf.4fa8e892dce699358b25ca0f7a8da321.jpg: 640x640 (no detections), 70.0ms\n",
                  "image 281/385 C:\\Users\\jinha\\Documents\\CS424\\Project SMU Logo\\tree-type-detection-6\\test\\images\\PXL_20240222_081443748_jpg.rf.acac7ec3da10ad381c328200cddae245.jpg: 640x640 (no detections), 67.0ms\n",
                  "image 282/385 C:\\Users\\jinha\\Documents\\CS424\\Project SMU Logo\\tree-type-detection-6\\test\\images\\PXL_20240222_081456410_jpg.rf.50921b6122fc1e40fb275c24f0924d1d.jpg: 640x640 (no detections), 67.0ms\n",
                  "image 283/385 C:\\Users\\jinha\\Documents\\CS424\\Project SMU Logo\\tree-type-detection-6\\test\\images\\PXL_20240222_081500755_jpg.rf.7774a74b770a11043d8ba9388d70c110.jpg: 640x640 (no detections), 66.0ms\n",
                  "image 284/385 C:\\Users\\jinha\\Documents\\CS424\\Project SMU Logo\\tree-type-detection-6\\test\\images\\PXL_20240222_081502854_jpg.rf.6b8a4f4d8b84f6b977c485ab4ac9a62b.jpg: 640x640 (no detections), 66.0ms\n",
                  "image 285/385 C:\\Users\\jinha\\Documents\\CS424\\Project SMU Logo\\tree-type-detection-6\\test\\images\\PXL_20240222_081529586_jpg.rf.7113c81194ebcc79514ef56cbd7e92fd.jpg: 640x640 (no detections), 68.0ms\n",
                  "image 286/385 C:\\Users\\jinha\\Documents\\CS424\\Project SMU Logo\\tree-type-detection-6\\test\\images\\PXL_20240222_081607160_jpg.rf.4ac5c5bf0008ab738a0005fd53d377a6.jpg: 640x640 (no detections), 71.0ms\n",
                  "image 287/385 C:\\Users\\jinha\\Documents\\CS424\\Project SMU Logo\\tree-type-detection-6\\test\\images\\PXL_20240222_081618979_jpg.rf.8e3f6cbc4662bb94118ccc2ca6f52670.jpg: 640x640 (no detections), 77.0ms\n",
                  "image 288/385 C:\\Users\\jinha\\Documents\\CS424\\Project SMU Logo\\tree-type-detection-6\\test\\images\\PXL_20240222_081643858_jpg.rf.d5de4e215e0f7f8786c9497038d738d9.jpg: 640x640 1 SMU-Logo, 72.0ms\n",
                  "image 289/385 C:\\Users\\jinha\\Documents\\CS424\\Project SMU Logo\\tree-type-detection-6\\test\\images\\PXL_20240222_081651839_jpg.rf.57fce25e13c3496f2ff4ca86bd3d7a9b.jpg: 640x640 (no detections), 77.0ms\n",
                  "image 290/385 C:\\Users\\jinha\\Documents\\CS424\\Project SMU Logo\\tree-type-detection-6\\test\\images\\PXL_20240222_081849976_jpg.rf.d0c267a709fff77526d00cd53def2870.jpg: 640x640 1 SMU-Logo, 76.0ms\n",
                  "image 291/385 C:\\Users\\jinha\\Documents\\CS424\\Project SMU Logo\\tree-type-detection-6\\test\\images\\PXL_20240227_004430014_jpg.rf.41428f49a12f6f90302adb60ace6b19b.jpg: 640x640 (no detections), 78.0ms\n",
                  "image 292/385 C:\\Users\\jinha\\Documents\\CS424\\Project SMU Logo\\tree-type-detection-6\\test\\images\\PXL_20240227_004505652_jpg.rf.c5b1274d2240f589f70254733d3c6bcf.jpg: 640x640 (no detections), 77.0ms\n",
                  "image 293/385 C:\\Users\\jinha\\Documents\\CS424\\Project SMU Logo\\tree-type-detection-6\\test\\images\\PXL_20240227_004615650_jpg.rf.bc13067530e281f5f8032f5e2db57c30.jpg: 640x640 (no detections), 71.0ms\n",
                  "image 294/385 C:\\Users\\jinha\\Documents\\CS424\\Project SMU Logo\\tree-type-detection-6\\test\\images\\PXL_20240227_004621538-RESTORED_jpg.rf.11d188f0e99403d0e76f8355e5af6c9e.jpg: 640x640 (no detections), 68.0ms\n",
                  "image 295/385 C:\\Users\\jinha\\Documents\\CS424\\Project SMU Logo\\tree-type-detection-6\\test\\images\\PXL_20240227_004627235-RESTORED_jpg.rf.085cbb6858d24950d8d3e402d182b1a8.jpg: 640x640 (no detections), 67.0ms\n",
                  "image 296/385 C:\\Users\\jinha\\Documents\\CS424\\Project SMU Logo\\tree-type-detection-6\\test\\images\\PXL_20240227_004627915-RESTORED_jpg.rf.c2284a6530433e0b7da3b6cda9542667.jpg: 640x640 (no detections), 69.0ms\n",
                  "image 297/385 C:\\Users\\jinha\\Documents\\CS424\\Project SMU Logo\\tree-type-detection-6\\test\\images\\PXL_20240227_004644914_jpg.rf.2371cde84f4cf509f50e884683422be7.jpg: 640x640 (no detections), 67.0ms\n",
                  "image 298/385 C:\\Users\\jinha\\Documents\\CS424\\Project SMU Logo\\tree-type-detection-6\\test\\images\\PXL_20240227_004656792_jpg.rf.b8ebfcd1fa071786b283a0fb0a18eb93.jpg: 640x640 (no detections), 67.0ms\n",
                  "image 299/385 C:\\Users\\jinha\\Documents\\CS424\\Project SMU Logo\\tree-type-detection-6\\test\\images\\PXL_20240227_004701657_jpg.rf.1562c6f779e20cd324c6cc96b3d24d02.jpg: 640x640 (no detections), 70.0ms\n",
                  "image 300/385 C:\\Users\\jinha\\Documents\\CS424\\Project SMU Logo\\tree-type-detection-6\\test\\images\\PXL_20240227_004708351_jpg.rf.7deeddc8c76e7eb547bee0ac99a6873c.jpg: 640x640 (no detections), 69.0ms\n",
                  "image 301/385 C:\\Users\\jinha\\Documents\\CS424\\Project SMU Logo\\tree-type-detection-6\\test\\images\\PXL_20240227_004710739_jpg.rf.57e12c69eebb0d33f542910e68dccdf5.jpg: 640x640 (no detections), 67.0ms\n",
                  "image 302/385 C:\\Users\\jinha\\Documents\\CS424\\Project SMU Logo\\tree-type-detection-6\\test\\images\\PXL_20240227_004731153_jpg.rf.91dd9091d8333bce2315e32d3545cce7.jpg: 640x640 (no detections), 66.0ms\n",
                  "image 303/385 C:\\Users\\jinha\\Documents\\CS424\\Project SMU Logo\\tree-type-detection-6\\test\\images\\PXL_20240227_004742629_jpg.rf.7c15187309339ac345a5f504daec7fd1.jpg: 640x640 (no detections), 68.0ms\n",
                  "image 304/385 C:\\Users\\jinha\\Documents\\CS424\\Project SMU Logo\\tree-type-detection-6\\test\\images\\PXL_20240227_004809877_jpg.rf.bc028222a9a81661437c7e1a3219208d.jpg: 640x640 (no detections), 69.0ms\n",
                  "image 305/385 C:\\Users\\jinha\\Documents\\CS424\\Project SMU Logo\\tree-type-detection-6\\test\\images\\PXL_20240227_005029754_jpg.rf.204a6a9214297dee30f0caa452f77dba.jpg: 640x640 2 SMU-Logos, 66.0ms\n",
                  "image 306/385 C:\\Users\\jinha\\Documents\\CS424\\Project SMU Logo\\tree-type-detection-6\\test\\images\\PXL_20240227_005057991_jpg.rf.06ac4759d35f89e50df5b8f98249de15.jpg: 640x640 1 SMU-Logo, 65.0ms\n",
                  "image 307/385 C:\\Users\\jinha\\Documents\\CS424\\Project SMU Logo\\tree-type-detection-6\\test\\images\\PXL_20240227_005121263_jpg.rf.4d841570f9ab932355718d89d296bd5c.jpg: 640x640 (no detections), 63.0ms\n",
                  "image 308/385 C:\\Users\\jinha\\Documents\\CS424\\Project SMU Logo\\tree-type-detection-6\\test\\images\\PXL_20240227_005124300_jpg.rf.1255427fd31b8d394d82802602606bc8.jpg: 640x640 (no detections), 73.0ms\n",
                  "image 309/385 C:\\Users\\jinha\\Documents\\CS424\\Project SMU Logo\\tree-type-detection-6\\test\\images\\PXL_20240227_005130309_jpg.rf.83c2646301fdd1bb61feb3f06d2a828d.jpg: 640x640 (no detections), 69.0ms\n",
                  "image 310/385 C:\\Users\\jinha\\Documents\\CS424\\Project SMU Logo\\tree-type-detection-6\\test\\images\\PXL_20240227_005131609_jpg.rf.ef9957ba134e9e46087d8cd88b00820e.jpg: 640x640 (no detections), 66.0ms\n",
                  "image 311/385 C:\\Users\\jinha\\Documents\\CS424\\Project SMU Logo\\tree-type-detection-6\\test\\images\\PXL_20240227_005255733_jpg.rf.31c68c68819c5e5d4f7f06481b721c4e.jpg: 640x640 (no detections), 67.0ms\n",
                  "image 312/385 C:\\Users\\jinha\\Documents\\CS424\\Project SMU Logo\\tree-type-detection-6\\test\\images\\PXL_20240227_005259459_jpg.rf.cc0263b85ad7a340689b74a75deab231.jpg: 640x640 (no detections), 67.0ms\n",
                  "image 313/385 C:\\Users\\jinha\\Documents\\CS424\\Project SMU Logo\\tree-type-detection-6\\test\\images\\PXL_20240227_005303240_jpg.rf.a7de0d6606c48adaa8b1b9d4a49e7264.jpg: 640x640 (no detections), 68.0ms\n",
                  "image 314/385 C:\\Users\\jinha\\Documents\\CS424\\Project SMU Logo\\tree-type-detection-6\\test\\images\\PXL_20240227_005307917_jpg.rf.adb9c9315bfe126c5d164682abfd00de.jpg: 640x640 (no detections), 69.0ms\n",
                  "image 315/385 C:\\Users\\jinha\\Documents\\CS424\\Project SMU Logo\\tree-type-detection-6\\test\\images\\PXL_20240227_005326943_jpg.rf.7bfcef9f2f7d32aac1f381b1b1d6a816.jpg: 640x640 (no detections), 92.0ms\n",
                  "image 316/385 C:\\Users\\jinha\\Documents\\CS424\\Project SMU Logo\\tree-type-detection-6\\test\\images\\PXL_20240227_005527166_jpg.rf.c404519d3609ede5ab6deb74990f0e52.jpg: 640x640 (no detections), 73.5ms\n",
                  "image 317/385 C:\\Users\\jinha\\Documents\\CS424\\Project SMU Logo\\tree-type-detection-6\\test\\images\\PXL_20240227_005529323_jpg.rf.42e94f04f2c4bb9be22c13d591ea5531.jpg: 640x640 (no detections), 83.0ms\n",
                  "image 318/385 C:\\Users\\jinha\\Documents\\CS424\\Project SMU Logo\\tree-type-detection-6\\test\\images\\PXL_20240227_005531868_jpg.rf.f5f0e5ccfb9f778e63a8d0a23cdefa31.jpg: 640x640 (no detections), 95.0ms\n",
                  "image 319/385 C:\\Users\\jinha\\Documents\\CS424\\Project SMU Logo\\tree-type-detection-6\\test\\images\\PXL_20240227_005532903_jpg.rf.fca575b68879b63b1e597ac3a98105d7.jpg: 640x640 (no detections), 82.0ms\n",
                  "image 320/385 C:\\Users\\jinha\\Documents\\CS424\\Project SMU Logo\\tree-type-detection-6\\test\\images\\PXL_20240227_005545029_jpg.rf.86d5eaa5a2e3ced26d28af016ce77beb.jpg: 640x640 (no detections), 104.0ms\n",
                  "image 321/385 C:\\Users\\jinha\\Documents\\CS424\\Project SMU Logo\\tree-type-detection-6\\test\\images\\PXL_20240227_005658348_jpg.rf.a38ad95e371ff20ac3fcb88be55f9b63.jpg: 640x640 (no detections), 86.0ms\n",
                  "image 322/385 C:\\Users\\jinha\\Documents\\CS424\\Project SMU Logo\\tree-type-detection-6\\test\\images\\PXL_20240227_005711871_jpg.rf.6372c1bb610cb19321eb10235c6f8def.jpg: 640x640 (no detections), 71.0ms\n",
                  "image 323/385 C:\\Users\\jinha\\Documents\\CS424\\Project SMU Logo\\tree-type-detection-6\\test\\images\\PXL_20240227_005722872_jpg.rf.0e5275fb4b68e4fc2b567199c16b92d1.jpg: 640x640 (no detections), 70.0ms\n",
                  "image 324/385 C:\\Users\\jinha\\Documents\\CS424\\Project SMU Logo\\tree-type-detection-6\\test\\images\\PXL_20240227_005928597_jpg.rf.291ff8bee49b4c47b6baef40f6401bf8.jpg: 640x640 1 SMU-Logo, 86.0ms\n",
                  "image 325/385 C:\\Users\\jinha\\Documents\\CS424\\Project SMU Logo\\tree-type-detection-6\\test\\images\\PXL_20240227_005943516_jpg.rf.9e6695fda0df3527d804c32107fa6d90.jpg: 640x640 1 SMU-Logo, 77.0ms\n",
                  "image 326/385 C:\\Users\\jinha\\Documents\\CS424\\Project SMU Logo\\tree-type-detection-6\\test\\images\\PXL_20240227_005944848_jpg.rf.f53be60f38677ca76ebbd194c2470d5a.jpg: 640x640 1 SMU-Logo, 70.0ms\n",
                  "image 327/385 C:\\Users\\jinha\\Documents\\CS424\\Project SMU Logo\\tree-type-detection-6\\test\\images\\PXL_20240227_010030351_jpg.rf.985cb97bbcf12168e9ad344add3bd441.jpg: 640x640 (no detections), 68.0ms\n",
                  "image 328/385 C:\\Users\\jinha\\Documents\\CS424\\Project SMU Logo\\tree-type-detection-6\\test\\images\\PXL_20240227_010118509_jpg.rf.18bcf27b62ba11963b3184ffa947c18f.jpg: 640x640 (no detections), 68.0ms\n",
                  "image 329/385 C:\\Users\\jinha\\Documents\\CS424\\Project SMU Logo\\tree-type-detection-6\\test\\images\\PXL_20240227_010234064_jpg.rf.81ccf9db42e953d77b3a2e28fa06a8f4.jpg: 640x640 (no detections), 71.0ms\n",
                  "image 330/385 C:\\Users\\jinha\\Documents\\CS424\\Project SMU Logo\\tree-type-detection-6\\test\\images\\PXL_20240227_010243431_jpg.rf.d38498fe2988f46640353af70de0bfbe.jpg: 640x640 (no detections), 65.0ms\n",
                  "image 331/385 C:\\Users\\jinha\\Documents\\CS424\\Project SMU Logo\\tree-type-detection-6\\test\\images\\PXL_20240227_010613713_jpg.rf.6b0ff230c61d3cbfbb12b3e9169199ca.jpg: 640x640 (no detections), 71.0ms\n",
                  "image 332/385 C:\\Users\\jinha\\Documents\\CS424\\Project SMU Logo\\tree-type-detection-6\\test\\images\\PXL_20240227_010816991_jpg.rf.692fb20c0b0031fbec3318c974a71545.jpg: 640x640 (no detections), 78.0ms\n",
                  "image 333/385 C:\\Users\\jinha\\Documents\\CS424\\Project SMU Logo\\tree-type-detection-6\\test\\images\\PXL_20240227_010818145_jpg.rf.f3f18a42a409e40defb55fcdad8929cd.jpg: 640x640 (no detections), 66.0ms\n",
                  "image 334/385 C:\\Users\\jinha\\Documents\\CS424\\Project SMU Logo\\tree-type-detection-6\\test\\images\\PXL_20240227_010819344_jpg.rf.7f7f93dfe1aea66cb9904e65aa617f3e.jpg: 640x640 (no detections), 66.0ms\n",
                  "image 335/385 C:\\Users\\jinha\\Documents\\CS424\\Project SMU Logo\\tree-type-detection-6\\test\\images\\PXL_20240227_010851567_jpg.rf.c9e743501e8f732ad7aeee8aa85cfc9a.jpg: 640x640 2 SMU-Logos, 65.0ms\n",
                  "image 336/385 C:\\Users\\jinha\\Documents\\CS424\\Project SMU Logo\\tree-type-detection-6\\test\\images\\PXL_20240227_010929915_jpg.rf.eec1e7502d3a929325500a9ded9031e5.jpg: 640x640 1 SMU-Logo, 67.0ms\n",
                  "image 337/385 C:\\Users\\jinha\\Documents\\CS424\\Project SMU Logo\\tree-type-detection-6\\test\\images\\PXL_20240227_010940985_jpg.rf.d478de4db8d84b82bc1b9a8b69ed7efb.jpg: 640x640 1 SMU-Logo, 74.0ms\n",
                  "image 338/385 C:\\Users\\jinha\\Documents\\CS424\\Project SMU Logo\\tree-type-detection-6\\test\\images\\PXL_20240227_011031333_jpg.rf.05d735af5805e0a614d812a18ad41d7b.jpg: 640x640 (no detections), 78.0ms\n",
                  "image 339/385 C:\\Users\\jinha\\Documents\\CS424\\Project SMU Logo\\tree-type-detection-6\\test\\images\\PXL_20240227_011126039_jpg.rf.d08ff85fa0e72b7f236f8f5db9cecdf5.jpg: 640x640 (no detections), 83.0ms\n",
                  "image 340/385 C:\\Users\\jinha\\Documents\\CS424\\Project SMU Logo\\tree-type-detection-6\\test\\images\\PXL_20240227_011344705_jpg.rf.93009f6fafe43880981a08516af3acf2.jpg: 640x640 (no detections), 85.0ms\n",
                  "image 341/385 C:\\Users\\jinha\\Documents\\CS424\\Project SMU Logo\\tree-type-detection-6\\test\\images\\PXL_20240227_011349704_jpg.rf.217fb273ee7966d169be7004ffaab91a.jpg: 640x640 (no detections), 74.0ms\n",
                  "image 342/385 C:\\Users\\jinha\\Documents\\CS424\\Project SMU Logo\\tree-type-detection-6\\test\\images\\PXL_20240227_011434393_jpg.rf.b306ec4059e108415cfe6563e2691195.jpg: 640x640 (no detections), 76.0ms\n",
                  "image 343/385 C:\\Users\\jinha\\Documents\\CS424\\Project SMU Logo\\tree-type-detection-6\\test\\images\\PXL_20240227_011524411_jpg.rf.5cad927f66ba08bdb1b751be6beb6029.jpg: 640x640 (no detections), 76.0ms\n",
                  "image 344/385 C:\\Users\\jinha\\Documents\\CS424\\Project SMU Logo\\tree-type-detection-6\\test\\images\\PXL_20240227_011547577_jpg.rf.6657ec9aafa5ea0dfaa854edb2ec8c03.jpg: 640x640 (no detections), 70.0ms\n",
                  "image 345/385 C:\\Users\\jinha\\Documents\\CS424\\Project SMU Logo\\tree-type-detection-6\\test\\images\\PXL_20240227_011548583_jpg.rf.91463466c6762532499ad6460bcb38b8.jpg: 640x640 (no detections), 86.0ms\n",
                  "image 346/385 C:\\Users\\jinha\\Documents\\CS424\\Project SMU Logo\\tree-type-detection-6\\test\\images\\PXL_20240227_011552829_jpg.rf.4fab4d6dab9c3e63ffd03cfee3ac93f6.jpg: 640x640 (no detections), 74.0ms\n",
                  "image 347/385 C:\\Users\\jinha\\Documents\\CS424\\Project SMU Logo\\tree-type-detection-6\\test\\images\\PXL_20240227_011638953_jpg.rf.5349abe6a073a7b7f9417c8e6a8bd12f.jpg: 640x640 (no detections), 77.0ms\n",
                  "image 348/385 C:\\Users\\jinha\\Documents\\CS424\\Project SMU Logo\\tree-type-detection-6\\test\\images\\PXL_20240227_011645914_jpg.rf.f710feed4443e7eb46ea5b8b84aa0335.jpg: 640x640 (no detections), 72.0ms\n",
                  "image 349/385 C:\\Users\\jinha\\Documents\\CS424\\Project SMU Logo\\tree-type-detection-6\\test\\images\\PXL_20240227_011659773_jpg.rf.f3c131554f27be508af707d6481567cd.jpg: 640x640 (no detections), 70.0ms\n",
                  "image 350/385 C:\\Users\\jinha\\Documents\\CS424\\Project SMU Logo\\tree-type-detection-6\\test\\images\\PXL_20240227_011718669_jpg.rf.dcb690d7d6ebb30b0f1702062247dc48.jpg: 640x640 (no detections), 71.0ms\n",
                  "image 351/385 C:\\Users\\jinha\\Documents\\CS424\\Project SMU Logo\\tree-type-detection-6\\test\\images\\PXL_20240227_011758758_jpg.rf.2e7e9ee9d8dc25151443b39620901de0.jpg: 640x640 (no detections), 67.0ms\n",
                  "image 352/385 C:\\Users\\jinha\\Documents\\CS424\\Project SMU Logo\\tree-type-detection-6\\test\\images\\PXL_20240227_011834344_jpg.rf.20521ba68fa78c3a10175da027d90ab7.jpg: 640x640 (no detections), 67.0ms\n",
                  "image 353/385 C:\\Users\\jinha\\Documents\\CS424\\Project SMU Logo\\tree-type-detection-6\\test\\images\\PXL_20240227_011911727_jpg.rf.c3f27713a264a0a6dc5fc002a86aebc0.jpg: 640x640 (no detections), 67.1ms\n",
                  "image 354/385 C:\\Users\\jinha\\Documents\\CS424\\Project SMU Logo\\tree-type-detection-6\\test\\images\\PXL_20240227_011932928_jpg.rf.c07f633a638648209fca3b2fd05b8de7.jpg: 640x640 (no detections), 66.0ms\n",
                  "image 355/385 C:\\Users\\jinha\\Documents\\CS424\\Project SMU Logo\\tree-type-detection-6\\test\\images\\PXL_20240227_012003680_jpg.rf.fe2b159a42a74d0060a8e977c4a13ea9.jpg: 640x640 (no detections), 66.0ms\n",
                  "image 356/385 C:\\Users\\jinha\\Documents\\CS424\\Project SMU Logo\\tree-type-detection-6\\test\\images\\PXL_20240227_012019396_jpg.rf.e11c4fa6cd0668a0fe785d44ed6b8867.jpg: 640x640 (no detections), 88.0ms\n",
                  "image 357/385 C:\\Users\\jinha\\Documents\\CS424\\Project SMU Logo\\tree-type-detection-6\\test\\images\\PXL_20240227_012041265_jpg.rf.d4e57acb6ad9c02c306cb6278cda30fe.jpg: 640x640 (no detections), 72.0ms\n",
                  "image 358/385 C:\\Users\\jinha\\Documents\\CS424\\Project SMU Logo\\tree-type-detection-6\\test\\images\\PXL_20240227_012157625_jpg.rf.776bf1fe8999c4ee3c0d7614a82baccb.jpg: 640x640 (no detections), 70.0ms\n",
                  "image 359/385 C:\\Users\\jinha\\Documents\\CS424\\Project SMU Logo\\tree-type-detection-6\\test\\images\\PXL_20240227_012324736_jpg.rf.7a3b28ef4b89568142253d6f2283e7c7.jpg: 640x640 (no detections), 65.0ms\n",
                  "image 360/385 C:\\Users\\jinha\\Documents\\CS424\\Project SMU Logo\\tree-type-detection-6\\test\\images\\PXL_20240227_012335140_jpg.rf.770beee9997ba508b3a4d34954aca33d.jpg: 640x640 (no detections), 70.0ms\n",
                  "image 361/385 C:\\Users\\jinha\\Documents\\CS424\\Project SMU Logo\\tree-type-detection-6\\test\\images\\PXL_20240227_012355615_jpg.rf.657e956d85d4d20603e11271cc16b337.jpg: 640x640 1 SMU-Logo, 71.0ms\n",
                  "image 362/385 C:\\Users\\jinha\\Documents\\CS424\\Project SMU Logo\\tree-type-detection-6\\test\\images\\PXL_20240227_012435664_jpg.rf.51a8c1d8c6408259525d43e3f0ddc654.jpg: 640x640 (no detections), 66.0ms\n",
                  "image 363/385 C:\\Users\\jinha\\Documents\\CS424\\Project SMU Logo\\tree-type-detection-6\\test\\images\\PXL_20240227_012449166_jpg.rf.f807553e454014bf909bcff7c9df5209.jpg: 640x640 (no detections), 75.0ms\n",
                  "image 364/385 C:\\Users\\jinha\\Documents\\CS424\\Project SMU Logo\\tree-type-detection-6\\test\\images\\PXL_20240227_012456420_jpg.rf.103b5cdfe2ab5c1cc419ac8c4f2276f6.jpg: 640x640 (no detections), 68.0ms\n",
                  "image 365/385 C:\\Users\\jinha\\Documents\\CS424\\Project SMU Logo\\tree-type-detection-6\\test\\images\\PXL_20240227_012458452_jpg.rf.3a9b0c91b273e83f17af345db1425af6.jpg: 640x640 (no detections), 67.0ms\n",
                  "image 366/385 C:\\Users\\jinha\\Documents\\CS424\\Project SMU Logo\\tree-type-detection-6\\test\\images\\PXL_20240227_012507690_jpg.rf.97f8ab325daed4bcf1bcaa99e9c7f579.jpg: 640x640 (no detections), 67.0ms\n",
                  "image 367/385 C:\\Users\\jinha\\Documents\\CS424\\Project SMU Logo\\tree-type-detection-6\\test\\images\\PXL_20240227_012514635_jpg.rf.b4afd35895a5c5e243b15593a8f06b26.jpg: 640x640 (no detections), 65.0ms\n",
                  "image 368/385 C:\\Users\\jinha\\Documents\\CS424\\Project SMU Logo\\tree-type-detection-6\\test\\images\\PXL_20240227_012519526_jpg.rf.bb2708fbfec66f28f4c09a1f3c1e0da7.jpg: 640x640 (no detections), 66.0ms\n",
                  "image 369/385 C:\\Users\\jinha\\Documents\\CS424\\Project SMU Logo\\tree-type-detection-6\\test\\images\\PXL_20240227_012520752_jpg.rf.dca02329b9b36d76a44fc8645f46ad6a.jpg: 640x640 (no detections), 68.0ms\n",
                  "image 370/385 C:\\Users\\jinha\\Documents\\CS424\\Project SMU Logo\\tree-type-detection-6\\test\\images\\PXL_20240227_012544593_jpg.rf.e6afb7324eb0bb7761fa6a62f0929712.jpg: 640x640 (no detections), 64.0ms\n",
                  "image 371/385 C:\\Users\\jinha\\Documents\\CS424\\Project SMU Logo\\tree-type-detection-6\\test\\images\\PXL_20240227_012743706_jpg.rf.8dd58e350270838df8c845124a4042c2.jpg: 640x640 (no detections), 79.0ms\n",
                  "image 372/385 C:\\Users\\jinha\\Documents\\CS424\\Project SMU Logo\\tree-type-detection-6\\test\\images\\PXL_20240227_012839100_jpg.rf.f9db754837aa6bcc90118061e2b3c642.jpg: 640x640 (no detections), 92.5ms\n",
                  "image 373/385 C:\\Users\\jinha\\Documents\\CS424\\Project SMU Logo\\tree-type-detection-6\\test\\images\\PXL_20240227_012955060_jpg.rf.0e3831ec7a23ffe5ae604cc89da8419d.jpg: 640x640 (no detections), 77.0ms\n",
                  "image 374/385 C:\\Users\\jinha\\Documents\\CS424\\Project SMU Logo\\tree-type-detection-6\\test\\images\\PXL_20240227_012957082_jpg.rf.6ad0cc2d2f3b739ae4bdb8682165b42f.jpg: 640x640 (no detections), 72.0ms\n",
                  "image 375/385 C:\\Users\\jinha\\Documents\\CS424\\Project SMU Logo\\tree-type-detection-6\\test\\images\\PXL_20240227_013004065_jpg.rf.af903f302914286f3726077430833fc6.jpg: 640x640 (no detections), 66.0ms\n",
                  "image 376/385 C:\\Users\\jinha\\Documents\\CS424\\Project SMU Logo\\tree-type-detection-6\\test\\images\\PXL_20240227_013033315_jpg.rf.27c9ab02e40f5832ab6e0e890577e151.jpg: 640x640 (no detections), 67.0ms\n",
                  "image 377/385 C:\\Users\\jinha\\Documents\\CS424\\Project SMU Logo\\tree-type-detection-6\\test\\images\\PXL_20240227_013034684_jpg.rf.8dc728fd318e4d2b4082f9bb9d39902b.jpg: 640x640 (no detections), 67.0ms\n",
                  "image 378/385 C:\\Users\\jinha\\Documents\\CS424\\Project SMU Logo\\tree-type-detection-6\\test\\images\\PXL_20240227_013046356_jpg.rf.404e415d68a433bafdb5fe15a31987b5.jpg: 640x640 (no detections), 66.0ms\n",
                  "image 379/385 C:\\Users\\jinha\\Documents\\CS424\\Project SMU Logo\\tree-type-detection-6\\test\\images\\PXL_20240227_013126838_jpg.rf.624fec532a5a402f58c55a211ba2f724.jpg: 640x640 (no detections), 65.0ms\n",
                  "image 380/385 C:\\Users\\jinha\\Documents\\CS424\\Project SMU Logo\\tree-type-detection-6\\test\\images\\PXL_20240227_013139340_jpg.rf.cfb3960014f62593ba433a0677f159e3.jpg: 640x640 (no detections), 67.0ms\n",
                  "image 381/385 C:\\Users\\jinha\\Documents\\CS424\\Project SMU Logo\\tree-type-detection-6\\test\\images\\PXL_20240227_013202747_jpg.rf.3ddf3228df5ac47335cd81718773c163.jpg: 640x640 1 SMU-Logo, 65.0ms\n",
                  "image 382/385 C:\\Users\\jinha\\Documents\\CS424\\Project SMU Logo\\tree-type-detection-6\\test\\images\\PXL_20240227_013225353_jpg.rf.83a1412171a5d5f880afbe1ca4ef6eec.jpg: 640x640 (no detections), 66.0ms\n",
                  "image 383/385 C:\\Users\\jinha\\Documents\\CS424\\Project SMU Logo\\tree-type-detection-6\\test\\images\\PXL_20240227_013229324_jpg.rf.3013a3a3855f1373974a6c8c3a29bc38.jpg: 640x640 1 SMU-Logo, 65.0ms\n",
                  "image 384/385 C:\\Users\\jinha\\Documents\\CS424\\Project SMU Logo\\tree-type-detection-6\\test\\images\\PXL_20240227_013450085_jpg.rf.69f3809f22335cca1262a1597f917aa9.jpg: 640x640 (no detections), 68.0ms\n",
                  "image 385/385 C:\\Users\\jinha\\Documents\\CS424\\Project SMU Logo\\tree-type-detection-6\\test\\images\\PXL_20240227_013525510_jpg.rf.a4b8b92f299c7008bbc5ac2d1daa22c6.jpg: 640x640 (no detections), 69.0ms\n",
                  "Speed: 2.2ms preprocess, 71.3ms inference, 0.6ms postprocess per image at shape (1, 3, 640, 640)\n"
               ]
            }
         ],
         "source": [
            "# Predict\n",
            "prediction = model.predict(source=f\"{path_to_data}/test/images\", conf=0.25, iou=0.6)"
         ]
      },
      {
         "cell_type": "markdown",
         "metadata": {},
         "source": [
            "Save images to `/predictions` folder if bounding box exists."
         ]
      },
      {
         "cell_type": "code",
         "execution_count": 11,
         "metadata": {},
         "outputs": [
            {
               "data": {
                  "text/plain": [
                     "56"
                  ]
               },
               "execution_count": 11,
               "metadata": {},
               "output_type": "execute_result"
            }
         ],
         "source": [
            "images = {}\n",
            "\n",
            "if not os.path.exists(f'{path_to_data}/../predictions'):\n",
            "    os.makedirs(f'{path_to_data}/../predictions')\n",
            "\n",
            "for i in range(0, len(prediction)):\n",
            "    if prediction[i].boxes.shape[0] >= 1:\n",
            "        im_rgb = Image.fromarray(prediction[i].plot(line_width=1)[..., ::-1])\n",
            "        images[i] = im_rgb  # RGB-order PIL image\n",
            "        predicted_box = convert_bbox_format(prediction[i])\n",
            "\n",
            "        # Write labels\n",
            "        with open(f'{path_to_data}/../predictions/obj_est.txt', 'a') as f:\n",
            "            f.write(', '.join(map(str, predicted_box)) + '\\n')\n",
            "        # Save images\n",
            "        im_rgb.save(fp=f'{path_to_data}/../predictions/{predicted_box[0]}_labelled.jpg')\n",
            "\n",
            "len(images)"
         ]
      }
   ],
   "metadata": {
      "kernelspec": {
         "display_name": "Python 3",
         "language": "python",
         "name": "python3"
      },
      "language_info": {
         "codemirror_mode": {
            "name": "ipython",
            "version": 3
         },
         "file_extension": ".py",
         "mimetype": "text/x-python",
         "name": "python",
         "nbconvert_exporter": "python",
         "pygments_lexer": "ipython3",
         "version": "3.10.6"
      }
   },
   "nbformat": 4,
   "nbformat_minor": 2
}

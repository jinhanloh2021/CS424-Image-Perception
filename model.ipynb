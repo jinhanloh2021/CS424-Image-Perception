{
   "cells": [
      {
         "cell_type": "markdown",
         "metadata": {},
         "source": [
            "# SMU Logo bounding box detection\n",
            "Design an algorithm to identify all images of SMU from a set of random images. A bounding box should be drawn around the SMU logo whenever it appears in an image.\n",
            "\n",
            "When an SMU logo occurs in an image, a bounding box should be drawn around it. Logo identification will be evaluated by its F1 score."
         ]
      },
      {
         "cell_type": "markdown",
         "metadata": {},
         "source": [
            "### Setup\n",
            "Install dependencies\n",
            "```bash\n",
            "pip install -r requirements.txt\n",
            "\n",
            "```"
         ]
      },
      {
         "cell_type": "code",
         "execution_count": null,
         "metadata": {},
         "outputs": [],
         "source": [
            "%pip install -r requirements.txt"
         ]
      },
      {
         "cell_type": "markdown",
         "metadata": {},
         "source": [
            "Import packages"
         ]
      },
      {
         "cell_type": "code",
         "execution_count": 2,
         "metadata": {},
         "outputs": [],
         "source": [
            "from ultralytics import YOLO\n",
            "from roboflow import Roboflow\n",
            "from PIL import Image\n",
            "from dotenv import load_dotenv\n",
            "from manage_model import update_path, convert_bbox_format, get_f1\n",
            "import os"
         ]
      },
      {
         "cell_type": "markdown",
         "metadata": {},
         "source": [
            "Load environment variables using dotenv\n",
            "- `API_KEY` - API Key for Roboflow dataset\n",
            "- `DATA_VERSION` - Version of dataset used\n",
            "- `PATH_TO_DATA` - Absolute file path to the \"SMU-Logo-Detection-1\" folder. See .env.example for example"
         ]
      },
      {
         "cell_type": "code",
         "execution_count": 3,
         "metadata": {},
         "outputs": [],
         "source": [
            "# Project settings\n",
            "load_dotenv()\n",
            "api_key = os.getenv('API_KEY')\n",
            "data_version = os.getenv('DATA_VERSION')\n",
            "path_to_project = os.getenv(\"PATH_TO_PROJECT\")\n",
            "\n",
            "# If on SMU Violet, can't load env variables. Write manually.\n",
            "\n",
            "path_to_data = f'{path_to_project}/tree-type-detection-{data_version}'"
         ]
      },
      {
         "cell_type": "markdown",
         "metadata": {},
         "source": [
            "Load dataset into workspace"
         ]
      },
      {
         "cell_type": "code",
         "execution_count": 4,
         "metadata": {},
         "outputs": [
            {
               "name": "stdout",
               "output_type": "stream",
               "text": [
                  "loading Roboflow workspace...\n",
                  "loading Roboflow project...\n",
                  "Data version: 4\n"
               ]
            }
         ],
         "source": [
            "rf = Roboflow(api_key=api_key)\n",
            "project = rf.workspace(\"tree-dataset-iftyz\").project(\"tree-type-detection-9rfxy\")\n",
            "dataset = project.version(data_version).download(\"yolov8\")\n",
            "print(f'Data version: {data_version}')"
         ]
      },
      {
         "cell_type": "markdown",
         "metadata": {},
         "source": [
            "Update test, train and val values in data.yaml\n",
            "This fixes a file not found bug"
         ]
      },
      {
         "cell_type": "code",
         "execution_count": 5,
         "metadata": {},
         "outputs": [],
         "source": [
            "update_path(data_version, path_to_project)"
         ]
      },
      {
         "cell_type": "markdown",
         "metadata": {},
         "source": [
            "### [Training](https://docs.ultralytics.com/modes/train/#train-settings)\n",
            "Use a trained model, saved in `/saved_models`, or train a model.\n",
            "A pre-trained [model](https://github.com/ultralytics/ultralytics?tab=readme-ov-file) `yolov8n.pt` from Ultralytics should be used. Tune hyper-params such as learning rate and epochs.\n",
            "\n",
            "If there is file not found error, check the `FILE_TO_PATH` env variable, and make sure that you've updated the `data.yml` to the absolute file path."
         ]
      },
      {
         "cell_type": "code",
         "execution_count": null,
         "metadata": {},
         "outputs": [],
         "source": [
            "# # Train model (Laptop)\n",
            "# model = YOLO('yolov8n.pt') # pre-trained yolov8 nano\n",
            "# results = model.train(data=f'{path_to_data}/data.yaml', epochs=10)\n",
            "\n",
            "# # Train model (SMU GPU)\n",
            "# model = YOLO('yolov8n.pt')\n",
            "# results = model.train(data=f'{path_to_data}/data.yaml', epochs=10, batch=-1, device=0, workers=4)"
         ]
      },
      {
         "cell_type": "code",
         "execution_count": 6,
         "metadata": {},
         "outputs": [],
         "source": [
            "# Use saved model\n",
            "model = YOLO('./saved_models/v6_epoch10.pt')"
         ]
      },
      {
         "cell_type": "markdown",
         "metadata": {},
         "source": [
            "After training, the model can be found in `/runs`. Save the `best.pt` model in the `/saved_models` folder."
         ]
      },
      {
         "cell_type": "markdown",
         "metadata": {},
         "source": [
            "### [Validation](https://docs.ultralytics.com/modes/val/#usage-examples)\n",
            "Val mode is used for validating a YOLOv8 model after it has been trained. In this mode, the model is evaluated on a validation set to measure its accuracy and generalization performance. This mode can be used to tune the hyperparameters of the model to improve its performance."
         ]
      },
      {
         "cell_type": "code",
         "execution_count": 7,
         "metadata": {},
         "outputs": [
            {
               "name": "stderr",
               "output_type": "stream",
               "text": [
                  "Ultralytics YOLOv8.0.196  Python-3.10.6 torch-2.2.1+cpu CPU (AMD Ryzen 9 5900HX with Radeon Graphics)\n",
                  "Model summary (fused): 168 layers, 11125971 parameters, 0 gradients, 28.4 GFLOPs\n",
                  "\u001b[34m\u001b[1mval: \u001b[0mScanning C:\\Users\\jinha\\Documents\\CS424\\Project SMU Logo\\tree-type-detection-4\\valid\\labels.cache... 576 images, 463 backgrounds, 0 corrupt: 100%|██████████| 576/576 [00:00<?, ?it/s]\n",
                  "                 Class     Images  Instances      Box(P          R      mAP50  mAP50-95): 100%|██████████| 36/36 [01:58<00:00,  3.30s/it]\n",
                  "                   all        576        129       0.93       0.76       0.88      0.685\n",
                  "Speed: 1.6ms preprocess, 197.5ms inference, 0.0ms loss, 0.1ms postprocess per image\n",
                  "Results saved to \u001b[1mruns\\detect\\val6\u001b[0m\n"
               ]
            },
            {
               "data": {
                  "text/plain": [
                     "'\\n1. Epochs: Vary from 7, 15 etc\\n2. Find a way to output the predicted labels into a folder. Compare the predicted labels and actual labels to check the metrics\\n3. Re-annotate if have time (those with very small logos)\\n\\n\\n4. annotate the rest of the images\\n5. after everything is annotated, augmentation and final training\\n'"
                  ]
               },
               "execution_count": 7,
               "metadata": {},
               "output_type": "execute_result"
            }
         ],
         "source": [
            "validation_results = model.val(data=f'{path_to_data}/data.yaml', conf=0.25, iou=0.6)\n",
            "'''\n",
            "1. Epochs: Vary from 7, 15 etc\n",
            "2. Find a way to output the predicted labels into a folder. Compare the predicted labels and actual labels to check the metrics\n",
            "3. Re-annotate if have time (those with very small logos)\n",
            "\n",
            "\n",
            "4. annotate the rest of the images\n",
            "5. after everything is annotated, augmentation and final training\n",
            "'''"
         ]
      },
      {
         "cell_type": "code",
         "execution_count": 8,
         "metadata": {},
         "outputs": [
            {
               "data": {
                  "text/plain": [
                     "0.8363615281158647"
                  ]
               },
               "execution_count": 8,
               "metadata": {},
               "output_type": "execute_result"
            }
         ],
         "source": [
            "get_f1(validation_results.results_dict)"
         ]
      },
      {
         "cell_type": "markdown",
         "metadata": {},
         "source": [
            "### [Test](https://docs.ultralytics.com/modes/predict/#why-use-ultralytics-yolo-for-inference)\n",
            "Predict bounding boxes on test set"
         ]
      },
      {
         "cell_type": "code",
         "execution_count": 14,
         "metadata": {},
         "outputs": [
            {
               "name": "stderr",
               "output_type": "stream",
               "text": [
                  "\n",
                  "image 1/14 C:\\Users\\jinha\\Documents\\CS424\\Project SMU Logo\\prof_test\\DSCF1293.JPG: 448x640 (no detections), 127.0ms\n",
                  "image 2/14 C:\\Users\\jinha\\Documents\\CS424\\Project SMU Logo\\prof_test\\DSCF1319.JPG: 448x640 (no detections), 120.0ms\n",
                  "image 3/14 C:\\Users\\jinha\\Documents\\CS424\\Project SMU Logo\\prof_test\\DSCF1677.JPG: 640x448 (no detections), 120.0ms\n",
                  "image 4/14 C:\\Users\\jinha\\Documents\\CS424\\Project SMU Logo\\prof_test\\DSCF1708.JPG: 640x448 (no detections), 117.0ms\n",
                  "image 5/14 C:\\Users\\jinha\\Documents\\CS424\\Project SMU Logo\\prof_test\\DSCF1722.JPG: 448x640 (no detections), 121.0ms\n",
                  "image 6/14 C:\\Users\\jinha\\Documents\\CS424\\Project SMU Logo\\prof_test\\DSCF1761.JPG: 384x640 2 SMU-Logos, 111.0ms\n",
                  "image 7/14 C:\\Users\\jinha\\Documents\\CS424\\Project SMU Logo\\prof_test\\DSCF1897.JPG: 640x544 4 SMU-Logos, 145.0ms\n",
                  "image 8/14 C:\\Users\\jinha\\Documents\\CS424\\Project SMU Logo\\prof_test\\DSCF1912.JPG: 448x640 (no detections), 116.0ms\n",
                  "image 9/14 C:\\Users\\jinha\\Documents\\CS424\\Project SMU Logo\\prof_test\\DSCF1919.JPG: 448x640 (no detections), 114.0ms\n",
                  "image 10/14 C:\\Users\\jinha\\Documents\\CS424\\Project SMU Logo\\prof_test\\sample1.jpg: 480x640 1 SMU-Logo, 121.0ms\n",
                  "image 11/14 C:\\Users\\jinha\\Documents\\CS424\\Project SMU Logo\\prof_test\\sample2.jpg: 640x640 1 SMU-Logo, 165.0ms\n",
                  "image 12/14 C:\\Users\\jinha\\Documents\\CS424\\Project SMU Logo\\prof_test\\sample3.jpg: 448x640 1 SMU-Logo, 115.0ms\n",
                  "image 13/14 C:\\Users\\jinha\\Documents\\CS424\\Project SMU Logo\\prof_test\\wrong1.jpg: 448x640 (no detections), 109.0ms\n",
                  "image 14/14 C:\\Users\\jinha\\Documents\\CS424\\Project SMU Logo\\prof_test\\wrong2.jpg: 480x640 (no detections), 131.0ms\n",
                  "Speed: 2.2ms preprocess, 123.7ms inference, 0.6ms postprocess per image at shape (1, 3, 480, 640)\n"
               ]
            }
         ],
         "source": [
            "# Predict\n",
            "prediction = model.predict(source=f\"{path_to_data}/test/images\", conf=0.25, iou=0.6)"
         ]
      },
      {
         "cell_type": "markdown",
         "metadata": {},
         "source": [
            "Save images to `/predictions` folder if bounding box exists."
         ]
      },
      {
         "cell_type": "code",
         "execution_count": 15,
         "metadata": {},
         "outputs": [
            {
               "data": {
                  "text/plain": [
                     "5"
                  ]
               },
               "execution_count": 15,
               "metadata": {},
               "output_type": "execute_result"
            }
         ],
         "source": [
            "images = {}\n",
            "\n",
            "if not os.path.exists(f'{path_to_data}/../predictions'):\n",
            "    os.makedirs(f'{path_to_data}/../predictions')\n",
            "\n",
            "for i in range(0, len(prediction)):\n",
            "    if prediction[i].boxes.shape[0] >= 1:\n",
            "        im_rgb = Image.fromarray(prediction[i].plot(line_width=1)[..., ::-1])\n",
            "        images[i] = im_rgb  # RGB-order PIL image\n",
            "        predicted_box = convert_bbox_format(prediction[i])\n",
            "\n",
            "        # Write labels\n",
            "        with open(f'{path_to_data}/../predictions/obj_est.txt', 'a') as f:\n",
            "            f.write(', '.join(map(str, predicted_box)) + '\\n')\n",
            "        # Save images\n",
            "        im_rgb.save(fp=f'{path_to_data}/../predictions/{predicted_box[0]}_labelled.jpg')\n",
            "\n",
            "len(images)"
         ]
      }
   ],
   "metadata": {
      "kernelspec": {
         "display_name": "Python 3",
         "language": "python",
         "name": "python3"
      },
      "language_info": {
         "codemirror_mode": {
            "name": "ipython",
            "version": 3
         },
         "file_extension": ".py",
         "mimetype": "text/x-python",
         "name": "python",
         "nbconvert_exporter": "python",
         "pygments_lexer": "ipython3",
         "version": "3.10.6"
      }
   },
   "nbformat": 4,
   "nbformat_minor": 2
}
